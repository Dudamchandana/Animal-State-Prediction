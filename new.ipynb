{
  "cells": [
    {
      "cell_type": "markdown",
      "metadata": {
        "id": "PE5w0uzOIug0"
      },
      "source": [
        "# Problem Statement: To analyze the data and predict the status of the animals when they leave the welfare center"
      ]
    },
    {
      "cell_type": "markdown",
      "metadata": {
        "id": "POwVdJUrIug4"
      },
      "source": [
        "The Animal Welfare Center (AWC) is one of the oldest animal shelters in the United States that provide care and shelter to over 15,000 animals each year. To boost its effort to help and care for animals in need, the organization makes available its accumulated data and statistics as part of its Open Data Initiative. The data contains information about the intake and discharge of animals entering the Animal Welfare Center from the beginning of October 2013 to the present day.\n",
        "\n",
        "\n",
        "The AWC wants to make use of this data to help uncover useful insights that have the potential to save these animals’ lives. To make better decisions in the future regarding animal safety, AWC wants to analyze this data and predict the status of the animals when they leave the welfare center."
      ]
    },
    {
      "cell_type": "markdown",
      "metadata": {
        "id": "X3FymvDzIug5"
      },
      "source": [
        "**Problem Type**- Multiclass classification\n",
        "\n",
        "**Chosen workflow Stage-**\n",
        "\n",
        "1) Loading required libraries\n",
        "\n",
        "2) Loading the data\n",
        "\n",
        "3) Missing Value check\n",
        "\n",
        "4) Quick EDA and data cleaning\n",
        "\n",
        "5) Analyse, identify patterns, explore the data\n",
        "\n",
        "6) Feature Engineering\n",
        "\n",
        "7) Encoding the categorical data\n",
        "\n",
        "8) Modelling, tuning and prediction(Multiple iterations and subject to changes)\n",
        "\n",
        "9) Submission of results"
      ]
    },
    {
      "cell_type": "markdown",
      "metadata": {
        "id": "hc3eys67Iug5"
      },
      "source": [
        "** EVALUATION METRIC: f1-score**"
      ]
    },
    {
      "cell_type": "markdown",
      "metadata": {
        "id": "6ddNL86pIug6"
      },
      "source": [
        "**DATA PREPROCESSING**"
      ]
    },
    {
      "cell_type": "markdown",
      "metadata": {
        "id": "GHXTUaTBIug6"
      },
      "source": [
        "# 1. Loading required libraries\n",
        "\n",
        "I have used general libraries like pandas, malplotlib  for assembling, cleaning the data and most importantly libraries containing all the models"
      ]
    },
    {
      "cell_type": "code",
      "execution_count": 1,
      "metadata": {
        "collapsed": true,
        "id": "QFd-KHZlIug7"
      },
      "outputs": [],
      "source": [
        "#LOADING REQUIRED LIBRARIES\n",
        "#Data Visualization libraries\n",
        "import pandas as pd\n",
        "import seaborn as sns\n",
        "import numpy as np\n",
        "\n",
        "#Machine learning classification model libraries\n",
        "from xgboost import XGBClassifier\n",
        "from sklearn.linear_model import LogisticRegression\n",
        "from sklearn.ensemble import RandomForestClassifier\n",
        "from sklearn.ensemble import VotingClassifier\n",
        "from matplotlib import pyplot\n",
        "%matplotlib inline\n",
        "\n",
        "\n",
        "#Accuracy Check\n",
        "from sklearn.model_selection import cross_val_score\n",
        "\n",
        "#Encoders\n",
        "from sklearn.preprocessing import LabelEncoder, OneHotEncoder\n",
        "\n",
        "#Scalers\n",
        "from sklearn.preprocessing import StandardScaler\n",
        "\n",
        "#Metrices import\n",
        "from sklearn.metrics import confusion_matrix\n",
        "from sklearn.metrics import classification_report\n",
        "\n",
        "#Importing train, test split library\n",
        "from sklearn.model_selection import train_test_split\n",
        "\n",
        "# Libraries to test model on different thresholds\n",
        "from sklearn.metrics import accuracy_score\n",
        "from sklearn.metrics import f1_score\n",
        "\n",
        "#Metrices import\n",
        "from sklearn.metrics import confusion_matrix\n",
        "from sklearn.feature_selection import SelectFromModel\n",
        "from numpy import loadtxt\n",
        "from numpy import sort\n",
        "\n",
        "#Import warnings\n",
        "import warnings\n",
        "warnings.filterwarnings(\"ignore\")\n",
        "\n",
        "#Importing custom packages\n",
        "from sklearn.base import TransformerMixin\n",
        "\n",
        "#For proper display of all columns\n",
        "from IPython.display import display\n",
        "pd.options.display.max_columns = None"
      ]
    },
    {
      "cell_type": "markdown",
      "metadata": {
        "id": "F5oCBgfIIug9"
      },
      "source": [
        "** Defining some customer functions for specific use**"
      ]
    },
    {
      "cell_type": "code",
      "execution_count": 2,
      "metadata": {
        "collapsed": true,
        "id": "AgdfKJ3XIug9"
      },
      "outputs": [],
      "source": [
        "#Imputing the remaining missing variables\n",
        "class DataFrameImputer(TransformerMixin):\n",
        "\n",
        "    def __init__(self):\n",
        "        \"\"\"Impute missing values.\n",
        "\n",
        "        Columns of dtype object are imputed with the most frequent value \n",
        "        in column.\n",
        "\n",
        "        Columns of other types are imputed with mean of column.\n",
        "\n",
        "        \"\"\"\n",
        "    def fit(self, A, b=None):\n",
        "\n",
        "        self.fill = pd.Series([A[c].value_counts().index[0]\n",
        "            if A[c].dtype == np.dtype('O') else A[c].mean() for c in A],\n",
        "            index=A.columns)\n",
        "\n",
        "        return self\n",
        "\n",
        "    def transform(self, A, b=None):\n",
        "        return A.fillna(self.fill)"
      ]
    },
    {
      "cell_type": "markdown",
      "metadata": {
        "id": "TLD75QeQIug-"
      },
      "source": [
        "# 2. Loading the dataset"
      ]
    },
    {
      "cell_type": "markdown",
      "metadata": {
        "id": "NyvVs3C1Iug-"
      },
      "source": [
        "Lets have a quick look at the dataset:"
      ]
    },
    {
      "cell_type": "code",
      "execution_count": 3,
      "metadata": {
        "collapsed": true,
        "id": "JaxQ2lMBIug_"
      },
      "outputs": [],
      "source": [
        "ml_train= pd.read_csv('train.csv')\n",
        "ml_test= pd.read_csv('test.csv')"
      ]
    },
    {
      "cell_type": "code",
      "execution_count": 4,
      "metadata": {
        "colab": {
          "base_uri": "https://localhost:8080/",
          "height": 438
        },
        "id": "ZSXuY8g3Iug_",
        "outputId": "82795250-bee8-492c-ea63-f22c650efc8b"
      },
      "outputs": [
        {
          "output_type": "execute_result",
          "data": {
            "text/plain": [
              "Text(0, 0.5, 'Frequency')"
            ]
          },
          "metadata": {},
          "execution_count": 4
        },
        {
          "output_type": "display_data",
          "data": {
            "image/png": "[encoded data removed]",
            "text/plain": [
              "<Figure size 720x360 with 1 Axes>"
            ]
          },
          "metadata": {
            "needs_background": "light"
          }
        }
      ],
      "source": [
        "#Drawing a count plot of dependent variable to check the biasness of prediction in data present\n",
        "ax = ml_train['outcome_type'].value_counts().plot(kind='bar',figsize=(10,5),title=\"Frequency of each outcome type\")\n",
        "ax.set_xlabel(\"Outcome Type\")\n",
        "ax.set_ylabel(\"Frequency\")"
      ]
    },
    {
      "cell_type": "code",
      "execution_count": 5,
      "metadata": {
        "colab": {
          "base_uri": "https://localhost:8080/"
        },
        "id": "6-3T-hA2IuhA",
        "outputId": "2db65c1d-9d23-4d57-b472-c0f98adfd5e2"
      },
      "outputs": [
        {
          "output_type": "stream",
          "name": "stdout",
          "text": [
            "Percent Class Distribution\n",
            "Adoption           27.125913\n",
            "Transfer           21.640901\n",
            "Return to Owner    20.329268\n",
            "Euthanasia          8.668912\n",
            "Died                5.918039\n",
            "Missing             5.436897\n",
            "Relocate            5.382507\n",
            "Rto-Adopt           5.125201\n",
            "Disposal            0.372362\n",
            "Name: outcome_type, dtype: float64\n"
          ]
        }
      ],
      "source": [
        "print(\"Percent Class Distribution\")\n",
        "print(ml_train['outcome_type'].value_counts(normalize= True)*100)"
      ]
    },
    {
      "cell_type": "markdown",
      "metadata": {
        "id": "WbhNNhpXIuhA"
      },
      "source": [
        "Data is highly biased. We need to select our train and test split carefully."
      ]
    },
    {
      "cell_type": "code",
      "execution_count": 6,
      "metadata": {
        "collapsed": true,
        "id": "4MwfhSe8IuhA"
      },
      "outputs": [],
      "source": [
        "#Loading the dataset\n",
        "X= pd.read_csv('train.csv')"
      ]
    },
    {
      "cell_type": "markdown",
      "metadata": {
        "id": "iIeCovoZIuhB"
      },
      "source": [
        "# 3. Missing Value Check"
      ]
    },
    {
      "cell_type": "code",
      "execution_count": 7,
      "metadata": {
        "colab": {
          "base_uri": "https://localhost:8080/",
          "height": 206
        },
        "id": "sxDHJaVlIuhB",
        "outputId": "7b1fad09-81e2-4b9b-f860-43c667617684"
      },
      "outputs": [
        {
          "output_type": "execute_result",
          "data": {
            "text/html": [
              "<div>\n",
              "<style scoped>\n",
              "    .dataframe tbody tr th:only-of-type {\n",
              "        vertical-align: middle;\n",
              "    }\n",
              "\n",
              "    .dataframe tbody tr th {\n",
              "        vertical-align: top;\n",
              "    }\n",
              "\n",
              "    .dataframe thead th {\n",
              "        text-align: right;\n",
              "    }\n",
              "</style>\n",
              "<table border=\"1\" class=\"dataframe\">\n",
              "  <thead>\n",
              "    <tr style=\"text-align: right;\">\n",
              "      <th></th>\n",
              "      <th>Total</th>\n",
              "      <th>Percent(%)</th>\n",
              "    </tr>\n",
              "  </thead>\n",
              "  <tbody>\n",
              "    <tr>\n",
              "      <th>outcome_datetime</th>\n",
              "      <td>9619</td>\n",
              "      <td>20.122168</td>\n",
              "    </tr>\n",
              "    <tr>\n",
              "      <th>sex_upon_intake</th>\n",
              "      <td>1</td>\n",
              "      <td>0.002092</td>\n",
              "    </tr>\n",
              "    <tr>\n",
              "      <th>sex_upon_outcome</th>\n",
              "      <td>1</td>\n",
              "      <td>0.002092</td>\n",
              "    </tr>\n",
              "    <tr>\n",
              "      <th>outcome_type</th>\n",
              "      <td>0</td>\n",
              "      <td>0.000000</td>\n",
              "    </tr>\n",
              "    <tr>\n",
              "      <th>intake_type</th>\n",
              "      <td>0</td>\n",
              "      <td>0.000000</td>\n",
              "    </tr>\n",
              "  </tbody>\n",
              "</table>\n",
              "</div>"
            ],
            "text/plain": [
              "                  Total  Percent(%)\n",
              "outcome_datetime   9619   20.122168\n",
              "sex_upon_intake       1    0.002092\n",
              "sex_upon_outcome      1    0.002092\n",
              "outcome_type          0    0.000000\n",
              "intake_type           0    0.000000"
            ]
          },
          "metadata": {},
          "execution_count": 7
        }
      ],
      "source": [
        "#Missing data check\n",
        "total = X.isnull().sum().sort_values(ascending=False)\n",
        "percent = (X.isnull().sum()/X.isnull().count()).sort_values(ascending=False)\n",
        "missing_data = pd.concat([total, percent * 100], axis=1, keys=['Total', 'Percent(%)'])\n",
        "missing_data.head(5)"
      ]
    },
    {
      "cell_type": "markdown",
      "metadata": {
        "id": "00n1IgimIuhB"
      },
      "source": [
        "Hence we will be dropping outcome_datetime as more than 15% that i selected as a threshold is missing.\n",
        "\n",
        "** \"outcome_datetime\" needs to be dropped remaining two missing values we can impute**"
      ]
    },
    {
      "cell_type": "code",
      "execution_count": 8,
      "metadata": {
        "collapsed": true,
        "id": "jW6jmh9ZIuhB"
      },
      "outputs": [],
      "source": [
        "X = X.drop(['outcome_datetime'], axis  = 1)"
      ]
    },
    {
      "cell_type": "code",
      "execution_count": 9,
      "metadata": {
        "collapsed": true,
        "id": "NdqRVPjrIuhC"
      },
      "outputs": [],
      "source": [
        "X = DataFrameImputer().fit_transform(pd.DataFrame(X))"
      ]
    },
    {
      "cell_type": "code",
      "execution_count": 10,
      "metadata": {
        "colab": {
          "base_uri": "https://localhost:8080/"
        },
        "id": "cIA8P1FNIuhC",
        "outputId": "c2b67b40-4d72-44c5-8a32-8bfbd68759e1"
      },
      "outputs": [
        {
          "output_type": "stream",
          "name": "stdout",
          "text": [
            "Missing value in training set: 0\n"
          ]
        }
      ],
      "source": [
        "print('Missing value in training set:', X.isnull().sum().max())"
      ]
    },
    {
      "cell_type": "markdown",
      "metadata": {
        "id": "hRCrdxGGIuhC"
      },
      "source": [
        "# 4. Quick EDA and data cleaning"
      ]
    },
    {
      "cell_type": "markdown",
      "metadata": {
        "id": "Dxx8i-Y4IuhC"
      },
      "source": [
        "**Description of Numeric variable:**"
      ]
    },
    {
      "cell_type": "code",
      "execution_count": 11,
      "metadata": {
        "colab": {
          "base_uri": "https://localhost:8080/",
          "height": 320
        },
        "id": "qWVc_WBwIuhD",
        "outputId": "96b69de7-3888-4852-b1c2-b8ce6fda84a8"
      },
      "outputs": [
        {
          "output_type": "display_data",
          "data": {
            "text/html": [
              "<div>\n",
              "<style scoped>\n",
              "    .dataframe tbody tr th:only-of-type {\n",
              "        vertical-align: middle;\n",
              "    }\n",
              "\n",
              "    .dataframe tbody tr th {\n",
              "        vertical-align: top;\n",
              "    }\n",
              "\n",
              "    .dataframe thead th {\n",
              "        text-align: right;\n",
              "    }\n",
              "</style>\n",
              "<table border=\"1\" class=\"dataframe\">\n",
              "  <thead>\n",
              "    <tr style=\"text-align: right;\">\n",
              "      <th></th>\n",
              "      <th>dob_year</th>\n",
              "      <th>dob_month</th>\n",
              "      <th>count</th>\n",
              "      <th>age_upon_intake_(days)</th>\n",
              "      <th>age_upon_intake_(years)</th>\n",
              "      <th>intake_month</th>\n",
              "      <th>intake_year</th>\n",
              "      <th>intake_hour</th>\n",
              "      <th>intake_number</th>\n",
              "      <th>time_in_shelter_days</th>\n",
              "      <th>age_upon_outcome_(days)</th>\n",
              "      <th>age_upon_outcome_(years)</th>\n",
              "      <th>outcome_month</th>\n",
              "      <th>outcome_year</th>\n",
              "      <th>outcome_hour</th>\n",
              "      <th>outcome_number</th>\n",
              "    </tr>\n",
              "  </thead>\n",
              "  <tbody>\n",
              "    <tr>\n",
              "      <th>count</th>\n",
              "      <td>47803.000000</td>\n",
              "      <td>47803.000000</td>\n",
              "      <td>47803.0</td>\n",
              "      <td>47803.000000</td>\n",
              "      <td>47803.000000</td>\n",
              "      <td>47803.000000</td>\n",
              "      <td>47803.000000</td>\n",
              "      <td>47803.000000</td>\n",
              "      <td>47803.000000</td>\n",
              "      <td>47803.000000</td>\n",
              "      <td>47803.000000</td>\n",
              "      <td>47803.000000</td>\n",
              "      <td>47803.000000</td>\n",
              "      <td>47803.000000</td>\n",
              "      <td>47803.000000</td>\n",
              "      <td>47803.000000</td>\n",
              "    </tr>\n",
              "    <tr>\n",
              "      <th>mean</th>\n",
              "      <td>2012.197728</td>\n",
              "      <td>6.337531</td>\n",
              "      <td>1.0</td>\n",
              "      <td>841.679915</td>\n",
              "      <td>2.305972</td>\n",
              "      <td>6.596113</td>\n",
              "      <td>2014.600046</td>\n",
              "      <td>13.549087</td>\n",
              "      <td>1.144552</td>\n",
              "      <td>17.143366</td>\n",
              "      <td>855.319729</td>\n",
              "      <td>2.343342</td>\n",
              "      <td>6.650587</td>\n",
              "      <td>2014.638893</td>\n",
              "      <td>14.381545</td>\n",
              "      <td>1.144552</td>\n",
              "    </tr>\n",
              "    <tr>\n",
              "      <th>std</th>\n",
              "      <td>3.068255</td>\n",
              "      <td>3.342038</td>\n",
              "      <td>0.0</td>\n",
              "      <td>1100.557953</td>\n",
              "      <td>3.015227</td>\n",
              "      <td>3.460172</td>\n",
              "      <td>0.905731</td>\n",
              "      <td>3.179397</td>\n",
              "      <td>0.500055</td>\n",
              "      <td>46.600727</td>\n",
              "      <td>1103.598596</td>\n",
              "      <td>3.023558</td>\n",
              "      <td>3.490263</td>\n",
              "      <td>0.912706</td>\n",
              "      <td>3.456145</td>\n",
              "      <td>0.500055</td>\n",
              "    </tr>\n",
              "    <tr>\n",
              "      <th>min</th>\n",
              "      <td>1992.000000</td>\n",
              "      <td>1.000000</td>\n",
              "      <td>1.0</td>\n",
              "      <td>0.000000</td>\n",
              "      <td>0.000000</td>\n",
              "      <td>1.000000</td>\n",
              "      <td>2013.000000</td>\n",
              "      <td>0.000000</td>\n",
              "      <td>1.000000</td>\n",
              "      <td>0.000694</td>\n",
              "      <td>0.000000</td>\n",
              "      <td>0.000000</td>\n",
              "      <td>1.000000</td>\n",
              "      <td>2013.000000</td>\n",
              "      <td>0.000000</td>\n",
              "      <td>1.000000</td>\n",
              "    </tr>\n",
              "    <tr>\n",
              "      <th>25%</th>\n",
              "      <td>2011.000000</td>\n",
              "      <td>4.000000</td>\n",
              "      <td>1.0</td>\n",
              "      <td>60.000000</td>\n",
              "      <td>0.164384</td>\n",
              "      <td>4.000000</td>\n",
              "      <td>2014.000000</td>\n",
              "      <td>11.000000</td>\n",
              "      <td>1.000000</td>\n",
              "      <td>1.049653</td>\n",
              "      <td>90.000000</td>\n",
              "      <td>0.246575</td>\n",
              "      <td>4.000000</td>\n",
              "      <td>2014.000000</td>\n",
              "      <td>12.000000</td>\n",
              "      <td>1.000000</td>\n",
              "    </tr>\n",
              "    <tr>\n",
              "      <th>50%</th>\n",
              "      <td>2013.000000</td>\n",
              "      <td>6.000000</td>\n",
              "      <td>1.0</td>\n",
              "      <td>365.000000</td>\n",
              "      <td>1.000000</td>\n",
              "      <td>7.000000</td>\n",
              "      <td>2015.000000</td>\n",
              "      <td>13.000000</td>\n",
              "      <td>1.000000</td>\n",
              "      <td>4.972222</td>\n",
              "      <td>365.000000</td>\n",
              "      <td>1.000000</td>\n",
              "      <td>7.000000</td>\n",
              "      <td>2015.000000</td>\n",
              "      <td>15.000000</td>\n",
              "      <td>1.000000</td>\n",
              "    </tr>\n",
              "    <tr>\n",
              "      <th>75%</th>\n",
              "      <td>2014.000000</td>\n",
              "      <td>9.000000</td>\n",
              "      <td>1.0</td>\n",
              "      <td>1095.000000</td>\n",
              "      <td>3.000000</td>\n",
              "      <td>10.000000</td>\n",
              "      <td>2015.000000</td>\n",
              "      <td>16.000000</td>\n",
              "      <td>1.000000</td>\n",
              "      <td>13.113889</td>\n",
              "      <td>1095.000000</td>\n",
              "      <td>3.000000</td>\n",
              "      <td>10.000000</td>\n",
              "      <td>2015.000000</td>\n",
              "      <td>17.000000</td>\n",
              "      <td>1.000000</td>\n",
              "    </tr>\n",
              "    <tr>\n",
              "      <th>max</th>\n",
              "      <td>2016.000000</td>\n",
              "      <td>12.000000</td>\n",
              "      <td>1.0</td>\n",
              "      <td>8030.000000</td>\n",
              "      <td>22.000000</td>\n",
              "      <td>12.000000</td>\n",
              "      <td>2018.000000</td>\n",
              "      <td>23.000000</td>\n",
              "      <td>13.000000</td>\n",
              "      <td>1606.194444</td>\n",
              "      <td>8030.000000</td>\n",
              "      <td>22.000000</td>\n",
              "      <td>12.000000</td>\n",
              "      <td>2018.000000</td>\n",
              "      <td>23.000000</td>\n",
              "      <td>13.000000</td>\n",
              "    </tr>\n",
              "  </tbody>\n",
              "</table>\n",
              "</div>"
            ],
            "text/plain": [
              "           dob_year     dob_month    count  age_upon_intake_(days)  \\\n",
              "count  47803.000000  47803.000000  47803.0            47803.000000   \n",
              "mean    2012.197728      6.337531      1.0              841.679915   \n",
              "std        3.068255      3.342038      0.0             1100.557953   \n",
              "min     1992.000000      1.000000      1.0                0.000000   \n",
              "25%     2011.000000      4.000000      1.0               60.000000   \n",
              "50%     2013.000000      6.000000      1.0              365.000000   \n",
              "75%     2014.000000      9.000000      1.0             1095.000000   \n",
              "max     2016.000000     12.000000      1.0             8030.000000   \n",
              "\n",
              "       age_upon_intake_(years)  intake_month   intake_year   intake_hour  \\\n",
              "count             47803.000000  47803.000000  47803.000000  47803.000000   \n",
              "mean                  2.305972      6.596113   2014.600046     13.549087   \n",
              "std                   3.015227      3.460172      0.905731      3.179397   \n",
              "min                   0.000000      1.000000   2013.000000      0.000000   \n",
              "25%                   0.164384      4.000000   2014.000000     11.000000   \n",
              "50%                   1.000000      7.000000   2015.000000     13.000000   \n",
              "75%                   3.000000     10.000000   2015.000000     16.000000   \n",
              "max                  22.000000     12.000000   2018.000000     23.000000   \n",
              "\n",
              "       intake_number  time_in_shelter_days  age_upon_outcome_(days)  \\\n",
              "count   47803.000000          47803.000000             47803.000000   \n",
              "mean        1.144552             17.143366               855.319729   \n",
              "std         0.500055             46.600727              1103.598596   \n",
              "min         1.000000              0.000694                 0.000000   \n",
              "25%         1.000000              1.049653                90.000000   \n",
              "50%         1.000000              4.972222               365.000000   \n",
              "75%         1.000000             13.113889              1095.000000   \n",
              "max        13.000000           1606.194444              8030.000000   \n",
              "\n",
              "       age_upon_outcome_(years)  outcome_month  outcome_year  outcome_hour  \\\n",
              "count              47803.000000   47803.000000  47803.000000  47803.000000   \n",
              "mean                   2.343342       6.650587   2014.638893     14.381545   \n",
              "std                    3.023558       3.490263      0.912706      3.456145   \n",
              "min                    0.000000       1.000000   2013.000000      0.000000   \n",
              "25%                    0.246575       4.000000   2014.000000     12.000000   \n",
              "50%                    1.000000       7.000000   2015.000000     15.000000   \n",
              "75%                    3.000000      10.000000   2015.000000     17.000000   \n",
              "max                   22.000000      12.000000   2018.000000     23.000000   \n",
              "\n",
              "       outcome_number  \n",
              "count    47803.000000  \n",
              "mean         1.144552  \n",
              "std          0.500055  \n",
              "min          1.000000  \n",
              "25%          1.000000  \n",
              "50%          1.000000  \n",
              "75%          1.000000  \n",
              "max         13.000000  "
            ]
          },
          "metadata": {}
        }
      ],
      "source": [
        "display(X.describe())"
      ]
    },
    {
      "cell_type": "markdown",
      "metadata": {
        "id": "AvIWmHqeIuhD"
      },
      "source": [
        "Couple of quick observations:\n",
        "\n",
        "1. The variable **\"count\"** is having std 0 and min and max 1, implies it is a constant column having digit 1 hence we will be **dropping** this variable.\n",
        "\n",
        "2. Also the statistics of **\"intake_number\"** and **\"outcome_number\"** looks similar hence lets quickly check and take a call."
      ]
    },
    {
      "cell_type": "code",
      "execution_count": 12,
      "metadata": {
        "colab": {
          "base_uri": "https://localhost:8080/",
          "height": 488
        },
        "id": "xHzDNWB3IuhD",
        "outputId": "e41b165f-3f74-4ac4-d11b-9a315acbae15"
      },
      "outputs": [
        {
          "output_type": "display_data",
          "data": {
            "text/html": [
              "<div>\n",
              "<style scoped>\n",
              "    .dataframe tbody tr th:only-of-type {\n",
              "        vertical-align: middle;\n",
              "    }\n",
              "\n",
              "    .dataframe tbody tr th {\n",
              "        vertical-align: top;\n",
              "    }\n",
              "\n",
              "    .dataframe thead th {\n",
              "        text-align: right;\n",
              "    }\n",
              "</style>\n",
              "<table border=\"1\" class=\"dataframe\">\n",
              "  <thead>\n",
              "    <tr style=\"text-align: right;\">\n",
              "      <th></th>\n",
              "      <th></th>\n",
              "      <th>0</th>\n",
              "    </tr>\n",
              "    <tr>\n",
              "      <th>intake_number</th>\n",
              "      <th>outcome_number</th>\n",
              "      <th></th>\n",
              "    </tr>\n",
              "  </thead>\n",
              "  <tbody>\n",
              "    <tr>\n",
              "      <th>1.0</th>\n",
              "      <th>1.0</th>\n",
              "      <td>42691</td>\n",
              "    </tr>\n",
              "    <tr>\n",
              "      <th>2.0</th>\n",
              "      <th>2.0</th>\n",
              "      <td>3956</td>\n",
              "    </tr>\n",
              "    <tr>\n",
              "      <th>3.0</th>\n",
              "      <th>3.0</th>\n",
              "      <td>789</td>\n",
              "    </tr>\n",
              "    <tr>\n",
              "      <th>4.0</th>\n",
              "      <th>4.0</th>\n",
              "      <td>226</td>\n",
              "    </tr>\n",
              "    <tr>\n",
              "      <th>5.0</th>\n",
              "      <th>5.0</th>\n",
              "      <td>80</td>\n",
              "    </tr>\n",
              "    <tr>\n",
              "      <th>6.0</th>\n",
              "      <th>6.0</th>\n",
              "      <td>32</td>\n",
              "    </tr>\n",
              "    <tr>\n",
              "      <th>7.0</th>\n",
              "      <th>7.0</th>\n",
              "      <td>12</td>\n",
              "    </tr>\n",
              "    <tr>\n",
              "      <th>8.0</th>\n",
              "      <th>8.0</th>\n",
              "      <td>6</td>\n",
              "    </tr>\n",
              "    <tr>\n",
              "      <th>9.0</th>\n",
              "      <th>9.0</th>\n",
              "      <td>3</td>\n",
              "    </tr>\n",
              "    <tr>\n",
              "      <th>10.0</th>\n",
              "      <th>10.0</th>\n",
              "      <td>3</td>\n",
              "    </tr>\n",
              "    <tr>\n",
              "      <th>11.0</th>\n",
              "      <th>11.0</th>\n",
              "      <td>3</td>\n",
              "    </tr>\n",
              "    <tr>\n",
              "      <th>12.0</th>\n",
              "      <th>12.0</th>\n",
              "      <td>1</td>\n",
              "    </tr>\n",
              "    <tr>\n",
              "      <th>13.0</th>\n",
              "      <th>13.0</th>\n",
              "      <td>1</td>\n",
              "    </tr>\n",
              "  </tbody>\n",
              "</table>\n",
              "</div>"
            ],
            "text/plain": [
              "                                  0\n",
              "intake_number outcome_number       \n",
              "1.0           1.0             42691\n",
              "2.0           2.0              3956\n",
              "3.0           3.0               789\n",
              "4.0           4.0               226\n",
              "5.0           5.0                80\n",
              "6.0           6.0                32\n",
              "7.0           7.0                12\n",
              "8.0           8.0                 6\n",
              "9.0           9.0                 3\n",
              "10.0          10.0                3\n",
              "11.0          11.0                3\n",
              "12.0          12.0                1\n",
              "13.0          13.0                1"
            ]
          },
          "metadata": {}
        }
      ],
      "source": [
        "qck_check= pd.DataFrame(X.groupby(['intake_number', 'outcome_number']).size())\n",
        "display(qck_check)"
      ]
    },
    {
      "cell_type": "markdown",
      "metadata": {
        "id": "sra4a1uWIuhD"
      },
      "source": [
        "This implies **\"intake_number\"** and **\"outcome_number\"** are **duplicate columns** hence we will **drop** anyone of the variable, **lets drop \"outcome_number\"** ."
      ]
    },
    {
      "cell_type": "markdown",
      "metadata": {
        "id": "hsjqyIWSIuhD"
      },
      "source": [
        "Applying quick eda observations i.e. to drop outcome_number and count column:"
      ]
    },
    {
      "cell_type": "code",
      "execution_count": 13,
      "metadata": {
        "colab": {
          "base_uri": "https://localhost:8080/"
        },
        "id": "AY-1dbw8IuhD",
        "outputId": "c7c9d75e-8088-4664-c69e-68f14815d6ea"
      },
      "outputs": [
        {
          "output_type": "execute_result",
          "data": {
            "text/plain": [
              "(47803, 34)"
            ]
          },
          "metadata": {},
          "execution_count": 13
        }
      ],
      "source": [
        "X = X.drop(['count', 'outcome_number'], axis = 1)\n",
        "X.shape"
      ]
    },
    {
      "cell_type": "markdown",
      "metadata": {
        "id": "4j20Cpz0IuhE"
      },
      "source": [
        "**Description of Categorical variable**:"
      ]
    },
    {
      "cell_type": "code",
      "execution_count": 14,
      "metadata": {
        "colab": {
          "base_uri": "https://localhost:8080/",
          "height": 230
        },
        "id": "--453_XxIuhE",
        "outputId": "c1401d36-a1b5-4cfa-d849-8ef3458980ff"
      },
      "outputs": [
        {
          "output_type": "execute_result",
          "data": {
            "text/html": [
              "<div>\n",
              "<style scoped>\n",
              "    .dataframe tbody tr th:only-of-type {\n",
              "        vertical-align: middle;\n",
              "    }\n",
              "\n",
              "    .dataframe tbody tr th {\n",
              "        vertical-align: top;\n",
              "    }\n",
              "\n",
              "    .dataframe thead th {\n",
              "        text-align: right;\n",
              "    }\n",
              "</style>\n",
              "<table border=\"1\" class=\"dataframe\">\n",
              "  <thead>\n",
              "    <tr style=\"text-align: right;\">\n",
              "      <th></th>\n",
              "      <th>animal_id_outcome</th>\n",
              "      <th>age_upon_intake</th>\n",
              "      <th>animal_type</th>\n",
              "      <th>breed</th>\n",
              "      <th>color</th>\n",
              "      <th>intake_condition</th>\n",
              "      <th>intake_type</th>\n",
              "      <th>sex_upon_intake</th>\n",
              "      <th>age_upon_intake_age_group</th>\n",
              "      <th>intake_datetime</th>\n",
              "      <th>intake_monthyear</th>\n",
              "      <th>intake_weekday</th>\n",
              "      <th>time_in_shelter</th>\n",
              "      <th>age_upon_outcome</th>\n",
              "      <th>date_of_birth</th>\n",
              "      <th>sex_upon_outcome</th>\n",
              "      <th>age_upon_outcome_age_group</th>\n",
              "      <th>outcome_monthyear</th>\n",
              "      <th>outcome_weekday</th>\n",
              "      <th>outcome_type</th>\n",
              "    </tr>\n",
              "  </thead>\n",
              "  <tbody>\n",
              "    <tr>\n",
              "      <th>count</th>\n",
              "      <td>47803</td>\n",
              "      <td>47803</td>\n",
              "      <td>47803</td>\n",
              "      <td>47803</td>\n",
              "      <td>47803</td>\n",
              "      <td>47803</td>\n",
              "      <td>47803</td>\n",
              "      <td>47803</td>\n",
              "      <td>47803</td>\n",
              "      <td>47803</td>\n",
              "      <td>47803</td>\n",
              "      <td>47803</td>\n",
              "      <td>47803</td>\n",
              "      <td>47803</td>\n",
              "      <td>47803</td>\n",
              "      <td>47803</td>\n",
              "      <td>47803</td>\n",
              "      <td>47803</td>\n",
              "      <td>47803</td>\n",
              "      <td>47803</td>\n",
              "    </tr>\n",
              "    <tr>\n",
              "      <th>unique</th>\n",
              "      <td>42679</td>\n",
              "      <td>45</td>\n",
              "      <td>4</td>\n",
              "      <td>1847</td>\n",
              "      <td>443</td>\n",
              "      <td>8</td>\n",
              "      <td>5</td>\n",
              "      <td>5</td>\n",
              "      <td>9</td>\n",
              "      <td>34456</td>\n",
              "      <td>54</td>\n",
              "      <td>7</td>\n",
              "      <td>21083</td>\n",
              "      <td>45</td>\n",
              "      <td>4958</td>\n",
              "      <td>5</td>\n",
              "      <td>9</td>\n",
              "      <td>55</td>\n",
              "      <td>7</td>\n",
              "      <td>9</td>\n",
              "    </tr>\n",
              "    <tr>\n",
              "      <th>top</th>\n",
              "      <td>A721033</td>\n",
              "      <td>1 year</td>\n",
              "      <td>Dog</td>\n",
              "      <td>Domestic Shorthair Mix</td>\n",
              "      <td>Black/White</td>\n",
              "      <td>Normal</td>\n",
              "      <td>Stray</td>\n",
              "      <td>Intact Male</td>\n",
              "      <td>(-0.025, 2.5]</td>\n",
              "      <td>2014-07-09 12:58:00</td>\n",
              "      <td>2015-06</td>\n",
              "      <td>Saturday</td>\n",
              "      <td>0 days 00:13:00.000000000</td>\n",
              "      <td>1 year</td>\n",
              "      <td>2014-05-05 00:00:00</td>\n",
              "      <td>Neutered Male</td>\n",
              "      <td>(-0.025, 2.5]</td>\n",
              "      <td>2014-07</td>\n",
              "      <td>Saturday</td>\n",
              "      <td>Adoption</td>\n",
              "    </tr>\n",
              "    <tr>\n",
              "      <th>freq</th>\n",
              "      <td>13</td>\n",
              "      <td>8014</td>\n",
              "      <td>28222</td>\n",
              "      <td>13339</td>\n",
              "      <td>4975</td>\n",
              "      <td>41885</td>\n",
              "      <td>33345</td>\n",
              "      <td>14665</td>\n",
              "      <td>34049</td>\n",
              "      <td>63</td>\n",
              "      <td>2188</td>\n",
              "      <td>7371</td>\n",
              "      <td>56</td>\n",
              "      <td>8100</td>\n",
              "      <td>102</td>\n",
              "      <td>17560</td>\n",
              "      <td>33895</td>\n",
              "      <td>2072</td>\n",
              "      <td>7628</td>\n",
              "      <td>12967</td>\n",
              "    </tr>\n",
              "  </tbody>\n",
              "</table>\n",
              "</div>"
            ],
            "text/plain": [
              "       animal_id_outcome age_upon_intake animal_type                   breed  \\\n",
              "count              47803           47803       47803                   47803   \n",
              "unique             42679              45           4                    1847   \n",
              "top              A721033          1 year         Dog  Domestic Shorthair Mix   \n",
              "freq                  13            8014       28222                   13339   \n",
              "\n",
              "              color intake_condition intake_type sex_upon_intake  \\\n",
              "count         47803            47803       47803           47803   \n",
              "unique          443                8           5               5   \n",
              "top     Black/White           Normal       Stray     Intact Male   \n",
              "freq           4975            41885       33345           14665   \n",
              "\n",
              "       age_upon_intake_age_group      intake_datetime intake_monthyear  \\\n",
              "count                      47803                47803            47803   \n",
              "unique                         9                34456               54   \n",
              "top                (-0.025, 2.5]  2014-07-09 12:58:00          2015-06   \n",
              "freq                       34049                   63             2188   \n",
              "\n",
              "       intake_weekday            time_in_shelter age_upon_outcome  \\\n",
              "count           47803                      47803            47803   \n",
              "unique              7                      21083               45   \n",
              "top          Saturday  0 days 00:13:00.000000000           1 year   \n",
              "freq             7371                         56             8100   \n",
              "\n",
              "              date_of_birth sex_upon_outcome age_upon_outcome_age_group  \\\n",
              "count                 47803            47803                      47803   \n",
              "unique                 4958                5                          9   \n",
              "top     2014-05-05 00:00:00    Neutered Male              (-0.025, 2.5]   \n",
              "freq                    102            17560                      33895   \n",
              "\n",
              "       outcome_monthyear outcome_weekday outcome_type  \n",
              "count              47803           47803        47803  \n",
              "unique                55               7            9  \n",
              "top              2014-07        Saturday     Adoption  \n",
              "freq                2072            7628        12967  "
            ]
          },
          "metadata": {},
          "execution_count": 14
        }
      ],
      "source": [
        "X.describe(include = ['O'])"
      ]
    },
    {
      "cell_type": "code",
      "execution_count": 15,
      "metadata": {
        "colab": {
          "base_uri": "https://localhost:8080/",
          "height": 928
        },
        "id": "DLT50h2CIuhE",
        "outputId": "abdaddf4-04cd-485c-dd17-db628befcafa",
        "scrolled": true
      },
      "outputs": [
        {
          "output_type": "execute_result",
          "data": {
            "text/html": [
              "<div>\n",
              "<style scoped>\n",
              "    .dataframe tbody tr th:only-of-type {\n",
              "        vertical-align: middle;\n",
              "    }\n",
              "\n",
              "    .dataframe tbody tr th {\n",
              "        vertical-align: top;\n",
              "    }\n",
              "\n",
              "    .dataframe thead th {\n",
              "        text-align: right;\n",
              "    }\n",
              "</style>\n",
              "<table border=\"1\" class=\"dataframe\">\n",
              "  <thead>\n",
              "    <tr style=\"text-align: right;\">\n",
              "      <th></th>\n",
              "      <th>animal_id_outcome</th>\n",
              "      <th>dob_year</th>\n",
              "      <th>dob_month</th>\n",
              "      <th>age_upon_intake</th>\n",
              "      <th>animal_type</th>\n",
              "      <th>breed</th>\n",
              "      <th>color</th>\n",
              "      <th>intake_condition</th>\n",
              "      <th>intake_type</th>\n",
              "      <th>sex_upon_intake</th>\n",
              "      <th>age_upon_intake_(days)</th>\n",
              "      <th>age_upon_intake_(years)</th>\n",
              "      <th>age_upon_intake_age_group</th>\n",
              "      <th>intake_datetime</th>\n",
              "      <th>intake_month</th>\n",
              "      <th>intake_year</th>\n",
              "      <th>intake_monthyear</th>\n",
              "      <th>intake_weekday</th>\n",
              "      <th>intake_hour</th>\n",
              "      <th>intake_number</th>\n",
              "      <th>time_in_shelter</th>\n",
              "      <th>time_in_shelter_days</th>\n",
              "      <th>age_upon_outcome</th>\n",
              "      <th>date_of_birth</th>\n",
              "      <th>sex_upon_outcome</th>\n",
              "      <th>age_upon_outcome_(days)</th>\n",
              "      <th>age_upon_outcome_(years)</th>\n",
              "      <th>age_upon_outcome_age_group</th>\n",
              "      <th>outcome_month</th>\n",
              "      <th>outcome_year</th>\n",
              "      <th>outcome_monthyear</th>\n",
              "      <th>outcome_weekday</th>\n",
              "      <th>outcome_hour</th>\n",
              "      <th>outcome_type</th>\n",
              "    </tr>\n",
              "  </thead>\n",
              "  <tbody>\n",
              "    <tr>\n",
              "      <th>46278</th>\n",
              "      <td>A721033</td>\n",
              "      <td>2015</td>\n",
              "      <td>5</td>\n",
              "      <td>2 years</td>\n",
              "      <td>Dog</td>\n",
              "      <td>Rat Terrier Mix</td>\n",
              "      <td>Tricolor/Brown Brindle</td>\n",
              "      <td>Normal</td>\n",
              "      <td>Stray</td>\n",
              "      <td>Neutered Male</td>\n",
              "      <td>730</td>\n",
              "      <td>2.000000</td>\n",
              "      <td>(-0.025, 2.5]</td>\n",
              "      <td>2018-03-14 10:57:00</td>\n",
              "      <td>3</td>\n",
              "      <td>2018</td>\n",
              "      <td>2018-03</td>\n",
              "      <td>Wednesday</td>\n",
              "      <td>10</td>\n",
              "      <td>1.0</td>\n",
              "      <td>2 days 05:07:00.000000000</td>\n",
              "      <td>2.213194</td>\n",
              "      <td>2 years</td>\n",
              "      <td>2015-05-20 00:00:00</td>\n",
              "      <td>Neutered Male</td>\n",
              "      <td>730</td>\n",
              "      <td>2.000000</td>\n",
              "      <td>(-0.025, 2.5]</td>\n",
              "      <td>3</td>\n",
              "      <td>2018</td>\n",
              "      <td>2018-03</td>\n",
              "      <td>Friday</td>\n",
              "      <td>16</td>\n",
              "      <td>Return to Owner</td>\n",
              "    </tr>\n",
              "    <tr>\n",
              "      <th>46279</th>\n",
              "      <td>A721033</td>\n",
              "      <td>2015</td>\n",
              "      <td>5</td>\n",
              "      <td>1 year</td>\n",
              "      <td>Dog</td>\n",
              "      <td>Rat Terrier Mix</td>\n",
              "      <td>Tricolor/Brown Brindle</td>\n",
              "      <td>Normal</td>\n",
              "      <td>Public Assist</td>\n",
              "      <td>Neutered Male</td>\n",
              "      <td>365</td>\n",
              "      <td>1.000000</td>\n",
              "      <td>(-0.025, 2.5]</td>\n",
              "      <td>2016-10-20 22:47:00</td>\n",
              "      <td>10</td>\n",
              "      <td>2016</td>\n",
              "      <td>2016-10</td>\n",
              "      <td>Thursday</td>\n",
              "      <td>22</td>\n",
              "      <td>10.0</td>\n",
              "      <td>0 days 20:08:00.000000000</td>\n",
              "      <td>0.838889</td>\n",
              "      <td>1 year</td>\n",
              "      <td>2015-05-20 00:00:00</td>\n",
              "      <td>Neutered Male</td>\n",
              "      <td>365</td>\n",
              "      <td>1.000000</td>\n",
              "      <td>(-0.025, 2.5]</td>\n",
              "      <td>10</td>\n",
              "      <td>2016</td>\n",
              "      <td>2016-10</td>\n",
              "      <td>Friday</td>\n",
              "      <td>18</td>\n",
              "      <td>Return to Owner</td>\n",
              "    </tr>\n",
              "    <tr>\n",
              "      <th>46280</th>\n",
              "      <td>A721033</td>\n",
              "      <td>2015</td>\n",
              "      <td>5</td>\n",
              "      <td>1 year</td>\n",
              "      <td>Dog</td>\n",
              "      <td>Rat Terrier Mix</td>\n",
              "      <td>Tricolor/Brown Brindle</td>\n",
              "      <td>Normal</td>\n",
              "      <td>Public Assist</td>\n",
              "      <td>Neutered Male</td>\n",
              "      <td>365</td>\n",
              "      <td>1.000000</td>\n",
              "      <td>(-0.025, 2.5]</td>\n",
              "      <td>2016-09-03 14:30:00</td>\n",
              "      <td>9</td>\n",
              "      <td>2016</td>\n",
              "      <td>2016-09</td>\n",
              "      <td>Saturday</td>\n",
              "      <td>14</td>\n",
              "      <td>11.0</td>\n",
              "      <td>8 days 23:10:00.000000000</td>\n",
              "      <td>8.965278</td>\n",
              "      <td>1 year</td>\n",
              "      <td>2015-05-20 00:00:00</td>\n",
              "      <td>Neutered Male</td>\n",
              "      <td>365</td>\n",
              "      <td>1.000000</td>\n",
              "      <td>(-0.025, 2.5]</td>\n",
              "      <td>9</td>\n",
              "      <td>2016</td>\n",
              "      <td>2016-09</td>\n",
              "      <td>Monday</td>\n",
              "      <td>13</td>\n",
              "      <td>Return to Owner</td>\n",
              "    </tr>\n",
              "    <tr>\n",
              "      <th>46281</th>\n",
              "      <td>A721033</td>\n",
              "      <td>2015</td>\n",
              "      <td>5</td>\n",
              "      <td>1 year</td>\n",
              "      <td>Dog</td>\n",
              "      <td>Rat Terrier Mix</td>\n",
              "      <td>Tricolor/Brown Brindle</td>\n",
              "      <td>Normal</td>\n",
              "      <td>Stray</td>\n",
              "      <td>Neutered Male</td>\n",
              "      <td>365</td>\n",
              "      <td>1.000000</td>\n",
              "      <td>(-0.025, 2.5]</td>\n",
              "      <td>2016-07-10 11:53:00</td>\n",
              "      <td>7</td>\n",
              "      <td>2016</td>\n",
              "      <td>2016-07</td>\n",
              "      <td>Sunday</td>\n",
              "      <td>11</td>\n",
              "      <td>12.0</td>\n",
              "      <td>1 days 05:51:00.000000000</td>\n",
              "      <td>1.243750</td>\n",
              "      <td>1 year</td>\n",
              "      <td>2015-05-20 00:00:00</td>\n",
              "      <td>Neutered Male</td>\n",
              "      <td>365</td>\n",
              "      <td>1.000000</td>\n",
              "      <td>(-0.025, 2.5]</td>\n",
              "      <td>7</td>\n",
              "      <td>2016</td>\n",
              "      <td>2016-07</td>\n",
              "      <td>Monday</td>\n",
              "      <td>17</td>\n",
              "      <td>Return to Owner</td>\n",
              "    </tr>\n",
              "    <tr>\n",
              "      <th>46282</th>\n",
              "      <td>A721033</td>\n",
              "      <td>2015</td>\n",
              "      <td>5</td>\n",
              "      <td>9 months</td>\n",
              "      <td>Dog</td>\n",
              "      <td>Rat Terrier Mix</td>\n",
              "      <td>Tricolor/Brown Brindle</td>\n",
              "      <td>Normal</td>\n",
              "      <td>Stray</td>\n",
              "      <td>Neutered Male</td>\n",
              "      <td>270</td>\n",
              "      <td>0.739726</td>\n",
              "      <td>(-0.025, 2.5]</td>\n",
              "      <td>2016-02-20 10:44:00</td>\n",
              "      <td>2</td>\n",
              "      <td>2016</td>\n",
              "      <td>2016-02</td>\n",
              "      <td>Saturday</td>\n",
              "      <td>10</td>\n",
              "      <td>13.0</td>\n",
              "      <td>0 days 05:34:00.000000000</td>\n",
              "      <td>0.231944</td>\n",
              "      <td>9 months</td>\n",
              "      <td>2015-05-20 00:00:00</td>\n",
              "      <td>Neutered Male</td>\n",
              "      <td>270</td>\n",
              "      <td>0.739726</td>\n",
              "      <td>(-0.025, 2.5]</td>\n",
              "      <td>2</td>\n",
              "      <td>2016</td>\n",
              "      <td>2016-02</td>\n",
              "      <td>Saturday</td>\n",
              "      <td>16</td>\n",
              "      <td>Return to Owner</td>\n",
              "    </tr>\n",
              "    <tr>\n",
              "      <th>46283</th>\n",
              "      <td>A721033</td>\n",
              "      <td>2015</td>\n",
              "      <td>5</td>\n",
              "      <td>2 years</td>\n",
              "      <td>Dog</td>\n",
              "      <td>Rat Terrier Mix</td>\n",
              "      <td>Tricolor/Brown Brindle</td>\n",
              "      <td>Normal</td>\n",
              "      <td>Public Assist</td>\n",
              "      <td>Neutered Male</td>\n",
              "      <td>730</td>\n",
              "      <td>2.000000</td>\n",
              "      <td>(-0.025, 2.5]</td>\n",
              "      <td>2018-03-07 08:27:00</td>\n",
              "      <td>3</td>\n",
              "      <td>2018</td>\n",
              "      <td>2018-03</td>\n",
              "      <td>Wednesday</td>\n",
              "      <td>8</td>\n",
              "      <td>2.0</td>\n",
              "      <td>1 days 06:37:00.000000000</td>\n",
              "      <td>1.275694</td>\n",
              "      <td>2 years</td>\n",
              "      <td>2015-05-20 00:00:00</td>\n",
              "      <td>Neutered Male</td>\n",
              "      <td>730</td>\n",
              "      <td>2.000000</td>\n",
              "      <td>(-0.025, 2.5]</td>\n",
              "      <td>3</td>\n",
              "      <td>2018</td>\n",
              "      <td>2018-03</td>\n",
              "      <td>Thursday</td>\n",
              "      <td>15</td>\n",
              "      <td>Return to Owner</td>\n",
              "    </tr>\n",
              "    <tr>\n",
              "      <th>46284</th>\n",
              "      <td>A721033</td>\n",
              "      <td>2015</td>\n",
              "      <td>5</td>\n",
              "      <td>2 years</td>\n",
              "      <td>Dog</td>\n",
              "      <td>Rat Terrier Mix</td>\n",
              "      <td>Tricolor/Brown Brindle</td>\n",
              "      <td>Normal</td>\n",
              "      <td>Public Assist</td>\n",
              "      <td>Neutered Male</td>\n",
              "      <td>730</td>\n",
              "      <td>2.000000</td>\n",
              "      <td>(-0.025, 2.5]</td>\n",
              "      <td>2018-02-22 10:28:00</td>\n",
              "      <td>2</td>\n",
              "      <td>2018</td>\n",
              "      <td>2018-02</td>\n",
              "      <td>Thursday</td>\n",
              "      <td>10</td>\n",
              "      <td>3.0</td>\n",
              "      <td>1 days 02:38:00.000000000</td>\n",
              "      <td>1.109722</td>\n",
              "      <td>2 years</td>\n",
              "      <td>2015-05-20 00:00:00</td>\n",
              "      <td>Neutered Male</td>\n",
              "      <td>730</td>\n",
              "      <td>2.000000</td>\n",
              "      <td>(-0.025, 2.5]</td>\n",
              "      <td>2</td>\n",
              "      <td>2018</td>\n",
              "      <td>2018-02</td>\n",
              "      <td>Friday</td>\n",
              "      <td>13</td>\n",
              "      <td>Return to Owner</td>\n",
              "    </tr>\n",
              "    <tr>\n",
              "      <th>46285</th>\n",
              "      <td>A721033</td>\n",
              "      <td>2015</td>\n",
              "      <td>5</td>\n",
              "      <td>1 year</td>\n",
              "      <td>Dog</td>\n",
              "      <td>Rat Terrier Mix</td>\n",
              "      <td>Tricolor/Brown Brindle</td>\n",
              "      <td>Normal</td>\n",
              "      <td>Public Assist</td>\n",
              "      <td>Neutered Male</td>\n",
              "      <td>365</td>\n",
              "      <td>1.000000</td>\n",
              "      <td>(-0.025, 2.5]</td>\n",
              "      <td>2017-03-15 09:24:00</td>\n",
              "      <td>3</td>\n",
              "      <td>2017</td>\n",
              "      <td>2017-03</td>\n",
              "      <td>Wednesday</td>\n",
              "      <td>9</td>\n",
              "      <td>4.0</td>\n",
              "      <td>1 days 03:26:00.000000000</td>\n",
              "      <td>1.143056</td>\n",
              "      <td>1 year</td>\n",
              "      <td>2015-05-20 00:00:00</td>\n",
              "      <td>Neutered Male</td>\n",
              "      <td>365</td>\n",
              "      <td>1.000000</td>\n",
              "      <td>(-0.025, 2.5]</td>\n",
              "      <td>3</td>\n",
              "      <td>2017</td>\n",
              "      <td>2017-03</td>\n",
              "      <td>Thursday</td>\n",
              "      <td>12</td>\n",
              "      <td>Return to Owner</td>\n",
              "    </tr>\n",
              "    <tr>\n",
              "      <th>46286</th>\n",
              "      <td>A721033</td>\n",
              "      <td>2015</td>\n",
              "      <td>5</td>\n",
              "      <td>1 year</td>\n",
              "      <td>Dog</td>\n",
              "      <td>Rat Terrier Mix</td>\n",
              "      <td>Tricolor/Brown Brindle</td>\n",
              "      <td>Normal</td>\n",
              "      <td>Public Assist</td>\n",
              "      <td>Neutered Male</td>\n",
              "      <td>365</td>\n",
              "      <td>1.000000</td>\n",
              "      <td>(-0.025, 2.5]</td>\n",
              "      <td>2017-02-06 10:13:00</td>\n",
              "      <td>2</td>\n",
              "      <td>2017</td>\n",
              "      <td>2017-02</td>\n",
              "      <td>Monday</td>\n",
              "      <td>10</td>\n",
              "      <td>5.0</td>\n",
              "      <td>1 days 07:13:00.000000000</td>\n",
              "      <td>1.300694</td>\n",
              "      <td>1 year</td>\n",
              "      <td>2015-05-20 00:00:00</td>\n",
              "      <td>Neutered Male</td>\n",
              "      <td>365</td>\n",
              "      <td>1.000000</td>\n",
              "      <td>(-0.025, 2.5]</td>\n",
              "      <td>2</td>\n",
              "      <td>2017</td>\n",
              "      <td>2017-02</td>\n",
              "      <td>Tuesday</td>\n",
              "      <td>17</td>\n",
              "      <td>Return to Owner</td>\n",
              "    </tr>\n",
              "    <tr>\n",
              "      <th>46287</th>\n",
              "      <td>A721033</td>\n",
              "      <td>2015</td>\n",
              "      <td>5</td>\n",
              "      <td>1 year</td>\n",
              "      <td>Dog</td>\n",
              "      <td>Rat Terrier Mix</td>\n",
              "      <td>Tricolor/Brown Brindle</td>\n",
              "      <td>Normal</td>\n",
              "      <td>Public Assist</td>\n",
              "      <td>Neutered Male</td>\n",
              "      <td>365</td>\n",
              "      <td>1.000000</td>\n",
              "      <td>(-0.025, 2.5]</td>\n",
              "      <td>2017-01-30 23:05:00</td>\n",
              "      <td>1</td>\n",
              "      <td>2017</td>\n",
              "      <td>2017-01</td>\n",
              "      <td>Monday</td>\n",
              "      <td>23</td>\n",
              "      <td>6.0</td>\n",
              "      <td>2 days 12:14:00.000000000</td>\n",
              "      <td>2.509722</td>\n",
              "      <td>1 year</td>\n",
              "      <td>2015-05-20 00:00:00</td>\n",
              "      <td>Neutered Male</td>\n",
              "      <td>365</td>\n",
              "      <td>1.000000</td>\n",
              "      <td>(-0.025, 2.5]</td>\n",
              "      <td>2</td>\n",
              "      <td>2017</td>\n",
              "      <td>2017-02</td>\n",
              "      <td>Thursday</td>\n",
              "      <td>11</td>\n",
              "      <td>Return to Owner</td>\n",
              "    </tr>\n",
              "    <tr>\n",
              "      <th>46288</th>\n",
              "      <td>A721033</td>\n",
              "      <td>2015</td>\n",
              "      <td>5</td>\n",
              "      <td>1 year</td>\n",
              "      <td>Dog</td>\n",
              "      <td>Rat Terrier Mix</td>\n",
              "      <td>Tricolor/Brown Brindle</td>\n",
              "      <td>Normal</td>\n",
              "      <td>Public Assist</td>\n",
              "      <td>Neutered Male</td>\n",
              "      <td>365</td>\n",
              "      <td>1.000000</td>\n",
              "      <td>(-0.025, 2.5]</td>\n",
              "      <td>2017-01-26 06:55:00</td>\n",
              "      <td>1</td>\n",
              "      <td>2017</td>\n",
              "      <td>2017-01</td>\n",
              "      <td>Thursday</td>\n",
              "      <td>6</td>\n",
              "      <td>7.0</td>\n",
              "      <td>2 days 08:27:00.000000000</td>\n",
              "      <td>2.352083</td>\n",
              "      <td>1 year</td>\n",
              "      <td>2015-05-20 00:00:00</td>\n",
              "      <td>Neutered Male</td>\n",
              "      <td>365</td>\n",
              "      <td>1.000000</td>\n",
              "      <td>(-0.025, 2.5]</td>\n",
              "      <td>1</td>\n",
              "      <td>2017</td>\n",
              "      <td>2017-01</td>\n",
              "      <td>Saturday</td>\n",
              "      <td>15</td>\n",
              "      <td>Return to Owner</td>\n",
              "    </tr>\n",
              "    <tr>\n",
              "      <th>46289</th>\n",
              "      <td>A721033</td>\n",
              "      <td>2015</td>\n",
              "      <td>5</td>\n",
              "      <td>1 year</td>\n",
              "      <td>Dog</td>\n",
              "      <td>Rat Terrier Mix</td>\n",
              "      <td>Tricolor/Brown Brindle</td>\n",
              "      <td>Injured</td>\n",
              "      <td>Stray</td>\n",
              "      <td>Neutered Male</td>\n",
              "      <td>365</td>\n",
              "      <td>1.000000</td>\n",
              "      <td>(-0.025, 2.5]</td>\n",
              "      <td>2017-01-09 14:26:00</td>\n",
              "      <td>1</td>\n",
              "      <td>2017</td>\n",
              "      <td>2017-01</td>\n",
              "      <td>Monday</td>\n",
              "      <td>14</td>\n",
              "      <td>8.0</td>\n",
              "      <td>1 days 01:54:00.000000000</td>\n",
              "      <td>1.079167</td>\n",
              "      <td>1 year</td>\n",
              "      <td>2015-05-20 00:00:00</td>\n",
              "      <td>Neutered Male</td>\n",
              "      <td>365</td>\n",
              "      <td>1.000000</td>\n",
              "      <td>(-0.025, 2.5]</td>\n",
              "      <td>1</td>\n",
              "      <td>2017</td>\n",
              "      <td>2017-01</td>\n",
              "      <td>Tuesday</td>\n",
              "      <td>16</td>\n",
              "      <td>Return to Owner</td>\n",
              "    </tr>\n",
              "    <tr>\n",
              "      <th>46290</th>\n",
              "      <td>A721033</td>\n",
              "      <td>2015</td>\n",
              "      <td>5</td>\n",
              "      <td>1 year</td>\n",
              "      <td>Dog</td>\n",
              "      <td>Rat Terrier Mix</td>\n",
              "      <td>Tricolor/Brown Brindle</td>\n",
              "      <td>Normal</td>\n",
              "      <td>Public Assist</td>\n",
              "      <td>Neutered Male</td>\n",
              "      <td>365</td>\n",
              "      <td>1.000000</td>\n",
              "      <td>(-0.025, 2.5]</td>\n",
              "      <td>2016-12-15 10:07:00</td>\n",
              "      <td>12</td>\n",
              "      <td>2016</td>\n",
              "      <td>2016-12</td>\n",
              "      <td>Thursday</td>\n",
              "      <td>10</td>\n",
              "      <td>9.0</td>\n",
              "      <td>1 days 01:25:00.000000000</td>\n",
              "      <td>1.059028</td>\n",
              "      <td>1 year</td>\n",
              "      <td>2015-05-20 00:00:00</td>\n",
              "      <td>Neutered Male</td>\n",
              "      <td>365</td>\n",
              "      <td>1.000000</td>\n",
              "      <td>(-0.025, 2.5]</td>\n",
              "      <td>12</td>\n",
              "      <td>2016</td>\n",
              "      <td>2016-12</td>\n",
              "      <td>Friday</td>\n",
              "      <td>11</td>\n",
              "      <td>Return to Owner</td>\n",
              "    </tr>\n",
              "  </tbody>\n",
              "</table>\n",
              "</div>"
            ],
            "text/plain": [
              "      animal_id_outcome  dob_year  dob_month age_upon_intake animal_type  \\\n",
              "46278           A721033      2015          5         2 years         Dog   \n",
              "46279           A721033      2015          5          1 year         Dog   \n",
              "46280           A721033      2015          5          1 year         Dog   \n",
              "46281           A721033      2015          5          1 year         Dog   \n",
              "46282           A721033      2015          5        9 months         Dog   \n",
              "46283           A721033      2015          5         2 years         Dog   \n",
              "46284           A721033      2015          5         2 years         Dog   \n",
              "46285           A721033      2015          5          1 year         Dog   \n",
              "46286           A721033      2015          5          1 year         Dog   \n",
              "46287           A721033      2015          5          1 year         Dog   \n",
              "46288           A721033      2015          5          1 year         Dog   \n",
              "46289           A721033      2015          5          1 year         Dog   \n",
              "46290           A721033      2015          5          1 year         Dog   \n",
              "\n",
              "                 breed                   color intake_condition  \\\n",
              "46278  Rat Terrier Mix  Tricolor/Brown Brindle           Normal   \n",
              "46279  Rat Terrier Mix  Tricolor/Brown Brindle           Normal   \n",
              "46280  Rat Terrier Mix  Tricolor/Brown Brindle           Normal   \n",
              "46281  Rat Terrier Mix  Tricolor/Brown Brindle           Normal   \n",
              "46282  Rat Terrier Mix  Tricolor/Brown Brindle           Normal   \n",
              "46283  Rat Terrier Mix  Tricolor/Brown Brindle           Normal   \n",
              "46284  Rat Terrier Mix  Tricolor/Brown Brindle           Normal   \n",
              "46285  Rat Terrier Mix  Tricolor/Brown Brindle           Normal   \n",
              "46286  Rat Terrier Mix  Tricolor/Brown Brindle           Normal   \n",
              "46287  Rat Terrier Mix  Tricolor/Brown Brindle           Normal   \n",
              "46288  Rat Terrier Mix  Tricolor/Brown Brindle           Normal   \n",
              "46289  Rat Terrier Mix  Tricolor/Brown Brindle          Injured   \n",
              "46290  Rat Terrier Mix  Tricolor/Brown Brindle           Normal   \n",
              "\n",
              "         intake_type sex_upon_intake  age_upon_intake_(days)  \\\n",
              "46278          Stray   Neutered Male                     730   \n",
              "46279  Public Assist   Neutered Male                     365   \n",
              "46280  Public Assist   Neutered Male                     365   \n",
              "46281          Stray   Neutered Male                     365   \n",
              "46282          Stray   Neutered Male                     270   \n",
              "46283  Public Assist   Neutered Male                     730   \n",
              "46284  Public Assist   Neutered Male                     730   \n",
              "46285  Public Assist   Neutered Male                     365   \n",
              "46286  Public Assist   Neutered Male                     365   \n",
              "46287  Public Assist   Neutered Male                     365   \n",
              "46288  Public Assist   Neutered Male                     365   \n",
              "46289          Stray   Neutered Male                     365   \n",
              "46290  Public Assist   Neutered Male                     365   \n",
              "\n",
              "       age_upon_intake_(years) age_upon_intake_age_group      intake_datetime  \\\n",
              "46278                 2.000000             (-0.025, 2.5]  2018-03-14 10:57:00   \n",
              "46279                 1.000000             (-0.025, 2.5]  2016-10-20 22:47:00   \n",
              "46280                 1.000000             (-0.025, 2.5]  2016-09-03 14:30:00   \n",
              "46281                 1.000000             (-0.025, 2.5]  2016-07-10 11:53:00   \n",
              "46282                 0.739726             (-0.025, 2.5]  2016-02-20 10:44:00   \n",
              "46283                 2.000000             (-0.025, 2.5]  2018-03-07 08:27:00   \n",
              "46284                 2.000000             (-0.025, 2.5]  2018-02-22 10:28:00   \n",
              "46285                 1.000000             (-0.025, 2.5]  2017-03-15 09:24:00   \n",
              "46286                 1.000000             (-0.025, 2.5]  2017-02-06 10:13:00   \n",
              "46287                 1.000000             (-0.025, 2.5]  2017-01-30 23:05:00   \n",
              "46288                 1.000000             (-0.025, 2.5]  2017-01-26 06:55:00   \n",
              "46289                 1.000000             (-0.025, 2.5]  2017-01-09 14:26:00   \n",
              "46290                 1.000000             (-0.025, 2.5]  2016-12-15 10:07:00   \n",
              "\n",
              "       intake_month  intake_year intake_monthyear intake_weekday  intake_hour  \\\n",
              "46278             3         2018          2018-03      Wednesday           10   \n",
              "46279            10         2016          2016-10       Thursday           22   \n",
              "46280             9         2016          2016-09       Saturday           14   \n",
              "46281             7         2016          2016-07         Sunday           11   \n",
              "46282             2         2016          2016-02       Saturday           10   \n",
              "46283             3         2018          2018-03      Wednesday            8   \n",
              "46284             2         2018          2018-02       Thursday           10   \n",
              "46285             3         2017          2017-03      Wednesday            9   \n",
              "46286             2         2017          2017-02         Monday           10   \n",
              "46287             1         2017          2017-01         Monday           23   \n",
              "46288             1         2017          2017-01       Thursday            6   \n",
              "46289             1         2017          2017-01         Monday           14   \n",
              "46290            12         2016          2016-12       Thursday           10   \n",
              "\n",
              "       intake_number            time_in_shelter  time_in_shelter_days  \\\n",
              "46278            1.0  2 days 05:07:00.000000000              2.213194   \n",
              "46279           10.0  0 days 20:08:00.000000000              0.838889   \n",
              "46280           11.0  8 days 23:10:00.000000000              8.965278   \n",
              "46281           12.0  1 days 05:51:00.000000000              1.243750   \n",
              "46282           13.0  0 days 05:34:00.000000000              0.231944   \n",
              "46283            2.0  1 days 06:37:00.000000000              1.275694   \n",
              "46284            3.0  1 days 02:38:00.000000000              1.109722   \n",
              "46285            4.0  1 days 03:26:00.000000000              1.143056   \n",
              "46286            5.0  1 days 07:13:00.000000000              1.300694   \n",
              "46287            6.0  2 days 12:14:00.000000000              2.509722   \n",
              "46288            7.0  2 days 08:27:00.000000000              2.352083   \n",
              "46289            8.0  1 days 01:54:00.000000000              1.079167   \n",
              "46290            9.0  1 days 01:25:00.000000000              1.059028   \n",
              "\n",
              "      age_upon_outcome        date_of_birth sex_upon_outcome  \\\n",
              "46278          2 years  2015-05-20 00:00:00    Neutered Male   \n",
              "46279           1 year  2015-05-20 00:00:00    Neutered Male   \n",
              "46280           1 year  2015-05-20 00:00:00    Neutered Male   \n",
              "46281           1 year  2015-05-20 00:00:00    Neutered Male   \n",
              "46282         9 months  2015-05-20 00:00:00    Neutered Male   \n",
              "46283          2 years  2015-05-20 00:00:00    Neutered Male   \n",
              "46284          2 years  2015-05-20 00:00:00    Neutered Male   \n",
              "46285           1 year  2015-05-20 00:00:00    Neutered Male   \n",
              "46286           1 year  2015-05-20 00:00:00    Neutered Male   \n",
              "46287           1 year  2015-05-20 00:00:00    Neutered Male   \n",
              "46288           1 year  2015-05-20 00:00:00    Neutered Male   \n",
              "46289           1 year  2015-05-20 00:00:00    Neutered Male   \n",
              "46290           1 year  2015-05-20 00:00:00    Neutered Male   \n",
              "\n",
              "       age_upon_outcome_(days)  age_upon_outcome_(years)  \\\n",
              "46278                      730                  2.000000   \n",
              "46279                      365                  1.000000   \n",
              "46280                      365                  1.000000   \n",
              "46281                      365                  1.000000   \n",
              "46282                      270                  0.739726   \n",
              "46283                      730                  2.000000   \n",
              "46284                      730                  2.000000   \n",
              "46285                      365                  1.000000   \n",
              "46286                      365                  1.000000   \n",
              "46287                      365                  1.000000   \n",
              "46288                      365                  1.000000   \n",
              "46289                      365                  1.000000   \n",
              "46290                      365                  1.000000   \n",
              "\n",
              "      age_upon_outcome_age_group  outcome_month  outcome_year  \\\n",
              "46278              (-0.025, 2.5]              3          2018   \n",
              "46279              (-0.025, 2.5]             10          2016   \n",
              "46280              (-0.025, 2.5]              9          2016   \n",
              "46281              (-0.025, 2.5]              7          2016   \n",
              "46282              (-0.025, 2.5]              2          2016   \n",
              "46283              (-0.025, 2.5]              3          2018   \n",
              "46284              (-0.025, 2.5]              2          2018   \n",
              "46285              (-0.025, 2.5]              3          2017   \n",
              "46286              (-0.025, 2.5]              2          2017   \n",
              "46287              (-0.025, 2.5]              2          2017   \n",
              "46288              (-0.025, 2.5]              1          2017   \n",
              "46289              (-0.025, 2.5]              1          2017   \n",
              "46290              (-0.025, 2.5]             12          2016   \n",
              "\n",
              "      outcome_monthyear outcome_weekday  outcome_hour     outcome_type  \n",
              "46278           2018-03          Friday            16  Return to Owner  \n",
              "46279           2016-10          Friday            18  Return to Owner  \n",
              "46280           2016-09          Monday            13  Return to Owner  \n",
              "46281           2016-07          Monday            17  Return to Owner  \n",
              "46282           2016-02        Saturday            16  Return to Owner  \n",
              "46283           2018-03        Thursday            15  Return to Owner  \n",
              "46284           2018-02          Friday            13  Return to Owner  \n",
              "46285           2017-03        Thursday            12  Return to Owner  \n",
              "46286           2017-02         Tuesday            17  Return to Owner  \n",
              "46287           2017-02        Thursday            11  Return to Owner  \n",
              "46288           2017-01        Saturday            15  Return to Owner  \n",
              "46289           2017-01         Tuesday            16  Return to Owner  \n",
              "46290           2016-12          Friday            11  Return to Owner  "
            ]
          },
          "metadata": {},
          "execution_count": 15
        }
      ],
      "source": [
        "X[X['animal_id_outcome']=='A721033']"
      ]
    },
    {
      "cell_type": "markdown",
      "metadata": {
        "id": "2MR3HHyiIuhE"
      },
      "source": [
        "Looking at the above dataset it looks like **\"animal_id_outcome\"** is not unique. Maybe same animals were repeated brought to the shelter for some or the other reasons. Anyways we will be dropping it as it makes very little or no help in our model predictions."
      ]
    },
    {
      "cell_type": "code",
      "execution_count": 16,
      "metadata": {
        "collapsed": true,
        "id": "4oyiqb-4IuhE"
      },
      "outputs": [],
      "source": [
        "X = X.drop(['animal_id_outcome'], axis = 1)"
      ]
    },
    {
      "cell_type": "markdown",
      "metadata": {
        "id": "0yh-32CxIuhF"
      },
      "source": [
        "# 5. Analyse, identify patterns, explore the data"
      ]
    },
    {
      "cell_type": "markdown",
      "metadata": {
        "id": "gkDcnImwIuhF"
      },
      "source": [
        "Next step would be to analyse, identify and explore the data to take actions based upon the understanding."
      ]
    },
    {
      "cell_type": "markdown",
      "metadata": {
        "id": "fU_dRG1DIuhF"
      },
      "source": [
        "**A. Few quick points to be noted:**\n",
        "1. age_upon_intake_(days), age_upon_intake_(years)/age_group are extracted from age_upon_intake and there is no point using all of them. Hence we will keep age_upon_intake_(days) as it is more specific. Hence **dropping age_upon_intake**, **age_upon_intake_(years), age_upon_intake_age_group** similary **dropping age_upon_outcome, age_upon_outcome_(years), age_upon_outcome_age_group\n",
        "\n",
        "2. dob_year, dob_month is extracted from date_of_birth hence will be using dob_year to be more specific and ** dropping date_of_birth ** and **dob_month**  as they are useless for our case.\n",
        "3. According to my research once the animal or pet is surrendender by owner the animal/pet cannot be or vary rarely returned back to owner again with some conditions hence **intake_type** is an **important predictor**.\n",
        "4. animal_type and breed type is specific to the category of animal hence are correlated. We need to take a call whether to use both or use one of them according to the varibale importance curve\n",
        "5. time_in_shelter_(days) is derived from time_in_shelter hence will be **dropping time_in_shelter** and keeping **time_in_shelter_(days)**\n"
      ]
    },
    {
      "cell_type": "code",
      "execution_count": 17,
      "metadata": {
        "collapsed": true,
        "id": "mV10EKQSIuhF"
      },
      "outputs": [],
      "source": [
        "X = X.drop(['age_upon_intake', 'age_upon_intake_(years)', 'age_upon_intake_age_group', 'age_upon_outcome', 'age_upon_outcome_(years)', 'age_upon_outcome_age_group', 'date_of_birth','dob_month', 'time_in_shelter'], axis = 1)"
      ]
    },
    {
      "cell_type": "markdown",
      "metadata": {
        "id": "6t-33zMCIuhF"
      },
      "source": [
        "**B. Checking categorical variables correlation with outcome_type **"
      ]
    },
    {
      "cell_type": "code",
      "execution_count": 18,
      "metadata": {
        "colab": {
          "base_uri": "https://localhost:8080/"
        },
        "id": "TDkzRlQRIuhF",
        "outputId": "a5e907ee-8211-45dd-91f9-6388c10270b3",
        "scrolled": true
      },
      "outputs": [
        {
          "output_type": "execute_result",
          "data": {
            "text/plain": [
              "animal_type  outcome_type   \n",
              "Bird         Adoption             49\n",
              "             Died                 13\n",
              "             Disposal             17\n",
              "             Euthanasia           32\n",
              "             Missing               7\n",
              "             Relocate             11\n",
              "             Return to Owner       2\n",
              "             Rto-Adopt             7\n",
              "             Transfer             34\n",
              "Cat          Adoption           4679\n",
              "             Died               1279\n",
              "             Disposal              2\n",
              "             Euthanasia         1009\n",
              "             Missing            1124\n",
              "             Relocate           1136\n",
              "             Return to Owner     896\n",
              "             Rto-Adopt          1049\n",
              "             Transfer           5777\n",
              "Dog          Adoption           8211\n",
              "             Died               1443\n",
              "             Disposal              3\n",
              "             Euthanasia         1305\n",
              "             Missing            1433\n",
              "             Relocate           1386\n",
              "             Return to Owner    8802\n",
              "             Rto-Adopt          1363\n",
              "             Transfer           4276\n",
              "Other        Adoption             28\n",
              "             Died                 94\n",
              "             Disposal            156\n",
              "             Euthanasia         1798\n",
              "             Missing              35\n",
              "             Relocate             40\n",
              "             Return to Owner      18\n",
              "             Rto-Adopt            31\n",
              "             Transfer            258\n",
              "dtype: int64"
            ]
          },
          "metadata": {},
          "execution_count": 18
        }
      ],
      "source": [
        "#Checking animal_type with outcome_type\n",
        "X.groupby([\"animal_type\", 'outcome_type']).size()"
      ]
    },
    {
      "cell_type": "code",
      "execution_count": 19,
      "metadata": {
        "colab": {
          "base_uri": "https://localhost:8080/",
          "height": 298
        },
        "id": "iQZVCCm9IuhG",
        "outputId": "ea89eb08-4af5-4f99-b166-fc6e8d4cd15a"
      },
      "outputs": [
        {
          "output_type": "execute_result",
          "data": {
            "text/plain": [
              "<matplotlib.axes._subplots.AxesSubplot at 0x7fe29489e590>"
            ]
          },
          "metadata": {},
          "execution_count": 19
        },
        {
          "output_type": "display_data",
          "data": {
            "image/png": "[encoded data removed]",
            "text/plain": [
              "<Figure size 432x288 with 1 Axes>"
            ]
          },
          "metadata": {
            "needs_background": "light"
          }
        }
      ],
      "source": [
        "sns.countplot(x=\"animal_type\", hue=\"outcome_type\", data= X)"
      ]
    },
    {
      "cell_type": "code",
      "execution_count": 20,
      "metadata": {
        "collapsed": true,
        "id": "yIiGNSj5IuhG"
      },
      "outputs": [],
      "source": [
        "X_Bird = X[X['animal_type']=='Bird']"
      ]
    },
    {
      "cell_type": "code",
      "execution_count": 21,
      "metadata": {
        "colab": {
          "base_uri": "https://localhost:8080/",
          "height": 298
        },
        "id": "NjED3E6-IuhG",
        "outputId": "7278e892-3b1e-4d31-f2bb-0f63bc9cde50"
      },
      "outputs": [
        {
          "output_type": "execute_result",
          "data": {
            "text/plain": [
              "<matplotlib.axes._subplots.AxesSubplot at 0x7fe294839890>"
            ]
          },
          "metadata": {},
          "execution_count": 21
        },
        {
          "output_type": "display_data",
          "data": {
            "image/png": "[encoded data removed]",
            "text/plain": [
              "<Figure size 432x288 with 1 Axes>"
            ]
          },
          "metadata": {
            "needs_background": "light"
          }
        }
      ],
      "source": [
        "sns.countplot(x= 'animal_type', hue=\"outcome_type\", data= X_Bird)"
      ]
    },
    {
      "cell_type": "code",
      "execution_count": 22,
      "metadata": {
        "colab": {
          "base_uri": "https://localhost:8080/",
          "height": 298
        },
        "id": "rSHsnnqmIuhG",
        "outputId": "9d2934c1-b425-43d8-b230-eaed2e702fe9"
      },
      "outputs": [
        {
          "output_type": "execute_result",
          "data": {
            "text/plain": [
              "<matplotlib.axes._subplots.AxesSubplot at 0x7fe294879490>"
            ]
          },
          "metadata": {},
          "execution_count": 22
        },
        {
          "output_type": "display_data",
          "data": {
            "image/png": "[encoded data removed]",
            "text/plain": [
              "<Figure size 432x288 with 1 Axes>"
            ]
          },
          "metadata": {
            "needs_background": "light"
          }
        }
      ],
      "source": [
        "X_Other= X[X['animal_type']=='Other']\n",
        "sns.countplot(x= 'animal_type', hue=\"outcome_type\", data= X_Other)"
      ]
    },
    {
      "cell_type": "code",
      "execution_count": 23,
      "metadata": {
        "colab": {
          "base_uri": "https://localhost:8080/"
        },
        "id": "-aoQbP_FIuhG",
        "outputId": "60995576-e212-4aef-a57f-5d8536569c1f"
      },
      "outputs": [
        {
          "output_type": "execute_result",
          "data": {
            "text/plain": [
              "breed                                 outcome_type   \n",
              "Abyssinian Mix                        Adoption           2\n",
              "                                      Died               1\n",
              "                                      Relocate           1\n",
              "Affenpinscher Mix                     Adoption           2\n",
              "                                      Died               1\n",
              "                                      Missing            1\n",
              "                                      Return to Owner    2\n",
              "Afghan Hound Mix                      Return to Owner    1\n",
              "Airedale Terrier                      Transfer           1\n",
              "Airedale Terrier Mix                  Adoption           1\n",
              "                                      Missing            1\n",
              "                                      Return to Owner    4\n",
              "                                      Transfer           1\n",
              "Airedale Terrier/Irish Terrier        Relocate           1\n",
              "Airedale Terrier/Labrador Retriever   Missing            1\n",
              "                                      Transfer           1\n",
              "Airedale Terrier/Miniature Schnauzer  Adoption           1\n",
              "Akita                                 Adoption           1\n",
              "                                      Euthanasia         1\n",
              "                                      Relocate           1\n",
              "dtype: int64"
            ]
          },
          "metadata": {},
          "execution_count": 23
        }
      ],
      "source": [
        "#Checking animal_type with outcome_type\n",
        "X.groupby([\"breed\", 'outcome_type']).size().head(20)"
      ]
    },
    {
      "cell_type": "markdown",
      "metadata": {
        "id": "btE_4M7GIuhG"
      },
      "source": [
        "Hence we get this insights that dogs are mostly adopted and returned back to owner, cats are either mostly been adopted or transfered, on the other hand bird are either adopted or transfered and are rarely \"returned back to owner\"(which has high occurence in the dataset). Last other animals are mostly euthonised or transfered.\n",
        "\n",
        "**NOTE** We will be holding color variable as it is as there more than 400 unique colors and will be checking later by variable importance plot."
      ]
    },
    {
      "cell_type": "code",
      "execution_count": 24,
      "metadata": {
        "colab": {
          "base_uri": "https://localhost:8080/"
        },
        "id": "IWcRsqU_IuhH",
        "outputId": "4f92160b-041b-4b8a-df8d-36590ded3258"
      },
      "outputs": [
        {
          "output_type": "execute_result",
          "data": {
            "text/plain": [
              "intake_type         outcome_type   \n",
              "Euthanasia Request  Adoption             12\n",
              "                    Died                  7\n",
              "                    Euthanasia          189\n",
              "                    Missing               3\n",
              "                    Relocate              1\n",
              "                    Return to Owner       5\n",
              "                    Rto-Adopt             1\n",
              "                    Transfer             17\n",
              "Owner Surrender     Adoption           3460\n",
              "                    Died                644\n",
              "                    Disposal              2\n",
              "                    Euthanasia          506\n",
              "                    Missing             649\n",
              "                    Relocate            610\n",
              "                    Return to Owner     562\n",
              "                    Rto-Adopt           588\n",
              "                    Transfer           2089\n",
              "Public Assist       Adoption            274\n",
              "                    Died                 58\n",
              "                    Disposal             20\n",
              "                    Euthanasia          193\n",
              "                    Missing              63\n",
              "                    Relocate             74\n",
              "                    Return to Owner    2154\n",
              "                    Rto-Adopt            61\n",
              "                    Transfer            269\n",
              "Stray               Adoption           9219\n",
              "                    Died               2057\n",
              "                    Disposal              5\n",
              "                    Euthanasia         1564\n",
              "                    Missing            1881\n",
              "                    Relocate           1875\n",
              "                    Return to Owner    6996\n",
              "                    Rto-Adopt          1798\n",
              "                    Transfer           7950\n",
              "Wildlife            Adoption              2\n",
              "                    Died                 63\n",
              "                    Disposal            151\n",
              "                    Euthanasia         1692\n",
              "                    Missing               3\n",
              "                    Relocate             13\n",
              "                    Return to Owner       1\n",
              "                    Rto-Adopt             2\n",
              "                    Transfer             20\n",
              "dtype: int64"
            ]
          },
          "metadata": {},
          "execution_count": 24
        }
      ],
      "source": [
        "#Checking intake-condition \n",
        "X.groupby(['intake_type','outcome_type']).size()"
      ]
    },
    {
      "cell_type": "markdown",
      "metadata": {
        "id": "J29R3xkjIuhH"
      },
      "source": [
        "Hence this along with intake_condition can be useful for model to help predict minority of the dependent variable such as died, disposal, missing and relocate hence our hypothesis of these variable to be important for model is proving true."
      ]
    },
    {
      "cell_type": "code",
      "execution_count": 25,
      "metadata": {
        "colab": {
          "base_uri": "https://localhost:8080/"
        },
        "id": "KQNKj0_NIuhH",
        "outputId": "e2b0f451-4d1f-4aad-d403-3217f3ca48c1"
      },
      "outputs": [
        {
          "output_type": "execute_result",
          "data": {
            "text/plain": [
              "sex_upon_intake  sex_upon_outcome  outcome_type   \n",
              "Intact Female    Intact Female     Adoption            235\n",
              "                                   Died                361\n",
              "                                   Disposal              1\n",
              "                                   Euthanasia          616\n",
              "                                   Missing             324\n",
              "                                                      ... \n",
              "Unknown          Unknown           Missing             124\n",
              "                                   Relocate            117\n",
              "                                   Return to Owner      29\n",
              "                                   Rto-Adopt           118\n",
              "                                   Transfer           1122\n",
              "Length: 61, dtype: int64"
            ]
          },
          "metadata": {},
          "execution_count": 25
        }
      ],
      "source": [
        "X.groupby(['sex_upon_intake','sex_upon_outcome', 'outcome_type']).size()"
      ]
    },
    {
      "cell_type": "markdown",
      "metadata": {
        "id": "YSoLmAG0IuhH"
      },
      "source": [
        "Hence we will be keeping on i.e for now as we can clearly see Intact male/female who were first intact and later neutered/spayed have more chances of adoption about 20 folds. hence this can prove to be an important variable."
      ]
    },
    {
      "cell_type": "markdown",
      "metadata": {
        "id": "kICrlhWpIuhH"
      },
      "source": [
        "One more observation is that we will be dropping intake_datetime as we already have intake month, year"
      ]
    },
    {
      "cell_type": "code",
      "execution_count": 26,
      "metadata": {
        "collapsed": true,
        "id": "Qq_zELQbIuhH"
      },
      "outputs": [],
      "source": [
        "X['intake_day'] = pd.DatetimeIndex(X['intake_datetime']).day"
      ]
    },
    {
      "cell_type": "markdown",
      "metadata": {
        "id": "dt77dEvoIuhH"
      },
      "source": [
        "**Note: The above is a new feature that is generated**"
      ]
    },
    {
      "cell_type": "code",
      "execution_count": 27,
      "metadata": {
        "collapsed": true,
        "id": "s1wsRM2BIuhI"
      },
      "outputs": [],
      "source": [
        "X = X.drop(['intake_datetime'], axis = 1)"
      ]
    },
    {
      "cell_type": "markdown",
      "metadata": {
        "id": "jO-yiTrGIuhI"
      },
      "source": [
        "**Feature modification of intake/outcome year month:**"
      ]
    },
    {
      "cell_type": "code",
      "execution_count": 28,
      "metadata": {
        "colab": {
          "base_uri": "https://localhost:8080/",
          "height": 600
        },
        "id": "V5bOIxA4IuhI",
        "outputId": "987d906b-6e43-4f53-e70b-dc9d8d55f1b3"
      },
      "outputs": [
        {
          "output_type": "execute_result",
          "data": {
            "text/html": [
              "<div>\n",
              "<style scoped>\n",
              "    .dataframe tbody tr th:only-of-type {\n",
              "        vertical-align: middle;\n",
              "    }\n",
              "\n",
              "    .dataframe tbody tr th {\n",
              "        vertical-align: top;\n",
              "    }\n",
              "\n",
              "    .dataframe thead th {\n",
              "        text-align: right;\n",
              "    }\n",
              "</style>\n",
              "<table border=\"1\" class=\"dataframe\">\n",
              "  <thead>\n",
              "    <tr style=\"text-align: right;\">\n",
              "      <th></th>\n",
              "      <th>dob_year</th>\n",
              "      <th>animal_type</th>\n",
              "      <th>breed</th>\n",
              "      <th>color</th>\n",
              "      <th>intake_condition</th>\n",
              "      <th>intake_type</th>\n",
              "      <th>sex_upon_intake</th>\n",
              "      <th>age_upon_intake_(days)</th>\n",
              "      <th>intake_month</th>\n",
              "      <th>intake_year</th>\n",
              "      <th>intake_monthyear</th>\n",
              "      <th>intake_weekday</th>\n",
              "      <th>intake_hour</th>\n",
              "      <th>intake_number</th>\n",
              "      <th>time_in_shelter_days</th>\n",
              "      <th>sex_upon_outcome</th>\n",
              "      <th>age_upon_outcome_(days)</th>\n",
              "      <th>outcome_month</th>\n",
              "      <th>outcome_year</th>\n",
              "      <th>outcome_monthyear</th>\n",
              "      <th>outcome_weekday</th>\n",
              "      <th>outcome_hour</th>\n",
              "      <th>outcome_type</th>\n",
              "      <th>intake_day</th>\n",
              "    </tr>\n",
              "  </thead>\n",
              "  <tbody>\n",
              "    <tr>\n",
              "      <th>0</th>\n",
              "      <td>2007</td>\n",
              "      <td>Dog</td>\n",
              "      <td>Spinone Italiano Mix</td>\n",
              "      <td>Yellow/White</td>\n",
              "      <td>Normal</td>\n",
              "      <td>Stray</td>\n",
              "      <td>Neutered Male</td>\n",
              "      <td>3650</td>\n",
              "      <td>12</td>\n",
              "      <td>2017</td>\n",
              "      <td>201712</td>\n",
              "      <td>Thursday</td>\n",
              "      <td>14</td>\n",
              "      <td>1.0</td>\n",
              "      <td>0.588194</td>\n",
              "      <td>Neutered Male</td>\n",
              "      <td>3650</td>\n",
              "      <td>12</td>\n",
              "      <td>2017</td>\n",
              "      <td>201712</td>\n",
              "      <td>Thursday</td>\n",
              "      <td>0</td>\n",
              "      <td>Return to Owner</td>\n",
              "      <td>7</td>\n",
              "    </tr>\n",
              "    <tr>\n",
              "      <th>1</th>\n",
              "      <td>2007</td>\n",
              "      <td>Dog</td>\n",
              "      <td>Spinone Italiano Mix</td>\n",
              "      <td>Yellow/White</td>\n",
              "      <td>Normal</td>\n",
              "      <td>Public Assist</td>\n",
              "      <td>Neutered Male</td>\n",
              "      <td>2555</td>\n",
              "      <td>12</td>\n",
              "      <td>2014</td>\n",
              "      <td>201412</td>\n",
              "      <td>Friday</td>\n",
              "      <td>10</td>\n",
              "      <td>2.0</td>\n",
              "      <td>1.259722</td>\n",
              "      <td>Neutered Male</td>\n",
              "      <td>2555</td>\n",
              "      <td>12</td>\n",
              "      <td>2014</td>\n",
              "      <td>201412</td>\n",
              "      <td>Saturday</td>\n",
              "      <td>16</td>\n",
              "      <td>Return to Owner</td>\n",
              "      <td>19</td>\n",
              "    </tr>\n",
              "    <tr>\n",
              "      <th>2</th>\n",
              "      <td>2007</td>\n",
              "      <td>Dog</td>\n",
              "      <td>Spinone Italiano Mix</td>\n",
              "      <td>Yellow/White</td>\n",
              "      <td>Normal</td>\n",
              "      <td>Public Assist</td>\n",
              "      <td>Neutered Male</td>\n",
              "      <td>2190</td>\n",
              "      <td>3</td>\n",
              "      <td>2014</td>\n",
              "      <td>201403</td>\n",
              "      <td>Friday</td>\n",
              "      <td>14</td>\n",
              "      <td>3.0</td>\n",
              "      <td>1.113889</td>\n",
              "      <td>Neutered Male</td>\n",
              "      <td>2190</td>\n",
              "      <td>3</td>\n",
              "      <td>2014</td>\n",
              "      <td>201403</td>\n",
              "      <td>Saturday</td>\n",
              "      <td>17</td>\n",
              "      <td>Return to Owner</td>\n",
              "      <td>7</td>\n",
              "    </tr>\n",
              "    <tr>\n",
              "      <th>3</th>\n",
              "      <td>2004</td>\n",
              "      <td>Dog</td>\n",
              "      <td>Dachshund</td>\n",
              "      <td>Tricolor</td>\n",
              "      <td>Normal</td>\n",
              "      <td>Owner Surrender</td>\n",
              "      <td>Neutered Male</td>\n",
              "      <td>3650</td>\n",
              "      <td>4</td>\n",
              "      <td>2014</td>\n",
              "      <td>201404</td>\n",
              "      <td>Wednesday</td>\n",
              "      <td>15</td>\n",
              "      <td>1.0</td>\n",
              "      <td>4.970139</td>\n",
              "      <td>Neutered Male</td>\n",
              "      <td>3650</td>\n",
              "      <td>4</td>\n",
              "      <td>2014</td>\n",
              "      <td>201404</td>\n",
              "      <td>Monday</td>\n",
              "      <td>15</td>\n",
              "      <td>Missing</td>\n",
              "      <td>2</td>\n",
              "    </tr>\n",
              "    <tr>\n",
              "      <th>4</th>\n",
              "      <td>1997</td>\n",
              "      <td>Dog</td>\n",
              "      <td>Shetland Sheepdog</td>\n",
              "      <td>Brown/White</td>\n",
              "      <td>Injured</td>\n",
              "      <td>Public Assist</td>\n",
              "      <td>Neutered Male</td>\n",
              "      <td>5840</td>\n",
              "      <td>11</td>\n",
              "      <td>2013</td>\n",
              "      <td>201311</td>\n",
              "      <td>Saturday</td>\n",
              "      <td>9</td>\n",
              "      <td>1.0</td>\n",
              "      <td>0.119444</td>\n",
              "      <td>Neutered Male</td>\n",
              "      <td>5840</td>\n",
              "      <td>11</td>\n",
              "      <td>2013</td>\n",
              "      <td>201311</td>\n",
              "      <td>Saturday</td>\n",
              "      <td>11</td>\n",
              "      <td>Return to Owner</td>\n",
              "      <td>16</td>\n",
              "    </tr>\n",
              "    <tr>\n",
              "      <th>...</th>\n",
              "      <td>...</td>\n",
              "      <td>...</td>\n",
              "      <td>...</td>\n",
              "      <td>...</td>\n",
              "      <td>...</td>\n",
              "      <td>...</td>\n",
              "      <td>...</td>\n",
              "      <td>...</td>\n",
              "      <td>...</td>\n",
              "      <td>...</td>\n",
              "      <td>...</td>\n",
              "      <td>...</td>\n",
              "      <td>...</td>\n",
              "      <td>...</td>\n",
              "      <td>...</td>\n",
              "      <td>...</td>\n",
              "      <td>...</td>\n",
              "      <td>...</td>\n",
              "      <td>...</td>\n",
              "      <td>...</td>\n",
              "      <td>...</td>\n",
              "      <td>...</td>\n",
              "      <td>...</td>\n",
              "      <td>...</td>\n",
              "    </tr>\n",
              "    <tr>\n",
              "      <th>47798</th>\n",
              "      <td>2007</td>\n",
              "      <td>Cat</td>\n",
              "      <td>Domestic Longhair Mix</td>\n",
              "      <td>Black/White</td>\n",
              "      <td>Normal</td>\n",
              "      <td>Stray</td>\n",
              "      <td>Neutered Male</td>\n",
              "      <td>2920</td>\n",
              "      <td>3</td>\n",
              "      <td>2016</td>\n",
              "      <td>201603</td>\n",
              "      <td>Sunday</td>\n",
              "      <td>11</td>\n",
              "      <td>1.0</td>\n",
              "      <td>21.525000</td>\n",
              "      <td>Neutered Male</td>\n",
              "      <td>2920</td>\n",
              "      <td>4</td>\n",
              "      <td>2016</td>\n",
              "      <td>201604</td>\n",
              "      <td>Monday</td>\n",
              "      <td>0</td>\n",
              "      <td>Rto-Adopt</td>\n",
              "      <td>27</td>\n",
              "    </tr>\n",
              "    <tr>\n",
              "      <th>47799</th>\n",
              "      <td>2015</td>\n",
              "      <td>Dog</td>\n",
              "      <td>Cairn Terrier Mix</td>\n",
              "      <td>Gray/White</td>\n",
              "      <td>Normal</td>\n",
              "      <td>Owner Surrender</td>\n",
              "      <td>Intact Male</td>\n",
              "      <td>365</td>\n",
              "      <td>3</td>\n",
              "      <td>2016</td>\n",
              "      <td>201603</td>\n",
              "      <td>Sunday</td>\n",
              "      <td>11</td>\n",
              "      <td>1.0</td>\n",
              "      <td>2.306944</td>\n",
              "      <td>Neutered Male</td>\n",
              "      <td>365</td>\n",
              "      <td>3</td>\n",
              "      <td>2016</td>\n",
              "      <td>201603</td>\n",
              "      <td>Tuesday</td>\n",
              "      <td>19</td>\n",
              "      <td>Adoption</td>\n",
              "      <td>27</td>\n",
              "    </tr>\n",
              "    <tr>\n",
              "      <th>47800</th>\n",
              "      <td>2005</td>\n",
              "      <td>Dog</td>\n",
              "      <td>Shetland Sheepdog Mix</td>\n",
              "      <td>Brown/Tan</td>\n",
              "      <td>Normal</td>\n",
              "      <td>Stray</td>\n",
              "      <td>Spayed Female</td>\n",
              "      <td>4015</td>\n",
              "      <td>3</td>\n",
              "      <td>2016</td>\n",
              "      <td>201603</td>\n",
              "      <td>Sunday</td>\n",
              "      <td>11</td>\n",
              "      <td>1.0</td>\n",
              "      <td>0.224306</td>\n",
              "      <td>Spayed Female</td>\n",
              "      <td>4015</td>\n",
              "      <td>3</td>\n",
              "      <td>2016</td>\n",
              "      <td>201603</td>\n",
              "      <td>Sunday</td>\n",
              "      <td>17</td>\n",
              "      <td>Return to Owner</td>\n",
              "      <td>27</td>\n",
              "    </tr>\n",
              "    <tr>\n",
              "      <th>47801</th>\n",
              "      <td>2011</td>\n",
              "      <td>Dog</td>\n",
              "      <td>Boxer/Catahoula</td>\n",
              "      <td>Brown Brindle/White</td>\n",
              "      <td>Normal</td>\n",
              "      <td>Stray</td>\n",
              "      <td>Intact Male</td>\n",
              "      <td>1825</td>\n",
              "      <td>3</td>\n",
              "      <td>2016</td>\n",
              "      <td>201603</td>\n",
              "      <td>Sunday</td>\n",
              "      <td>11</td>\n",
              "      <td>1.0</td>\n",
              "      <td>13.069444</td>\n",
              "      <td>Neutered Male</td>\n",
              "      <td>1825</td>\n",
              "      <td>4</td>\n",
              "      <td>2016</td>\n",
              "      <td>201604</td>\n",
              "      <td>Saturday</td>\n",
              "      <td>13</td>\n",
              "      <td>Adoption</td>\n",
              "      <td>27</td>\n",
              "    </tr>\n",
              "    <tr>\n",
              "      <th>47802</th>\n",
              "      <td>2015</td>\n",
              "      <td>Other</td>\n",
              "      <td>Opossum</td>\n",
              "      <td>Gray</td>\n",
              "      <td>Injured</td>\n",
              "      <td>Wildlife</td>\n",
              "      <td>Unknown</td>\n",
              "      <td>365</td>\n",
              "      <td>3</td>\n",
              "      <td>2016</td>\n",
              "      <td>201603</td>\n",
              "      <td>Sunday</td>\n",
              "      <td>12</td>\n",
              "      <td>1.0</td>\n",
              "      <td>0.014583</td>\n",
              "      <td>Unknown</td>\n",
              "      <td>365</td>\n",
              "      <td>3</td>\n",
              "      <td>2016</td>\n",
              "      <td>201603</td>\n",
              "      <td>Sunday</td>\n",
              "      <td>12</td>\n",
              "      <td>Euthanasia</td>\n",
              "      <td>27</td>\n",
              "    </tr>\n",
              "  </tbody>\n",
              "</table>\n",
              "<p>47803 rows × 24 columns</p>\n",
              "</div>"
            ],
            "text/plain": [
              "       dob_year animal_type                  breed                color  \\\n",
              "0          2007         Dog   Spinone Italiano Mix         Yellow/White   \n",
              "1          2007         Dog   Spinone Italiano Mix         Yellow/White   \n",
              "2          2007         Dog   Spinone Italiano Mix         Yellow/White   \n",
              "3          2004         Dog              Dachshund             Tricolor   \n",
              "4          1997         Dog      Shetland Sheepdog          Brown/White   \n",
              "...         ...         ...                    ...                  ...   \n",
              "47798      2007         Cat  Domestic Longhair Mix          Black/White   \n",
              "47799      2015         Dog      Cairn Terrier Mix           Gray/White   \n",
              "47800      2005         Dog  Shetland Sheepdog Mix            Brown/Tan   \n",
              "47801      2011         Dog        Boxer/Catahoula  Brown Brindle/White   \n",
              "47802      2015       Other                Opossum                 Gray   \n",
              "\n",
              "      intake_condition      intake_type sex_upon_intake  \\\n",
              "0               Normal            Stray   Neutered Male   \n",
              "1               Normal    Public Assist   Neutered Male   \n",
              "2               Normal    Public Assist   Neutered Male   \n",
              "3               Normal  Owner Surrender   Neutered Male   \n",
              "4              Injured    Public Assist   Neutered Male   \n",
              "...                ...              ...             ...   \n",
              "47798           Normal            Stray   Neutered Male   \n",
              "47799           Normal  Owner Surrender     Intact Male   \n",
              "47800           Normal            Stray   Spayed Female   \n",
              "47801           Normal            Stray     Intact Male   \n",
              "47802          Injured         Wildlife         Unknown   \n",
              "\n",
              "       age_upon_intake_(days)  intake_month  intake_year  intake_monthyear  \\\n",
              "0                        3650            12         2017            201712   \n",
              "1                        2555            12         2014            201412   \n",
              "2                        2190             3         2014            201403   \n",
              "3                        3650             4         2014            201404   \n",
              "4                        5840            11         2013            201311   \n",
              "...                       ...           ...          ...               ...   \n",
              "47798                    2920             3         2016            201603   \n",
              "47799                     365             3         2016            201603   \n",
              "47800                    4015             3         2016            201603   \n",
              "47801                    1825             3         2016            201603   \n",
              "47802                     365             3         2016            201603   \n",
              "\n",
              "      intake_weekday  intake_hour  intake_number  time_in_shelter_days  \\\n",
              "0           Thursday           14            1.0              0.588194   \n",
              "1             Friday           10            2.0              1.259722   \n",
              "2             Friday           14            3.0              1.113889   \n",
              "3          Wednesday           15            1.0              4.970139   \n",
              "4           Saturday            9            1.0              0.119444   \n",
              "...              ...          ...            ...                   ...   \n",
              "47798         Sunday           11            1.0             21.525000   \n",
              "47799         Sunday           11            1.0              2.306944   \n",
              "47800         Sunday           11            1.0              0.224306   \n",
              "47801         Sunday           11            1.0             13.069444   \n",
              "47802         Sunday           12            1.0              0.014583   \n",
              "\n",
              "      sex_upon_outcome  age_upon_outcome_(days)  outcome_month  outcome_year  \\\n",
              "0        Neutered Male                     3650             12          2017   \n",
              "1        Neutered Male                     2555             12          2014   \n",
              "2        Neutered Male                     2190              3          2014   \n",
              "3        Neutered Male                     3650              4          2014   \n",
              "4        Neutered Male                     5840             11          2013   \n",
              "...                ...                      ...            ...           ...   \n",
              "47798    Neutered Male                     2920              4          2016   \n",
              "47799    Neutered Male                      365              3          2016   \n",
              "47800    Spayed Female                     4015              3          2016   \n",
              "47801    Neutered Male                     1825              4          2016   \n",
              "47802          Unknown                      365              3          2016   \n",
              "\n",
              "       outcome_monthyear outcome_weekday  outcome_hour     outcome_type  \\\n",
              "0                 201712        Thursday             0  Return to Owner   \n",
              "1                 201412        Saturday            16  Return to Owner   \n",
              "2                 201403        Saturday            17  Return to Owner   \n",
              "3                 201404          Monday            15          Missing   \n",
              "4                 201311        Saturday            11  Return to Owner   \n",
              "...                  ...             ...           ...              ...   \n",
              "47798             201604          Monday             0        Rto-Adopt   \n",
              "47799             201603         Tuesday            19         Adoption   \n",
              "47800             201603          Sunday            17  Return to Owner   \n",
              "47801             201604        Saturday            13         Adoption   \n",
              "47802             201603          Sunday            12       Euthanasia   \n",
              "\n",
              "       intake_day  \n",
              "0               7  \n",
              "1              19  \n",
              "2               7  \n",
              "3               2  \n",
              "4              16  \n",
              "...           ...  \n",
              "47798          27  \n",
              "47799          27  \n",
              "47800          27  \n",
              "47801          27  \n",
              "47802          27  \n",
              "\n",
              "[47803 rows x 24 columns]"
            ]
          },
          "metadata": {},
          "execution_count": 28
        }
      ],
      "source": [
        "X['intake_monthyear'] = X['intake_year'] * 100 + X['intake_month']\n",
        "X['outcome_monthyear'] = X['outcome_year']* 100 + X['outcome_month']\n",
        "X"
      ]
    },
    {
      "cell_type": "markdown",
      "metadata": {
        "id": "Pd1sGVxUIuhI"
      },
      "source": [
        "My hypothesis regarding outcomeWeekdays should be that there will more adoptions on sundays and saturdays as people have holiday and they can visit the facility for official adoption. I dont think that intakeWeekdays will have much significance to our prediction, we will check and discard it later if required."
      ]
    },
    {
      "cell_type": "code",
      "execution_count": 29,
      "metadata": {
        "colab": {
          "base_uri": "https://localhost:8080/",
          "height": 298
        },
        "id": "juTRCg8jIuhI",
        "outputId": "62141a21-58b0-43e7-83c5-64706a996f48"
      },
      "outputs": [
        {
          "output_type": "execute_result",
          "data": {
            "text/plain": [
              "<matplotlib.axes._subplots.AxesSubplot at 0x7fe29501bf50>"
            ]
          },
          "metadata": {},
          "execution_count": 29
        },
        {
          "output_type": "display_data",
          "data": {
            "image/png": "[encoded data removed]",
            "text/plain": [
              "<Figure size 432x288 with 1 Axes>"
            ]
          },
          "metadata": {
            "needs_background": "light"
          }
        }
      ],
      "source": [
        "sns.countplot(x= 'outcome_weekday', hue=\"outcome_type\", data= X)"
      ]
    },
    {
      "cell_type": "markdown",
      "metadata": {
        "id": "6H23NWbrIuhI"
      },
      "source": [
        "The results are as expected there are relatively more adoptions on saturday and sundays. Hence we will keep these variables for now and test it in our variable importance plot."
      ]
    },
    {
      "cell_type": "code",
      "execution_count": 30,
      "metadata": {
        "colab": {
          "base_uri": "https://localhost:8080/",
          "height": 351
        },
        "id": "6UEiLQg5IuhJ",
        "outputId": "9b6b27dc-3d08-428c-822b-ac01e49427ae"
      },
      "outputs": [
        {
          "output_type": "execute_result",
          "data": {
            "text/plain": [
              "<matplotlib.axes._subplots.AxesSubplot at 0x7fe2951dfe10>"
            ]
          },
          "metadata": {},
          "execution_count": 30
        },
        {
          "output_type": "display_data",
          "data": {
            "image/png": "[encoded data removed]",
            "text/plain": [
              "<Figure size 1080x360 with 1 Axes>"
            ]
          },
          "metadata": {
            "needs_background": "light"
          }
        }
      ],
      "source": [
        "pyplot.figure(figsize=(15,5))\n",
        "sns.boxplot(X['outcome_type'], X['intake_number'])"
      ]
    },
    {
      "cell_type": "markdown",
      "metadata": {
        "id": "HgZlx2vFIuhJ"
      },
      "source": [
        "Higher number of intake_number has more chances of returning to owner, adoption and missing. Hence an important variable"
      ]
    },
    {
      "cell_type": "markdown",
      "metadata": {
        "id": "Zh3Gjno3IuhJ"
      },
      "source": [
        "Lets have a quick check on variable importance and model performance so that we can tweak it accordingly."
      ]
    },
    {
      "cell_type": "markdown",
      "metadata": {
        "id": "tC8FtjiyIuhJ"
      },
      "source": [
        "** Converting the data into training and validation set **"
      ]
    },
    {
      "cell_type": "code",
      "execution_count": 31,
      "metadata": {
        "colab": {
          "base_uri": "https://localhost:8080/",
          "height": 600
        },
        "id": "i_6q_Re2IuhJ",
        "outputId": "37cda4e2-b1ab-45dd-a91a-ee1440371720"
      },
      "outputs": [
        {
          "output_type": "execute_result",
          "data": {
            "text/html": [
              "<div>\n",
              "<style scoped>\n",
              "    .dataframe tbody tr th:only-of-type {\n",
              "        vertical-align: middle;\n",
              "    }\n",
              "\n",
              "    .dataframe tbody tr th {\n",
              "        vertical-align: top;\n",
              "    }\n",
              "\n",
              "    .dataframe thead th {\n",
              "        text-align: right;\n",
              "    }\n",
              "</style>\n",
              "<table border=\"1\" class=\"dataframe\">\n",
              "  <thead>\n",
              "    <tr style=\"text-align: right;\">\n",
              "      <th></th>\n",
              "      <th>dob_year</th>\n",
              "      <th>animal_type</th>\n",
              "      <th>breed</th>\n",
              "      <th>color</th>\n",
              "      <th>intake_condition</th>\n",
              "      <th>intake_type</th>\n",
              "      <th>sex_upon_intake</th>\n",
              "      <th>age_upon_intake_(days)</th>\n",
              "      <th>intake_month</th>\n",
              "      <th>intake_year</th>\n",
              "      <th>intake_monthyear</th>\n",
              "      <th>intake_weekday</th>\n",
              "      <th>intake_hour</th>\n",
              "      <th>intake_number</th>\n",
              "      <th>time_in_shelter_days</th>\n",
              "      <th>sex_upon_outcome</th>\n",
              "      <th>age_upon_outcome_(days)</th>\n",
              "      <th>outcome_month</th>\n",
              "      <th>outcome_year</th>\n",
              "      <th>outcome_monthyear</th>\n",
              "      <th>outcome_weekday</th>\n",
              "      <th>outcome_hour</th>\n",
              "      <th>outcome_type</th>\n",
              "      <th>intake_day</th>\n",
              "    </tr>\n",
              "  </thead>\n",
              "  <tbody>\n",
              "    <tr>\n",
              "      <th>0</th>\n",
              "      <td>2007</td>\n",
              "      <td>Dog</td>\n",
              "      <td>Spinone Italiano Mix</td>\n",
              "      <td>Yellow/White</td>\n",
              "      <td>Normal</td>\n",
              "      <td>Stray</td>\n",
              "      <td>Neutered Male</td>\n",
              "      <td>3650</td>\n",
              "      <td>12</td>\n",
              "      <td>2017</td>\n",
              "      <td>201712</td>\n",
              "      <td>Thursday</td>\n",
              "      <td>14</td>\n",
              "      <td>1.0</td>\n",
              "      <td>0.588194</td>\n",
              "      <td>Neutered Male</td>\n",
              "      <td>3650</td>\n",
              "      <td>12</td>\n",
              "      <td>2017</td>\n",
              "      <td>201712</td>\n",
              "      <td>Thursday</td>\n",
              "      <td>0</td>\n",
              "      <td>Return to Owner</td>\n",
              "      <td>7</td>\n",
              "    </tr>\n",
              "    <tr>\n",
              "      <th>1</th>\n",
              "      <td>2007</td>\n",
              "      <td>Dog</td>\n",
              "      <td>Spinone Italiano Mix</td>\n",
              "      <td>Yellow/White</td>\n",
              "      <td>Normal</td>\n",
              "      <td>Public Assist</td>\n",
              "      <td>Neutered Male</td>\n",
              "      <td>2555</td>\n",
              "      <td>12</td>\n",
              "      <td>2014</td>\n",
              "      <td>201412</td>\n",
              "      <td>Friday</td>\n",
              "      <td>10</td>\n",
              "      <td>2.0</td>\n",
              "      <td>1.259722</td>\n",
              "      <td>Neutered Male</td>\n",
              "      <td>2555</td>\n",
              "      <td>12</td>\n",
              "      <td>2014</td>\n",
              "      <td>201412</td>\n",
              "      <td>Saturday</td>\n",
              "      <td>16</td>\n",
              "      <td>Return to Owner</td>\n",
              "      <td>19</td>\n",
              "    </tr>\n",
              "    <tr>\n",
              "      <th>2</th>\n",
              "      <td>2007</td>\n",
              "      <td>Dog</td>\n",
              "      <td>Spinone Italiano Mix</td>\n",
              "      <td>Yellow/White</td>\n",
              "      <td>Normal</td>\n",
              "      <td>Public Assist</td>\n",
              "      <td>Neutered Male</td>\n",
              "      <td>2190</td>\n",
              "      <td>3</td>\n",
              "      <td>2014</td>\n",
              "      <td>201403</td>\n",
              "      <td>Friday</td>\n",
              "      <td>14</td>\n",
              "      <td>3.0</td>\n",
              "      <td>1.113889</td>\n",
              "      <td>Neutered Male</td>\n",
              "      <td>2190</td>\n",
              "      <td>3</td>\n",
              "      <td>2014</td>\n",
              "      <td>201403</td>\n",
              "      <td>Saturday</td>\n",
              "      <td>17</td>\n",
              "      <td>Return to Owner</td>\n",
              "      <td>7</td>\n",
              "    </tr>\n",
              "    <tr>\n",
              "      <th>3</th>\n",
              "      <td>2004</td>\n",
              "      <td>Dog</td>\n",
              "      <td>Dachshund</td>\n",
              "      <td>Tricolor</td>\n",
              "      <td>Normal</td>\n",
              "      <td>Owner Surrender</td>\n",
              "      <td>Neutered Male</td>\n",
              "      <td>3650</td>\n",
              "      <td>4</td>\n",
              "      <td>2014</td>\n",
              "      <td>201404</td>\n",
              "      <td>Wednesday</td>\n",
              "      <td>15</td>\n",
              "      <td>1.0</td>\n",
              "      <td>4.970139</td>\n",
              "      <td>Neutered Male</td>\n",
              "      <td>3650</td>\n",
              "      <td>4</td>\n",
              "      <td>2014</td>\n",
              "      <td>201404</td>\n",
              "      <td>Monday</td>\n",
              "      <td>15</td>\n",
              "      <td>Missing</td>\n",
              "      <td>2</td>\n",
              "    </tr>\n",
              "    <tr>\n",
              "      <th>4</th>\n",
              "      <td>1997</td>\n",
              "      <td>Dog</td>\n",
              "      <td>Shetland Sheepdog</td>\n",
              "      <td>Brown/White</td>\n",
              "      <td>Injured</td>\n",
              "      <td>Public Assist</td>\n",
              "      <td>Neutered Male</td>\n",
              "      <td>5840</td>\n",
              "      <td>11</td>\n",
              "      <td>2013</td>\n",
              "      <td>201311</td>\n",
              "      <td>Saturday</td>\n",
              "      <td>9</td>\n",
              "      <td>1.0</td>\n",
              "      <td>0.119444</td>\n",
              "      <td>Neutered Male</td>\n",
              "      <td>5840</td>\n",
              "      <td>11</td>\n",
              "      <td>2013</td>\n",
              "      <td>201311</td>\n",
              "      <td>Saturday</td>\n",
              "      <td>11</td>\n",
              "      <td>Return to Owner</td>\n",
              "      <td>16</td>\n",
              "    </tr>\n",
              "    <tr>\n",
              "      <th>...</th>\n",
              "      <td>...</td>\n",
              "      <td>...</td>\n",
              "      <td>...</td>\n",
              "      <td>...</td>\n",
              "      <td>...</td>\n",
              "      <td>...</td>\n",
              "      <td>...</td>\n",
              "      <td>...</td>\n",
              "      <td>...</td>\n",
              "      <td>...</td>\n",
              "      <td>...</td>\n",
              "      <td>...</td>\n",
              "      <td>...</td>\n",
              "      <td>...</td>\n",
              "      <td>...</td>\n",
              "      <td>...</td>\n",
              "      <td>...</td>\n",
              "      <td>...</td>\n",
              "      <td>...</td>\n",
              "      <td>...</td>\n",
              "      <td>...</td>\n",
              "      <td>...</td>\n",
              "      <td>...</td>\n",
              "      <td>...</td>\n",
              "    </tr>\n",
              "    <tr>\n",
              "      <th>47798</th>\n",
              "      <td>2007</td>\n",
              "      <td>Cat</td>\n",
              "      <td>Domestic Longhair Mix</td>\n",
              "      <td>Black/White</td>\n",
              "      <td>Normal</td>\n",
              "      <td>Stray</td>\n",
              "      <td>Neutered Male</td>\n",
              "      <td>2920</td>\n",
              "      <td>3</td>\n",
              "      <td>2016</td>\n",
              "      <td>201603</td>\n",
              "      <td>Sunday</td>\n",
              "      <td>11</td>\n",
              "      <td>1.0</td>\n",
              "      <td>21.525000</td>\n",
              "      <td>Neutered Male</td>\n",
              "      <td>2920</td>\n",
              "      <td>4</td>\n",
              "      <td>2016</td>\n",
              "      <td>201604</td>\n",
              "      <td>Monday</td>\n",
              "      <td>0</td>\n",
              "      <td>Rto-Adopt</td>\n",
              "      <td>27</td>\n",
              "    </tr>\n",
              "    <tr>\n",
              "      <th>47799</th>\n",
              "      <td>2015</td>\n",
              "      <td>Dog</td>\n",
              "      <td>Cairn Terrier Mix</td>\n",
              "      <td>Gray/White</td>\n",
              "      <td>Normal</td>\n",
              "      <td>Owner Surrender</td>\n",
              "      <td>Intact Male</td>\n",
              "      <td>365</td>\n",
              "      <td>3</td>\n",
              "      <td>2016</td>\n",
              "      <td>201603</td>\n",
              "      <td>Sunday</td>\n",
              "      <td>11</td>\n",
              "      <td>1.0</td>\n",
              "      <td>2.306944</td>\n",
              "      <td>Neutered Male</td>\n",
              "      <td>365</td>\n",
              "      <td>3</td>\n",
              "      <td>2016</td>\n",
              "      <td>201603</td>\n",
              "      <td>Tuesday</td>\n",
              "      <td>19</td>\n",
              "      <td>Adoption</td>\n",
              "      <td>27</td>\n",
              "    </tr>\n",
              "    <tr>\n",
              "      <th>47800</th>\n",
              "      <td>2005</td>\n",
              "      <td>Dog</td>\n",
              "      <td>Shetland Sheepdog Mix</td>\n",
              "      <td>Brown/Tan</td>\n",
              "      <td>Normal</td>\n",
              "      <td>Stray</td>\n",
              "      <td>Spayed Female</td>\n",
              "      <td>4015</td>\n",
              "      <td>3</td>\n",
              "      <td>2016</td>\n",
              "      <td>201603</td>\n",
              "      <td>Sunday</td>\n",
              "      <td>11</td>\n",
              "      <td>1.0</td>\n",
              "      <td>0.224306</td>\n",
              "      <td>Spayed Female</td>\n",
              "      <td>4015</td>\n",
              "      <td>3</td>\n",
              "      <td>2016</td>\n",
              "      <td>201603</td>\n",
              "      <td>Sunday</td>\n",
              "      <td>17</td>\n",
              "      <td>Return to Owner</td>\n",
              "      <td>27</td>\n",
              "    </tr>\n",
              "    <tr>\n",
              "      <th>47801</th>\n",
              "      <td>2011</td>\n",
              "      <td>Dog</td>\n",
              "      <td>Boxer/Catahoula</td>\n",
              "      <td>Brown Brindle/White</td>\n",
              "      <td>Normal</td>\n",
              "      <td>Stray</td>\n",
              "      <td>Intact Male</td>\n",
              "      <td>1825</td>\n",
              "      <td>3</td>\n",
              "      <td>2016</td>\n",
              "      <td>201603</td>\n",
              "      <td>Sunday</td>\n",
              "      <td>11</td>\n",
              "      <td>1.0</td>\n",
              "      <td>13.069444</td>\n",
              "      <td>Neutered Male</td>\n",
              "      <td>1825</td>\n",
              "      <td>4</td>\n",
              "      <td>2016</td>\n",
              "      <td>201604</td>\n",
              "      <td>Saturday</td>\n",
              "      <td>13</td>\n",
              "      <td>Adoption</td>\n",
              "      <td>27</td>\n",
              "    </tr>\n",
              "    <tr>\n",
              "      <th>47802</th>\n",
              "      <td>2015</td>\n",
              "      <td>Other</td>\n",
              "      <td>Opossum</td>\n",
              "      <td>Gray</td>\n",
              "      <td>Injured</td>\n",
              "      <td>Wildlife</td>\n",
              "      <td>Unknown</td>\n",
              "      <td>365</td>\n",
              "      <td>3</td>\n",
              "      <td>2016</td>\n",
              "      <td>201603</td>\n",
              "      <td>Sunday</td>\n",
              "      <td>12</td>\n",
              "      <td>1.0</td>\n",
              "      <td>0.014583</td>\n",
              "      <td>Unknown</td>\n",
              "      <td>365</td>\n",
              "      <td>3</td>\n",
              "      <td>2016</td>\n",
              "      <td>201603</td>\n",
              "      <td>Sunday</td>\n",
              "      <td>12</td>\n",
              "      <td>Euthanasia</td>\n",
              "      <td>27</td>\n",
              "    </tr>\n",
              "  </tbody>\n",
              "</table>\n",
              "<p>47803 rows × 24 columns</p>\n",
              "</div>"
            ],
            "text/plain": [
              "       dob_year animal_type                  breed                color  \\\n",
              "0          2007         Dog   Spinone Italiano Mix         Yellow/White   \n",
              "1          2007         Dog   Spinone Italiano Mix         Yellow/White   \n",
              "2          2007         Dog   Spinone Italiano Mix         Yellow/White   \n",
              "3          2004         Dog              Dachshund             Tricolor   \n",
              "4          1997         Dog      Shetland Sheepdog          Brown/White   \n",
              "...         ...         ...                    ...                  ...   \n",
              "47798      2007         Cat  Domestic Longhair Mix          Black/White   \n",
              "47799      2015         Dog      Cairn Terrier Mix           Gray/White   \n",
              "47800      2005         Dog  Shetland Sheepdog Mix            Brown/Tan   \n",
              "47801      2011         Dog        Boxer/Catahoula  Brown Brindle/White   \n",
              "47802      2015       Other                Opossum                 Gray   \n",
              "\n",
              "      intake_condition      intake_type sex_upon_intake  \\\n",
              "0               Normal            Stray   Neutered Male   \n",
              "1               Normal    Public Assist   Neutered Male   \n",
              "2               Normal    Public Assist   Neutered Male   \n",
              "3               Normal  Owner Surrender   Neutered Male   \n",
              "4              Injured    Public Assist   Neutered Male   \n",
              "...                ...              ...             ...   \n",
              "47798           Normal            Stray   Neutered Male   \n",
              "47799           Normal  Owner Surrender     Intact Male   \n",
              "47800           Normal            Stray   Spayed Female   \n",
              "47801           Normal            Stray     Intact Male   \n",
              "47802          Injured         Wildlife         Unknown   \n",
              "\n",
              "       age_upon_intake_(days)  intake_month  intake_year  intake_monthyear  \\\n",
              "0                        3650            12         2017            201712   \n",
              "1                        2555            12         2014            201412   \n",
              "2                        2190             3         2014            201403   \n",
              "3                        3650             4         2014            201404   \n",
              "4                        5840            11         2013            201311   \n",
              "...                       ...           ...          ...               ...   \n",
              "47798                    2920             3         2016            201603   \n",
              "47799                     365             3         2016            201603   \n",
              "47800                    4015             3         2016            201603   \n",
              "47801                    1825             3         2016            201603   \n",
              "47802                     365             3         2016            201603   \n",
              "\n",
              "      intake_weekday  intake_hour  intake_number  time_in_shelter_days  \\\n",
              "0           Thursday           14            1.0              0.588194   \n",
              "1             Friday           10            2.0              1.259722   \n",
              "2             Friday           14            3.0              1.113889   \n",
              "3          Wednesday           15            1.0              4.970139   \n",
              "4           Saturday            9            1.0              0.119444   \n",
              "...              ...          ...            ...                   ...   \n",
              "47798         Sunday           11            1.0             21.525000   \n",
              "47799         Sunday           11            1.0              2.306944   \n",
              "47800         Sunday           11            1.0              0.224306   \n",
              "47801         Sunday           11            1.0             13.069444   \n",
              "47802         Sunday           12            1.0              0.014583   \n",
              "\n",
              "      sex_upon_outcome  age_upon_outcome_(days)  outcome_month  outcome_year  \\\n",
              "0        Neutered Male                     3650             12          2017   \n",
              "1        Neutered Male                     2555             12          2014   \n",
              "2        Neutered Male                     2190              3          2014   \n",
              "3        Neutered Male                     3650              4          2014   \n",
              "4        Neutered Male                     5840             11          2013   \n",
              "...                ...                      ...            ...           ...   \n",
              "47798    Neutered Male                     2920              4          2016   \n",
              "47799    Neutered Male                      365              3          2016   \n",
              "47800    Spayed Female                     4015              3          2016   \n",
              "47801    Neutered Male                     1825              4          2016   \n",
              "47802          Unknown                      365              3          2016   \n",
              "\n",
              "       outcome_monthyear outcome_weekday  outcome_hour     outcome_type  \\\n",
              "0                 201712        Thursday             0  Return to Owner   \n",
              "1                 201412        Saturday            16  Return to Owner   \n",
              "2                 201403        Saturday            17  Return to Owner   \n",
              "3                 201404          Monday            15          Missing   \n",
              "4                 201311        Saturday            11  Return to Owner   \n",
              "...                  ...             ...           ...              ...   \n",
              "47798             201604          Monday             0        Rto-Adopt   \n",
              "47799             201603         Tuesday            19         Adoption   \n",
              "47800             201603          Sunday            17  Return to Owner   \n",
              "47801             201604        Saturday            13         Adoption   \n",
              "47802             201603          Sunday            12       Euthanasia   \n",
              "\n",
              "       intake_day  \n",
              "0               7  \n",
              "1              19  \n",
              "2               7  \n",
              "3               2  \n",
              "4              16  \n",
              "...           ...  \n",
              "47798          27  \n",
              "47799          27  \n",
              "47800          27  \n",
              "47801          27  \n",
              "47802          27  \n",
              "\n",
              "[47803 rows x 24 columns]"
            ]
          },
          "metadata": {},
          "execution_count": 31
        }
      ],
      "source": [
        "X"
      ]
    },
    {
      "cell_type": "markdown",
      "metadata": {
        "id": "Jq3s5kqyIuhJ"
      },
      "source": [
        "# Feature encoding(initial iteration)"
      ]
    },
    {
      "cell_type": "code",
      "execution_count": 32,
      "metadata": {
        "collapsed": true,
        "id": "WzAN8YrTIuhJ"
      },
      "outputs": [],
      "source": [
        "X_check = X.copy()"
      ]
    },
    {
      "cell_type": "code",
      "execution_count": 33,
      "metadata": {
        "collapsed": true,
        "id": "tvbP-9iEIuhJ"
      },
      "outputs": [],
      "source": [
        "def onehotdataframe(X_check):    \n",
        "    one_hot_animal_type=pd.get_dummies(X_check.animal_type)\n",
        "\n",
        "    one_hot_intake_condition = pd.get_dummies(X_check.intake_condition)\n",
        "    one_hot_intake_condition.columns = [str(col) + '_intake' for col in one_hot_intake_condition.columns]\n",
        "\n",
        "    one_hot_intake_type = pd.get_dummies(X_check.intake_type)\n",
        "    one_hot_intake_type.columns = [str(col) + '_intake' for col in one_hot_intake_type.columns]\n",
        "\n",
        "    one_hot_sex_upon_intake = pd.get_dummies(X_check.sex_upon_intake)\n",
        "    one_hot_sex_upon_intake.columns = [str(col) + '_intake' for col in one_hot_sex_upon_intake.columns]\n",
        "\n",
        "    one_hot_intake_weekday = pd.get_dummies(X_check.intake_weekday)\n",
        "    one_hot_intake_weekday.columns = [str(col) + '_intake' for col in one_hot_intake_weekday.columns]\n",
        "\n",
        "    one_hot_sex_upon_outcome = pd.get_dummies(X_check.sex_upon_outcome)\n",
        "    one_hot_sex_upon_outcome.columns = [str(col) + '_outcome' for col in one_hot_sex_upon_outcome.columns]\n",
        "\n",
        "    one_hot_outcome_weekday = pd.get_dummies(X_check.outcome_weekday)\n",
        "    one_hot_outcome_weekday.columns = [str(col) + '_outcome' for col in one_hot_outcome_weekday.columns]     \n",
        "\n",
        "    X_check = X_check.drop(['animal_type','intake_type', 'intake_condition', 'sex_upon_intake', 'intake_weekday', 'sex_upon_outcome', 'outcome_weekday'], axis = 1) \n",
        "\n",
        "    #Merging one hot encoded features with our dataset 'data' \n",
        "    X_check=pd.concat([X_check, one_hot_animal_type,one_hot_intake_condition,one_hot_intake_type,one_hot_sex_upon_intake,one_hot_intake_weekday,one_hot_sex_upon_outcome,one_hot_outcome_weekday],axis=1)  \n",
        "    \n",
        "    return(X_check)"
      ]
    },
    {
      "cell_type": "code",
      "execution_count": 34,
      "metadata": {
        "collapsed": true,
        "id": "03FeRJxzIuhK"
      },
      "outputs": [],
      "source": [
        "X_check = onehotdataframe(X_check)\n",
        "X_check['outcome_type'] = X_check['outcome_type'].map({'Adoption' : 8, 'Transfer': 7, 'Return to Owner' : 6, 'Euthanasia' : 5, 'Died' : 4, 'Missing' : 3, 'Relocate' : 2, 'Rto-Adopt' : 1, 'Disposal' : 0}) \n",
        "y_check = X_check['outcome_type']\n",
        "X_check= X_check.drop(['outcome_type'], axis = 1)"
      ]
    },
    {
      "cell_type": "markdown",
      "metadata": {
        "id": "k2rF3YNUIuhK"
      },
      "source": [
        "** Applying label encoding: **"
      ]
    },
    {
      "cell_type": "code",
      "execution_count": 35,
      "metadata": {
        "collapsed": true,
        "id": "T6osDxL1IuhK"
      },
      "outputs": [],
      "source": [
        "le1= LabelEncoder()\n",
        "le2= LabelEncoder()\n",
        "\n",
        "le1.fit(X_check['breed'])\n",
        "#print(le1.classes_)\n",
        "\n",
        "X_check['breed'] = le1.transform(X_check['breed'])\n",
        "\n",
        "le2.fit(X_check['color'])\n",
        "#print(le2.classes_)\n",
        "\n",
        "X_check['color'] = le2.transform(X_check['color'])"
      ]
    },
    {
      "cell_type": "code",
      "execution_count": 36,
      "metadata": {
        "colab": {
          "base_uri": "https://localhost:8080/"
        },
        "id": "e6VZXf8QIuhK",
        "outputId": "b08357c1-c51e-4192-e3b9-931028440cb0"
      },
      "outputs": [
        {
          "output_type": "stream",
          "name": "stdout",
          "text": [
            "(38242, 57) (9561, 57) (38242,) (9561,)\n"
          ]
        }
      ],
      "source": [
        "# Splitting the dataset into the Training set and Test set.\n",
        "X_train_check, X_val_check, y_train_check, y_val_check = train_test_split(X_check, y_check, test_size = 0.2, random_state = 20)\n",
        "#Split is 80%-20% for testing. Here X_test~Validation set.\n",
        "\n",
        "\n",
        "print(X_train_check.shape, X_val_check.shape, y_train_check.shape, y_val_check.shape)"
      ]
    },
    {
      "cell_type": "code",
      "execution_count": 37,
      "metadata": {
        "colab": {
          "base_uri": "https://localhost:8080/",
          "height": 363
        },
        "id": "JiCpwPruIuhK",
        "outputId": "e5098840-660d-4689-be1e-31b7190452b1"
      },
      "outputs": [
        {
          "output_type": "execute_result",
          "data": {
            "text/plain": [
              "Text(0, 0.5, 'Frequency')"
            ]
          },
          "metadata": {},
          "execution_count": 37
        },
        {
          "output_type": "display_data",
          "data": {
            "image/png": "[encoded data removed]",
            "text/plain": [
              "<Figure size 720x360 with 1 Axes>"
            ]
          },
          "metadata": {
            "needs_background": "light"
          }
        }
      ],
      "source": [
        "#Drawing a count plot of dependent variable to check the biasness of prediction in data present\n",
        "bx = pd.DataFrame(y_train_check)['outcome_type'].value_counts().plot(kind='bar',figsize=(10,5),title=\"Frequency of each outcome type\")\n",
        "bx.set_xlabel(\"Outcome Type\")\n",
        "bx.set_ylabel(\"Frequency\")"
      ]
    },
    {
      "cell_type": "code",
      "execution_count": 38,
      "metadata": {
        "colab": {
          "base_uri": "https://localhost:8080/"
        },
        "id": "oGq1W99IIuhK",
        "outputId": "8d01cab0-5ffc-49a5-f5d8-a739646a04f3"
      },
      "outputs": [
        {
          "output_type": "stream",
          "name": "stdout",
          "text": [
            "Class distribution count\n",
            "8    10392\n",
            "7     8261\n",
            "6     7785\n",
            "5     3247\n",
            "4     2305\n",
            "3     2058\n",
            "2     2055\n",
            "1     1991\n",
            "0      148\n",
            "Name: outcome_type, dtype: int64\n",
            "Class distribution percent(%)\n",
            "8    26.932329\n",
            "7    21.796883\n",
            "6    20.217550\n",
            "5     9.381864\n",
            "3     5.658404\n",
            "4     5.480598\n",
            "2     5.417843\n",
            "1     4.800753\n",
            "0     0.313775\n",
            "Name: outcome_type, dtype: float64\n"
          ]
        }
      ],
      "source": [
        "print(\"Class distribution count\")\n",
        "print(pd.DataFrame(y_train_check)['outcome_type'].value_counts())\n",
        "print(\"Class distribution percent(%)\")\n",
        "print(pd.DataFrame(y_val_check)['outcome_type'].value_counts(normalize = True)*100)"
      ]
    },
    {
      "cell_type": "markdown",
      "metadata": {
        "id": "owa7Oiy8IuhL"
      },
      "source": [
        "This implies we are good to go with this training data set as it is showing same stats as that of combined dataset."
      ]
    },
    {
      "cell_type": "code",
      "execution_count": 39,
      "metadata": {
        "colab": {
          "base_uri": "https://localhost:8080/"
        },
        "id": "ryfj-GiDIuhL",
        "outputId": "b6c97d2f-9ab5-438c-e733-aeeae0603cf9"
      },
      "outputs": [
        {
          "output_type": "execute_result",
          "data": {
            "text/plain": [
              "array([6, 8, 3, 7, 4, 2, 5, 1, 0])"
            ]
          },
          "metadata": {},
          "execution_count": 39
        }
      ],
      "source": [
        "y_train_check.unique()"
      ]
    },
    {
      "cell_type": "markdown",
      "metadata": {
        "id": "JvRYJPWOIuhL"
      },
      "source": [
        "# Modelling(Initial iterations)"
      ]
    },
    {
      "cell_type": "markdown",
      "metadata": {
        "id": "mk7FlWliIuhL"
      },
      "source": [
        "** Starting with lightgbm test**"
      ]
    },
    {
      "cell_type": "markdown",
      "metadata": {
        "id": "O71ACyTjIuhL"
      },
      "source": [
        "** Test 1**"
      ]
    },
    {
      "cell_type": "code",
      "execution_count": 40,
      "metadata": {
        "collapsed": true,
        "id": "cWBIW8M5IuhL"
      },
      "outputs": [],
      "source": [
        "import lightgbm as lgb"
      ]
    },
    {
      "cell_type": "code",
      "execution_count": 41,
      "metadata": {
        "collapsed": true,
        "id": "W5S5D9o4IuhL"
      },
      "outputs": [],
      "source": [
        "check_train_data=lgb.Dataset(X_train_check,label=y_train_check)"
      ]
    },
    {
      "cell_type": "code",
      "execution_count": 42,
      "metadata": {
        "collapsed": true,
        "id": "Xd4R-FWUIuhL"
      },
      "outputs": [],
      "source": [
        "params = {'task': 'train',\n",
        "    'boosting_type': 'gbdt',\n",
        "    'objective': 'multiclass',\n",
        "    'num_class':9,\n",
        "    'metric': 'multi_logloss',\n",
        "    'learning_rate': 0.0023,\n",
        "    'max_depth': 7,\n",
        "    'num_leaves': 16,\n",
        "    'feature_fraction': 0.4,\n",
        "    'bagging_fraction': 0.6,\n",
        "    'bagging_freq': 17 }"
      ]
    },
    {
      "cell_type": "code",
      "execution_count": 43,
      "metadata": {
        "colab": {
          "base_uri": "https://localhost:8080/"
        },
        "id": "Grzv4qybIuhM",
        "outputId": "d4d28673-da9f-4d97-8656-79dcce1b8ac0"
      },
      "outputs": [
        {
          "output_type": "stream",
          "name": "stdout",
          "text": [
            "[20]\tcv_agg's multi_logloss: 1.84858 + 0.000292644\n",
            "[40]\tcv_agg's multi_logloss: 1.82409 + 0.000639746\n",
            "[60]\tcv_agg's multi_logloss: 1.80214 + 0.000959411\n",
            "[80]\tcv_agg's multi_logloss: 1.78001 + 0.00114089\n",
            "[100]\tcv_agg's multi_logloss: 1.76005 + 0.00136077\n",
            "[120]\tcv_agg's multi_logloss: 1.74072 + 0.00160404\n",
            "[140]\tcv_agg's multi_logloss: 1.72143 + 0.00176574\n",
            "[160]\tcv_agg's multi_logloss: 1.70556 + 0.00194014\n",
            "[180]\tcv_agg's multi_logloss: 1.69009 + 0.00207058\n",
            "[200]\tcv_agg's multi_logloss: 1.67531 + 0.00214652\n",
            "[220]\tcv_agg's multi_logloss: 1.66171 + 0.00222755\n",
            "[240]\tcv_agg's multi_logloss: 1.64791 + 0.00228801\n",
            "[260]\tcv_agg's multi_logloss: 1.63408 + 0.00237302\n",
            "[280]\tcv_agg's multi_logloss: 1.62174 + 0.00249412\n",
            "[300]\tcv_agg's multi_logloss: 1.60939 + 0.00260243\n",
            "[320]\tcv_agg's multi_logloss: 1.59786 + 0.00268335\n",
            "[340]\tcv_agg's multi_logloss: 1.58641 + 0.0027634\n",
            "[360]\tcv_agg's multi_logloss: 1.57585 + 0.00284337\n",
            "[380]\tcv_agg's multi_logloss: 1.5653 + 0.00295668\n",
            "[400]\tcv_agg's multi_logloss: 1.55531 + 0.00300516\n",
            "[420]\tcv_agg's multi_logloss: 1.54658 + 0.00306544\n",
            "[440]\tcv_agg's multi_logloss: 1.53701 + 0.00310638\n",
            "[460]\tcv_agg's multi_logloss: 1.52857 + 0.00321625\n",
            "[480]\tcv_agg's multi_logloss: 1.52038 + 0.00326374\n",
            "[500]\tcv_agg's multi_logloss: 1.51197 + 0.00333197\n",
            "[520]\tcv_agg's multi_logloss: 1.50351 + 0.0033803\n",
            "[540]\tcv_agg's multi_logloss: 1.49606 + 0.00342254\n",
            "[560]\tcv_agg's multi_logloss: 1.48881 + 0.00344699\n",
            "[580]\tcv_agg's multi_logloss: 1.48207 + 0.00346074\n",
            "[600]\tcv_agg's multi_logloss: 1.47549 + 0.00351202\n",
            "[620]\tcv_agg's multi_logloss: 1.46914 + 0.00354545\n",
            "[640]\tcv_agg's multi_logloss: 1.46303 + 0.00360104\n",
            "[660]\tcv_agg's multi_logloss: 1.45662 + 0.00362444\n",
            "[680]\tcv_agg's multi_logloss: 1.44999 + 0.00364069\n",
            "[700]\tcv_agg's multi_logloss: 1.44406 + 0.0036682\n",
            "[720]\tcv_agg's multi_logloss: 1.43859 + 0.00368354\n",
            "[740]\tcv_agg's multi_logloss: 1.43312 + 0.00370194\n",
            "[760]\tcv_agg's multi_logloss: 1.4278 + 0.00375393\n",
            "[780]\tcv_agg's multi_logloss: 1.42282 + 0.0037649\n",
            "[800]\tcv_agg's multi_logloss: 1.41784 + 0.00378295\n",
            "[820]\tcv_agg's multi_logloss: 1.41261 + 0.00380457\n",
            "[840]\tcv_agg's multi_logloss: 1.40806 + 0.0038571\n",
            "[860]\tcv_agg's multi_logloss: 1.40301 + 0.00388851\n",
            "[880]\tcv_agg's multi_logloss: 1.39876 + 0.00394684\n",
            "[900]\tcv_agg's multi_logloss: 1.39406 + 0.00397362\n",
            "[920]\tcv_agg's multi_logloss: 1.3896 + 0.00398568\n",
            "[940]\tcv_agg's multi_logloss: 1.38542 + 0.004018\n",
            "[960]\tcv_agg's multi_logloss: 1.38136 + 0.00405892\n",
            "[980]\tcv_agg's multi_logloss: 1.37732 + 0.00407556\n",
            "[1000]\tcv_agg's multi_logloss: 1.37338 + 0.00408915\n",
            "999\n"
          ]
        }
      ],
      "source": [
        "lgb_cv = lgb.cv(params, check_train_data, num_boost_round=1000, nfold=3, shuffle=True, stratified=True, verbose_eval=20, early_stopping_rounds=100)\n",
        "\n",
        "nround = lgb_cv['multi_logloss-mean'].index(np.min(lgb_cv['multi_logloss-mean']))\n",
        "print(nround)\n",
        "\n",
        "model = lgb.train(params, check_train_data, num_boost_round=nround)"
      ]
    },
    {
      "cell_type": "code",
      "execution_count": 44,
      "metadata": {
        "collapsed": true,
        "id": "FNmuP99VIuhM"
      },
      "outputs": [],
      "source": [
        "check_y_pred = model.predict(X_val_check)"
      ]
    },
    {
      "cell_type": "code",
      "execution_count": 45,
      "metadata": {
        "collapsed": true,
        "id": "8fJ8lNnaIuhM"
      },
      "outputs": [],
      "source": [
        "best_preds_check = np.asarray([np.argmax(line) for line in check_y_pred])\n"
      ]
    },
    {
      "cell_type": "code",
      "execution_count": 46,
      "metadata": {
        "colab": {
          "base_uri": "https://localhost:8080/"
        },
        "id": "2yvsrILgIuhM",
        "outputId": "083cd06b-0822-4b41-9220-341b4ddbaf90"
      },
      "outputs": [
        {
          "output_type": "execute_result",
          "data": {
            "text/plain": [
              "0.615625980545968"
            ]
          },
          "metadata": {},
          "execution_count": 46
        }
      ],
      "source": [
        "from sklearn.metrics import f1_score\n",
        "f1_score(best_preds_check, y_val_check , average = 'micro')"
      ]
    },
    {
      "cell_type": "markdown",
      "metadata": {
        "id": "GlvqjcLTIuhM"
      },
      "source": [
        "** Test 2**"
      ]
    },
    {
      "cell_type": "code",
      "execution_count": 47,
      "metadata": {
        "collapsed": true,
        "id": "wSIDCe0xIuhM"
      },
      "outputs": [],
      "source": [
        "params2 = {'task': 'train',\n",
        "    'boosting_type': 'gbdt',\n",
        "    'objective': 'multiclass',\n",
        "    'num_class':9,\n",
        "    'metric': 'multi_logloss',\n",
        "    'learning_rate': 0.0023,\n",
        "    'max_depth': 7,\n",
        "    'num_leaves': 34,\n",
        "    'feature_fraction': 0.4,\n",
        "    'bagging_fraction': 0.6,\n",
        "    'bagging_freq': 17 }"
      ]
    },
    {
      "cell_type": "code",
      "execution_count": 48,
      "metadata": {
        "colab": {
          "base_uri": "https://localhost:8080/"
        },
        "id": "ydlYsP5ZIuhM",
        "outputId": "6a7f68e1-5826-48fb-d542-b2f463fcd708"
      },
      "outputs": [
        {
          "output_type": "stream",
          "name": "stdout",
          "text": [
            "[20]\tcv_agg's multi_logloss: 1.84718 + 0.000330096\n",
            "[40]\tcv_agg's multi_logloss: 1.82143 + 0.000688854\n",
            "[60]\tcv_agg's multi_logloss: 1.79842 + 0.000988574\n",
            "[80]\tcv_agg's multi_logloss: 1.77533 + 0.0011734\n",
            "[100]\tcv_agg's multi_logloss: 1.75455 + 0.00140443\n",
            "[120]\tcv_agg's multi_logloss: 1.73444 + 0.00160637\n",
            "[140]\tcv_agg's multi_logloss: 1.71436 + 0.00172042\n",
            "[160]\tcv_agg's multi_logloss: 1.69787 + 0.00190472\n",
            "[180]\tcv_agg's multi_logloss: 1.68187 + 0.00204689\n",
            "[200]\tcv_agg's multi_logloss: 1.66656 + 0.00209812\n",
            "[220]\tcv_agg's multi_logloss: 1.65253 + 0.00221259\n",
            "[240]\tcv_agg's multi_logloss: 1.63827 + 0.00227711\n",
            "[260]\tcv_agg's multi_logloss: 1.624 + 0.00234891\n",
            "[280]\tcv_agg's multi_logloss: 1.61126 + 0.00247969\n",
            "[300]\tcv_agg's multi_logloss: 1.59858 + 0.0026211\n",
            "[320]\tcv_agg's multi_logloss: 1.58668 + 0.00270105\n",
            "[340]\tcv_agg's multi_logloss: 1.57494 + 0.00277381\n",
            "[360]\tcv_agg's multi_logloss: 1.56407 + 0.00284136\n",
            "[380]\tcv_agg's multi_logloss: 1.55324 + 0.00296307\n",
            "[400]\tcv_agg's multi_logloss: 1.54299 + 0.00300433\n",
            "[420]\tcv_agg's multi_logloss: 1.534 + 0.00304767\n",
            "[440]\tcv_agg's multi_logloss: 1.52417 + 0.0030899\n",
            "[460]\tcv_agg's multi_logloss: 1.51552 + 0.00316431\n",
            "[480]\tcv_agg's multi_logloss: 1.50709 + 0.00321246\n",
            "[500]\tcv_agg's multi_logloss: 1.49849 + 0.00327281\n",
            "[520]\tcv_agg's multi_logloss: 1.48981 + 0.00332468\n",
            "[540]\tcv_agg's multi_logloss: 1.48224 + 0.00334736\n",
            "[560]\tcv_agg's multi_logloss: 1.47485 + 0.0033816\n",
            "[580]\tcv_agg's multi_logloss: 1.46801 + 0.00339096\n",
            "[600]\tcv_agg's multi_logloss: 1.4613 + 0.00343568\n",
            "[620]\tcv_agg's multi_logloss: 1.45483 + 0.00347627\n",
            "[640]\tcv_agg's multi_logloss: 1.44861 + 0.00351731\n",
            "[660]\tcv_agg's multi_logloss: 1.44213 + 0.00354707\n",
            "[680]\tcv_agg's multi_logloss: 1.43541 + 0.00357626\n",
            "[700]\tcv_agg's multi_logloss: 1.42944 + 0.00361988\n",
            "[720]\tcv_agg's multi_logloss: 1.42387 + 0.00362213\n",
            "[740]\tcv_agg's multi_logloss: 1.41833 + 0.00364504\n",
            "[760]\tcv_agg's multi_logloss: 1.41296 + 0.00368048\n",
            "[780]\tcv_agg's multi_logloss: 1.40792 + 0.00371091\n",
            "[800]\tcv_agg's multi_logloss: 1.40289 + 0.00374239\n",
            "[820]\tcv_agg's multi_logloss: 1.39763 + 0.00377888\n",
            "[840]\tcv_agg's multi_logloss: 1.39304 + 0.00383625\n",
            "[860]\tcv_agg's multi_logloss: 1.38791 + 0.00386721\n",
            "[880]\tcv_agg's multi_logloss: 1.38364 + 0.00393651\n",
            "[900]\tcv_agg's multi_logloss: 1.3789 + 0.00396303\n",
            "[920]\tcv_agg's multi_logloss: 1.37439 + 0.00398372\n",
            "[940]\tcv_agg's multi_logloss: 1.37018 + 0.00400947\n",
            "[960]\tcv_agg's multi_logloss: 1.3661 + 0.00405345\n",
            "[980]\tcv_agg's multi_logloss: 1.36207 + 0.00405615\n",
            "[1000]\tcv_agg's multi_logloss: 1.3581 + 0.00407674\n",
            "999\n"
          ]
        }
      ],
      "source": [
        "lgb_cv = lgb.cv(params2, check_train_data, num_boost_round=1000, nfold=3, shuffle=True, stratified=True, verbose_eval=20, early_stopping_rounds=200)\n",
        "\n",
        "nround2 = lgb_cv['multi_logloss-mean'].index(np.min(lgb_cv['multi_logloss-mean']))\n",
        "print(nround)\n",
        "\n",
        "model2 = lgb.train(params, check_train_data, num_boost_round=nround2)"
      ]
    },
    {
      "cell_type": "code",
      "execution_count": null,
      "metadata": {
        "collapsed": true,
        "id": "Ro5wbDtfIuhN"
      },
      "outputs": [],
      "source": [
        "check_y_pred2 = model2.predict(X_val_check)"
      ]
    },
    {
      "cell_type": "code",
      "execution_count": null,
      "metadata": {
        "collapsed": true,
        "id": "GNBE1lpYIuhN"
      },
      "outputs": [],
      "source": [
        "check_best_pred2 = np.asarray([np.argmax(line) for line in check_y_pred2])"
      ]
    },
    {
      "cell_type": "code",
      "execution_count": null,
      "metadata": {
        "id": "5LO2wXOBIuhN"
      },
      "outputs": [],
      "source": [
        "from sklearn.metrics import f1_score\n",
        "f1_score(check_best_pred2, y_val_check , average = 'micro')"
      ]
    },
    {
      "cell_type": "markdown",
      "metadata": {
        "id": "mSXiowWWIuhN"
      },
      "source": [
        "**Test 3**"
      ]
    },
    {
      "cell_type": "code",
      "execution_count": null,
      "metadata": {
        "id": "oUclIbY7IuhN"
      },
      "outputs": [],
      "source": [
        "model3 = XGBClassifier(learning_rate =0.1,n_estimators=250,max_depth=5 ,min_child_weight=1, gamma=0, subsample=0.8, colsample_bytree=0.8,objective= 'multi:softmax',nthread=4, scale_pos_weight=1, seed=1234)\n"
      ]
    },
    {
      "cell_type": "code",
      "execution_count": null,
      "metadata": {
        "id": "yG5N4pxsIuhN"
      },
      "outputs": [],
      "source": [
        "model3.fit(X_train_check, y_train_check, eval_metric = 'mlogloss')"
      ]
    },
    {
      "cell_type": "code",
      "execution_count": 54,
      "metadata": {
        "id": "IhJ8MEQBIuhN"
      },
      "outputs": [],
      "source": [
        "check_y_pred3 = model3.predict(X_val_check)"
      ]
    },
    {
      "cell_type": "code",
      "execution_count": null,
      "metadata": {
        "id": "r0oxF0VNIuhO"
      },
      "outputs": [],
      "source": [
        "from sklearn.metrics import f1_score\n",
        "f1_score(check_y_pred3, y_val_check , average = 'micro')"
      ]
    },
    {
      "cell_type": "markdown",
      "metadata": {
        "collapsed": true,
        "id": "8Z9WXzQNIuhO"
      },
      "source": [
        "**Test 4**"
      ]
    },
    {
      "cell_type": "code",
      "execution_count": null,
      "metadata": {
        "collapsed": true,
        "id": "fN_byFnZIuhO"
      },
      "outputs": [],
      "source": [
        "model4 = XGBClassifier(learning_rate =0.05,n_estimators=1000,max_depth=5 ,min_child_weight=1, gamma=5, subsample=0.8, colsample_bytree=0.8,objective= 'multi:softmax',nthread=4, scale_pos_weight=1, seed=1234)"
      ]
    },
    {
      "cell_type": "code",
      "execution_count": null,
      "metadata": {
        "id": "Rz3sBkKjIuhO"
      },
      "outputs": [],
      "source": [
        "model4.fit(X_train_check, y_train_check, eval_metric = 'mlogloss')"
      ]
    },
    {
      "cell_type": "code",
      "execution_count": null,
      "metadata": {
        "id": "rRKwG2WcIuhO"
      },
      "outputs": [],
      "source": [
        "check_y_pred4 = model4.predict(X_val_check)"
      ]
    },
    {
      "cell_type": "code",
      "execution_count": null,
      "metadata": {
        "id": "Og1B1G12IuhO"
      },
      "outputs": [],
      "source": [
        "from sklearn.metrics import f1_score\n",
        "f1_score(check_y_pred4, y_val_check.iloc[:] , average = 'micro')"
      ]
    },
    {
      "cell_type": "markdown",
      "metadata": {
        "id": "wdV9Hq3bIuhP"
      },
      "source": [
        "Model3 has max f1 score , now lets plot the feature importance curve"
      ]
    },
    {
      "cell_type": "code",
      "execution_count": null,
      "metadata": {
        "id": "x3trBVtuIuhP"
      },
      "outputs": [],
      "source": [
        "# plot feature importance\n",
        "from xgboost import plot_importance\n",
        "plot_importance(model3, max_num_features= 30)\n",
        "pyplot.figure(figsize=(20,10))\n",
        "pyplot.show()"
      ]
    },
    {
      "cell_type": "markdown",
      "metadata": {
        "id": "AqUrD6WqIuhP"
      },
      "source": [
        "This clearly gives an idea that at n=42 we achieve maximun accuracy. Hence we need to discard more variables for better prediction in the future.\n",
        "\n",
        "But we need to be very careful as some of the less important feature can contribute in prediction of minority class."
      ]
    },
    {
      "cell_type": "code",
      "execution_count": null,
      "metadata": {
        "id": "A8u7YftCIuhP"
      },
      "outputs": [],
      "source": [
        "sorted_idx = np.argsort(model3.feature_importances_)[::-1]\n",
        "for index in sorted_idx:\n",
        "    print([X_train_check.columns[index], model3.feature_importances_[index]]) "
      ]
    },
    {
      "cell_type": "markdown",
      "metadata": {
        "id": "PrTFuzR6IuhP"
      },
      "source": [
        "We need to drop some of the weak predictor variable to tweak our model performance also we need to create some more variables for better performance of model. As per our hypothesis we will be eliminating outcome_year as it is a weak predictor."
      ]
    },
    {
      "cell_type": "markdown",
      "metadata": {
        "id": "u59gCBGCIuhP"
      },
      "source": [
        "Note i performed the above check to quickly drop some useless predefined variables. I will be dropping the lower predicting dummy variables later. Hence dropping **outcome_year**"
      ]
    },
    {
      "cell_type": "code",
      "execution_count": null,
      "metadata": {
        "id": "4HJYLWyFIuhQ"
      },
      "outputs": [],
      "source": [
        "X = X.drop(['outcome_year'], axis  = 1)"
      ]
    },
    {
      "cell_type": "markdown",
      "metadata": {
        "id": "rh_ybjo5IuhQ"
      },
      "source": [
        "# 6. Feature Engineering:"
      ]
    },
    {
      "cell_type": "markdown",
      "metadata": {
        "id": "wg53_o7GIuhQ"
      },
      "source": [
        "Lets try to create some more informative features\n"
      ]
    },
    {
      "cell_type": "code",
      "execution_count": null,
      "metadata": {
        "collapsed": true,
        "id": "fSXBPnZHIuhQ"
      },
      "outputs": [],
      "source": [
        "import re\n",
        "def breed_check(breed):\n",
        "    r1 = re.search(r'\\/', breed)\n",
        "    if r1:\n",
        "        check = str(r1.group())\n",
        "    else:\n",
        "        check = 'not_found'\n",
        "    r2 = re.search(r'Mix', breed)\n",
        "    if r2:\n",
        "        check2 = str(r2.group())\n",
        "    else:\n",
        "        check2 = 'not_found'\n",
        "    if check=='/':\n",
        "        breed_type = 'specific_mix' # AS NOT MENTIONED IN PROBLEM STATEMENT THIS IS WHAT MY ASSUMPTION IS.\n",
        "    elif check2 == 'Mix':\n",
        "        breed_type = 'unknown_mix'\n",
        "    else:\n",
        "        breed_type = 'pure'\n",
        "    return breed_type   "
      ]
    },
    {
      "cell_type": "code",
      "execution_count": null,
      "metadata": {
        "collapsed": true,
        "id": "7UMwNygwIuhQ"
      },
      "outputs": [],
      "source": [
        "X['breed_bucket'] = X.breed.apply(breed_check)"
      ]
    },
    {
      "cell_type": "code",
      "execution_count": null,
      "metadata": {
        "id": "pgkvcuGlIuhQ"
      },
      "outputs": [],
      "source": [
        "sns.countplot(x= 'breed_bucket', hue=\"outcome_type\", data= X)"
      ]
    },
    {
      "cell_type": "markdown",
      "metadata": {
        "id": "nhr5LaVUIuhQ"
      },
      "source": [
        "This gives us an idea that that unknown mix bread type are either more adopted or transfered, pure bread type animal is either "
      ]
    },
    {
      "cell_type": "code",
      "execution_count": null,
      "metadata": {
        "collapsed": true,
        "id": "Rg08X40jIuhR"
      },
      "outputs": [],
      "source": [
        "#Trying to create some strengthing variable for the minority class\n",
        "def adopt_conditions(df):\n",
        "    if (df['outcome_type']=='Adoption'):      #made changes here removed !=Others\n",
        "        return df['breed']\n",
        "    \n",
        "adoptable_dict = pd.DataFrame(X.apply(adopt_conditions, axis = 1), columns = ['adoptable_breeds'])\n",
        "cleaned_adoptable_dict = adoptable_dict[adoptable_dict['adoptable_breeds'].notnull()]\n",
        "cleaned_adoptable_dict = pd.DataFrame(cleaned_adoptable_dict['adoptable_breeds'].unique(), columns = ['unique_adoptable_breeds'])\n",
        "adoptable_list = cleaned_adoptable_dict['unique_adoptable_breeds'].tolist()"
      ]
    },
    {
      "cell_type": "code",
      "execution_count": null,
      "metadata": {
        "id": "p3XDtKy5IuhR"
      },
      "outputs": [],
      "source": [
        "X[X['outcome_type']=='Rto-Adopt']"
      ]
    },
    {
      "cell_type": "code",
      "execution_count": null,
      "metadata": {
        "collapsed": true,
        "id": "y6xAbau_IuhR"
      },
      "outputs": [],
      "source": [
        "#Trying to create some strengthing variable for the minority class\n",
        "def rto_adopt_conditions(df):\n",
        "    if (df['outcome_type']== 'Rto-Adopt'):      #made changes here removed !=Others\n",
        "        return df['breed']\n",
        "    \n",
        "rto_adoptable_dict = pd.DataFrame(X.apply(rto_adopt_conditions, axis = 1), columns = ['rto_adoptable_breeds'])\n",
        "rto_cleaned_adoptable_dict = rto_adoptable_dict[rto_adoptable_dict['rto_adoptable_breeds'].notnull()]\n",
        "rto_cleaned_adoptable_dict = pd.DataFrame(rto_cleaned_adoptable_dict['rto_adoptable_breeds'].unique(), columns = ['unique_rto_adoptable_breeds'])\n",
        "rto_adoptable_list = rto_cleaned_adoptable_dict['unique_rto_adoptable_breeds'].tolist()"
      ]
    },
    {
      "cell_type": "code",
      "execution_count": null,
      "metadata": {
        "collapsed": true,
        "id": "qS6j_oFuIuhR"
      },
      "outputs": [],
      "source": [
        "def disposal_conditions(df):\n",
        "    if (df['outcome_type']=='Disposal'):\n",
        "        return df['breed']\n",
        "    \n",
        "disposal_dict = pd.DataFrame(X.apply(disposal_conditions, axis = 1), columns = ['disposal_breeds'])\n",
        "cleaned_disposal_dict = disposal_dict[disposal_dict['disposal_breeds'].notnull()]\n",
        "cleaned_disposal_dict = pd.DataFrame(cleaned_disposal_dict['disposal_breeds'].unique(), columns = ['unique_disposal_breeds'])\n",
        "disposal_list = cleaned_disposal_dict['unique_disposal_breeds'].tolist()"
      ]
    },
    {
      "cell_type": "code",
      "execution_count": null,
      "metadata": {
        "id": "p4Go1a1MIuhR"
      },
      "outputs": [],
      "source": [
        "disposal_list"
      ]
    },
    {
      "cell_type": "code",
      "execution_count": null,
      "metadata": {
        "collapsed": true,
        "id": "XJrdU4y0IuhR"
      },
      "outputs": [],
      "source": [
        "def lookup_adotable_breeds(breed):\n",
        "    if breed in adoptable_list:\n",
        "        return 'adoptible_likely'          #made changes returns here\n",
        "    else:\n",
        "        return 'adoptible_unlikely'        #made changes returns here\n",
        "    \n",
        "def lookup_rto_adoptabale_breeds(breed):\n",
        "    if breed in rto_adoptable_list:\n",
        "        return 'rto_adoptible_likely'          #made changes returns here\n",
        "    else:\n",
        "        return 'rto_adoptible_unlikely'        #made changes returns here\n",
        "        \n",
        "def lookup_disposable_breeds(breed):\n",
        "    if breed in disposal_list:\n",
        "        return 'high_disposability'\n",
        "    else:\n",
        "        return 'low_disposability'"
      ]
    },
    {
      "cell_type": "code",
      "execution_count": null,
      "metadata": {
        "collapsed": true,
        "id": "f3n-XzPnIuhS"
      },
      "outputs": [],
      "source": [
        "X['adoptability'] = X.breed.apply(lookup_adotable_breeds)\n",
        "X['disposability'] = X.breed.apply(lookup_disposable_breeds)\n",
        "X['rto_adoptability']= X.breed.apply(lookup_rto_adoptabale_breeds)"
      ]
    },
    {
      "cell_type": "code",
      "execution_count": null,
      "metadata": {
        "collapsed": true,
        "id": "RtHCgDJPIuhS"
      },
      "outputs": [],
      "source": [
        "#We are excluding dogs because only 2 dogs are disposed.\n",
        "X.loc[X['animal_type']=='Dog', 'disposability'] = 'low_disposability'"
      ]
    },
    {
      "cell_type": "markdown",
      "metadata": {
        "id": "kUGPFUExIuhS"
      },
      "source": [
        "# Feature encoding(final iteration)"
      ]
    },
    {
      "cell_type": "code",
      "execution_count": null,
      "metadata": {
        "collapsed": true,
        "id": "U1HnPhHZIuhS"
      },
      "outputs": [],
      "source": [
        "X_final = X.copy()"
      ]
    },
    {
      "cell_type": "code",
      "execution_count": null,
      "metadata": {
        "collapsed": true,
        "id": "ZHefCQt0IuhS"
      },
      "outputs": [],
      "source": [
        "#FINAL ONE HOT ENCODING\n",
        "def onehotdataframe_final(dfs):  \n",
        "    one_hot_animal_type= pd.get_dummies(dfs.animal_type)\n",
        "\n",
        "    one_hot_intake_condition = pd.get_dummies(dfs.intake_condition)\n",
        "    one_hot_intake_condition.columns = [str(col) + '_intake' for col in one_hot_intake_condition.columns]\n",
        "\n",
        "    one_hot_intake_type = pd.get_dummies(dfs.intake_type)\n",
        "    one_hot_intake_type.columns = [str(col) + '_intake' for col in one_hot_intake_type.columns]\n",
        "\n",
        "    one_hot_sex_upon_intake = pd.get_dummies(dfs.sex_upon_intake)\n",
        "    one_hot_sex_upon_intake.columns = [str(col) + '_intake' for col in one_hot_sex_upon_intake.columns]\n",
        "\n",
        "    one_hot_intake_weekday = pd.get_dummies(dfs.intake_weekday)\n",
        "    one_hot_intake_weekday.columns = [str(col) + '_intake' for col in one_hot_intake_weekday.columns]\n",
        "\n",
        "    one_hot_sex_upon_outcome = pd.get_dummies(dfs.sex_upon_outcome)\n",
        "    one_hot_sex_upon_outcome.columns = [str(col) + '_outcome' for col in one_hot_sex_upon_outcome.columns]\n",
        "\n",
        "    one_hot_outcome_weekday = pd.get_dummies(dfs.outcome_weekday)\n",
        "    one_hot_outcome_weekday.columns = [str(col) + '_outcome' for col in one_hot_outcome_weekday.columns]     \n",
        "    \n",
        "    one_hot_breed_bucket = pd.get_dummies(dfs.breed_bucket)\n",
        "    one_hot_breed_bucket.columns = [str(col) + '_breed_category' for col in one_hot_breed_bucket.columns]  \n",
        "    \n",
        "    dfs = dfs.drop(['animal_type','intake_type', 'intake_condition', 'sex_upon_intake', 'intake_weekday', 'sex_upon_outcome', 'outcome_weekday', 'breed_bucket'], axis = 1) \n",
        "\n",
        "    #Merging one hot encoded features with our dataset 'data' \n",
        "    df_encoded=pd.concat([dfs, one_hot_animal_type,one_hot_intake_condition,one_hot_intake_type,one_hot_sex_upon_intake,one_hot_intake_weekday,one_hot_sex_upon_outcome,one_hot_outcome_weekday, one_hot_breed_bucket],axis=1)  \n",
        "    \n",
        "    return(df_encoded)"
      ]
    },
    {
      "cell_type": "code",
      "execution_count": null,
      "metadata": {
        "collapsed": true,
        "id": "KuDcuycOIuhS"
      },
      "outputs": [],
      "source": [
        "X_final = onehotdataframe_final(dfs = X_final)"
      ]
    },
    {
      "cell_type": "code",
      "execution_count": null,
      "metadata": {
        "id": "2jO5Ba94IuhS"
      },
      "outputs": [],
      "source": [
        "X_final"
      ]
    },
    {
      "cell_type": "code",
      "execution_count": null,
      "metadata": {
        "collapsed": true,
        "id": "3cwGHliMIuhS"
      },
      "outputs": [],
      "source": [
        "X_final['adoptability'] = X_final['adoptability'].map({'adoptible_unlikely' : 0, 'adoptible_likely' : 1 })\n",
        "X_final['disposability'] = X_final['disposability'].map({'low_disposability' : 0, 'high_disposability' : 1 })\n",
        "X_final['rto_adoptability'] = X_final['rto_adoptability'].map({'rto_adoptible_unlikely' : 0, 'rto_adoptible_likely' : 1 })"
      ]
    },
    {
      "cell_type": "code",
      "execution_count": null,
      "metadata": {
        "collapsed": true,
        "id": "D9drY9FJIuhT"
      },
      "outputs": [],
      "source": [
        "X_final['outcome_type'] = X_final['outcome_type'].map({'Adoption' : 8, 'Transfer': 7, 'Return to Owner' : 6, 'Euthanasia' : 5, 'Died' : 4, 'Missing' : 3, 'Relocate' : 2, 'Rto-Adopt' : 1, 'Disposal' : 0})"
      ]
    },
    {
      "cell_type": "code",
      "execution_count": null,
      "metadata": {
        "collapsed": true,
        "id": "jUTw4UrWIuhT"
      },
      "outputs": [],
      "source": [
        "y_final = X_final['outcome_type']\n",
        "X_final= X_final.drop(['outcome_type'], axis = 1)"
      ]
    },
    {
      "cell_type": "code",
      "execution_count": null,
      "metadata": {
        "collapsed": true,
        "id": "VSDlLNLQIuhT"
      },
      "outputs": [],
      "source": [
        "X_final_copy = X_final.copy()"
      ]
    },
    {
      "cell_type": "code",
      "execution_count": null,
      "metadata": {
        "collapsed": true,
        "id": "q6qVqXNCIuhT"
      },
      "outputs": [],
      "source": [
        "X_final_copy = X_final_copy.drop(['breed', 'color'], axis = 1)\n",
        "X_final_copy['intake_monthyear'] = X_final_copy.intake_monthyear.astype(int)\n",
        "X_final_copy['outcome_monthyear'] = X_final_copy.outcome_monthyear.astype(int)"
      ]
    },
    {
      "cell_type": "markdown",
      "metadata": {
        "id": "N-btZ5FnIuhT"
      },
      "source": [
        "** Dropping breed and color because i already tried to bucket these categorical features with \"adoptablity\",\"disposability\" , \"breed_bucket\"**"
      ]
    },
    {
      "cell_type": "code",
      "execution_count": null,
      "metadata": {
        "id": "teU-QAG9IuhT"
      },
      "outputs": [],
      "source": [
        "print(X_final_copy.shape, y_final.shape)"
      ]
    },
    {
      "cell_type": "code",
      "execution_count": null,
      "metadata": {
        "id": "2ygUewUrIuhT"
      },
      "outputs": [],
      "source": [
        "print('Missing value in training set:', X_final_copy.isnull().sum().max())"
      ]
    },
    {
      "cell_type": "markdown",
      "metadata": {
        "id": "lfPF8-2EIuhU"
      },
      "source": [
        "** Converting into train and validation set **"
      ]
    },
    {
      "cell_type": "code",
      "execution_count": null,
      "metadata": {
        "id": "a-zUeyjRIuhU"
      },
      "outputs": [],
      "source": [
        "# Splitting the dataset into the Training set and Test set.\n",
        "X_train, X_val, y_train, y_val = train_test_split(X_final_copy, y_final, test_size = 0.2, random_state = 20)\n",
        "#Split is 80%-20% for testing. Here X_test~Validation set.\n",
        "\n",
        "\n",
        "print(X_train.shape, X_val.shape, y_train.shape, y_val.shape)"
      ]
    },
    {
      "cell_type": "code",
      "execution_count": null,
      "metadata": {
        "collapsed": true,
        "id": "Ko3NHLESIuhU"
      },
      "outputs": [],
      "source": [
        "X_train['intake_monthyear'] = X_train.intake_monthyear.astype(int)\n",
        "X_val['intake_monthyear'] = X_val.intake_monthyear.astype(int)\n",
        "X_train['outcome_monthyear'] = X_train.outcome_monthyear.astype(int)\n",
        "X_val['outcome_monthyear'] = X_val.outcome_monthyear.astype(int)"
      ]
    },
    {
      "cell_type": "markdown",
      "metadata": {
        "id": "ctP1zX1hIuhU"
      },
      "source": [
        "# TEST 5 64 leaves LIGHTGBM"
      ]
    },
    {
      "cell_type": "code",
      "execution_count": null,
      "metadata": {
        "collapsed": true,
        "id": "mn600RCQIuhU"
      },
      "outputs": [],
      "source": [
        "import lightgbm as lightgbmmodel\n",
        "from lightgbm import LGBMClassifier as lgb"
      ]
    },
    {
      "cell_type": "code",
      "execution_count": null,
      "metadata": {
        "collapsed": true,
        "id": "H7YTG_9ZIuhU"
      },
      "outputs": [],
      "source": [
        "model5 = lgb(task =  'train',boosting_type =  'gbdt',  objective = 'multiclass',num_class = 9,metric = 'multi_logloss',learning_rate =  0.0026, max_depth=  20, num_leaves =  64, feature_fraction =  0.4, bagging_fraction =  0.6, bagging_freq =  17, n_estimators = 2500, random_state =1234) "
      ]
    },
    {
      "cell_type": "code",
      "execution_count": null,
      "metadata": {
        "id": "WAMgLC9mIuhU"
      },
      "outputs": [],
      "source": [
        "model5.fit(X_train, y_train)"
      ]
    },
    {
      "cell_type": "code",
      "execution_count": null,
      "metadata": {
        "collapsed": true,
        "id": "3F9pCfm-IuhV"
      },
      "outputs": [],
      "source": [
        "y_pred1 = model5.predict(X_val)"
      ]
    },
    {
      "cell_type": "code",
      "execution_count": null,
      "metadata": {
        "id": "UbU6tZ4mIuhV"
      },
      "outputs": [],
      "source": [
        "y_pred1"
      ]
    },
    {
      "cell_type": "code",
      "execution_count": null,
      "metadata": {
        "id": "mwVSM9pdIuhV"
      },
      "outputs": [],
      "source": [
        "from sklearn.metrics import f1_score\n",
        "f1_score(y_pred1, y_val.iloc[:] , average = 'micro')"
      ]
    },
    {
      "cell_type": "code",
      "execution_count": null,
      "metadata": {
        "id": "vWf1M58yIuhW"
      },
      "outputs": [],
      "source": [
        "from sklearn.metrics import f1_score\n",
        "f1_score(y_pred1, y_val.iloc[:] , average = 'micro')\n",
        "\n",
        "#After dropping color"
      ]
    },
    {
      "cell_type": "code",
      "execution_count": null,
      "metadata": {
        "id": "ncons3MeIuhW"
      },
      "outputs": [],
      "source": [
        "from sklearn.metrics import f1_score\n",
        "f1_score(y_pred1, y_val.iloc[:] , average = 'micro')\n",
        "#max bin added with value 255"
      ]
    },
    {
      "cell_type": "code",
      "execution_count": null,
      "metadata": {
        "id": "7fnE0h9oIuhW"
      },
      "outputs": [],
      "source": [
        "from sklearn.metrics import f1_score\n",
        "f1_score(y_pred1, y_val.iloc[:] , average = 'micro')\n",
        "#increasing learning rate to 0.05"
      ]
    },
    {
      "cell_type": "code",
      "execution_count": null,
      "metadata": {
        "id": "KENxmFtKIuhX"
      },
      "outputs": [],
      "source": [
        "from sklearn.metrics import f1_score\n",
        "f1_score(y_pred1, y_val.iloc[:] , average = 'micro')\n",
        "lgb(task =  'train',boosting_type =  'gbdt',  objective = 'multiclass',num_class = 9,metric = 'multi_logloss',learning_rate =  0.0026, max_depth=  10, num_leaves =  64, feature_fraction =  0.4, bagging_fraction =  0.6, bagging_freq =  17, n_estimators = 2000, random_state =1234) "
      ]
    },
    {
      "cell_type": "code",
      "execution_count": null,
      "metadata": {
        "id": "SeiV_w3KIuhX"
      },
      "outputs": [],
      "source": [
        "from sklearn.metrics import f1_score\n",
        "f1_score(y_pred1, y_val.iloc[:] , average = 'micro')\n",
        "max_depth =15"
      ]
    },
    {
      "cell_type": "code",
      "execution_count": null,
      "metadata": {
        "id": "GVWg1WtgIuhX"
      },
      "outputs": [],
      "source": [
        "from sklearn.metrics import f1_score\n",
        "f1_score(y_pred1, y_val.iloc[:] , average = 'micro')\n",
        "max_depth  = 20"
      ]
    },
    {
      "cell_type": "code",
      "execution_count": null,
      "metadata": {
        "id": "mv1Br1zKIuhY"
      },
      "outputs": [],
      "source": [
        "from sklearn.metrics import f1_score\n",
        "f1_score(y_pred1, y_val.iloc[:] , average = 'micro')\n",
        "#lgb(task =  'train',boosting_type =  'gbdt',  objective = 'multiclass',num_class = 9,metric = 'multi_logloss',learning_rate =  0.0026, max_depth=  20, num_leaves =  64, feature_fraction =  0.4, bagging_fraction =  0.6, bagging_freq =  17, n_estimators = 3000, random_state =1234) "
      ]
    },
    {
      "cell_type": "code",
      "execution_count": null,
      "metadata": {
        "id": "7vYYEpP9IuhY"
      },
      "outputs": [],
      "source": [
        "from sklearn.metrics import f1_score\n",
        "f1_score(y_pred1, y_val.iloc[:] , average = 'micro')\n",
        "#lgb(task =  'train',boosting_type =  'gbdt',  objective = 'multiclass',num_class = 9,metric = 'multi_logloss',learning_rate =  0.0026, max_depth=  20, num_leaves =  64, feature_fraction =  0.4, bagging_fraction =  0.6, bagging_freq =  17, n_estimators = 10000, random_state =1234)\n",
        "#dropping color"
      ]
    },
    {
      "cell_type": "markdown",
      "metadata": {
        "id": "Eu9BIPQmIuhY"
      },
      "source": [
        "# TEST 6 Xgboost"
      ]
    },
    {
      "cell_type": "code",
      "execution_count": null,
      "metadata": {
        "id": "yXs-aeq8IuhY"
      },
      "outputs": [],
      "source": [
        "model6 = XGBClassifier(learning_rate =0.1, n_estimators= 500,max_depth= 7 ,min_child_weight=1, gamma=3, subsample=0.8, colsample_bytree=0.8,objective= 'multi:softmax',nthread=4, scale_pos_weight=1, seed=1234)\n",
        "model6.fit(X_train, y_train, eval_metric = 'mlogloss')"
      ]
    },
    {
      "cell_type": "code",
      "execution_count": null,
      "metadata": {
        "collapsed": true,
        "id": "e1iF5mtTIuhY"
      },
      "outputs": [],
      "source": [
        "y_pred2 = model6.predict(X_val)"
      ]
    },
    {
      "cell_type": "code",
      "execution_count": null,
      "metadata": {
        "id": "IqXk7ipSIuhZ"
      },
      "outputs": [],
      "source": [
        "from sklearn.metrics import f1_score\n",
        "f1_score(y_pred2, y_val.iloc[:] , average = 'micro')\n",
        "#(learning_rate =0.1,n_estimators= 1000,max_depth=5 ,min_child_weight=1, gamma=0, subsample=0.8, colsample_bytree=0.8,objective= 'multi:softmax',nthread=4, scale_pos_weight=1, seed=1234)\n",
        "#dropping color"
      ]
    },
    {
      "cell_type": "code",
      "execution_count": null,
      "metadata": {
        "id": "3bZjSamUIuhZ"
      },
      "outputs": [],
      "source": [
        "from sklearn.metrics import f1_score\n",
        "f1_score(y_pred2, y_val.iloc[:] , average = 'micro')\n",
        "#(learning_rate =0.05,n_estimators=250,max_depth=5 ,min_child_weight=1, gamma=0, subsample=0.8, colsample_bytree=0.8,objective= 'multi:softmax',nthread=4, scale_pos_weight=1, seed=1234)\n",
        "#eta dropped to 0.05"
      ]
    },
    {
      "cell_type": "code",
      "execution_count": null,
      "metadata": {
        "id": "kIOg4xRLIuhb"
      },
      "outputs": [],
      "source": [
        "from sklearn.metrics import f1_score\n",
        "f1_score(y_pred2, y_val.iloc[:] , average = 'micro')\n",
        "#(learning_rate =0.1,n_estimators=500,max_depth= 7 ,min_child_weight=1, gamma=3, subsample=0.8, colsample_bytree=0.6,objective= 'multi:softmax',nthread=4, scale_pos_weight=1, seed=1234)\n",
        "#gamma reduced to 3\n",
        "#keeping breed and removing color\n",
        "#rolling subsample back to 0.8\n",
        "#reducing colsample_bytree to 0.6\n"
      ]
    },
    {
      "cell_type": "code",
      "execution_count": null,
      "metadata": {
        "collapsed": true,
        "id": "yFuc31OvIuhb"
      },
      "outputs": [],
      "source": [
        "X_train_final = X_train.drop(['Unknown_intake', 'intake_year', 'Thursday_intake'], axis = 1)\n",
        "X_val_final = X_val.drop(['Unknown_intake' , 'intake_year', 'Thursday_intake'], axis = 1)"
      ]
    },
    {
      "cell_type": "code",
      "execution_count": null,
      "metadata": {
        "id": "fxvzASeDIuhb"
      },
      "outputs": [],
      "source": [
        "model8 = XGBClassifier(learning_rate =0.1,n_estimators=500,max_depth= 7 ,min_child_weight=1, gamma=3, subsample=0.8, colsample_bytree=0.8,objective= 'multi:softmax',nthread=4, scale_pos_weight=1, seed=1234)\n",
        "model8.fit(X_train_final, y_train)\n",
        "y_pred4 = model8.predict(X_val_final)\n",
        "predictions = [round(value) for value in y_pred4]\n",
        "accuracy = accuracy_score(y_val, predictions)\n",
        "print(\"Thresh=%.3f, n=%d, Accuracy: %.2f%%\" % (0.0048, X_train_final.shape[1], accuracy*100.0))"
      ]
    },
    {
      "cell_type": "code",
      "execution_count": null,
      "metadata": {
        "collapsed": true,
        "id": "iQfKdoF6Iuhb"
      },
      "outputs": [],
      "source": [
        "xgbcheck = XGBClassifier(learning_rate =0.1,n_estimators=500,max_depth= 7 ,min_child_weight=1, gamma=3, subsample=0.8, colsample_bytree=0.8,objective= 'multi:softmax',nthread=4, scale_pos_weight=1, seed=1234)\n",
        "xgbcheck.fit(X_train, y_train)\n",
        "sorted_idx = np.argsort(model3.feature_importances_)[::-1]\n",
        "for index in sorted_idx:\n",
        "    print([X_train_check.columns[index], model8.feature_importances_[index]])"
      ]
    },
    {
      "cell_type": "markdown",
      "metadata": {
        "collapsed": true,
        "id": "vag9nfUGIuhb"
      },
      "source": [
        "Observations:\n",
        "\n",
        "1. Unknown_intake and unknown_outcome are same column hence dropping one, lets drop unknown_intake\n",
        "2. Also dropping intake_year and Thursday_intake as they are poor predictors as expected. "
      ]
    },
    {
      "cell_type": "markdown",
      "metadata": {
        "id": "BWTvjDTfIuhb"
      },
      "source": [
        "**Best xgboost model = model8**\n",
        "\n",
        "**Best lightgbm model = model5**"
      ]
    },
    {
      "cell_type": "markdown",
      "metadata": {
        "id": "eTPutgFfIuhb"
      },
      "source": [
        "**Comparison with other models:**"
      ]
    },
    {
      "cell_type": "markdown",
      "metadata": {
        "id": "tnublyGFIuhb"
      },
      "source": [
        "MODEL3 - LOGISTIC REGRESSION:"
      ]
    },
    {
      "cell_type": "code",
      "execution_count": null,
      "metadata": {
        "collapsed": true,
        "id": "ew1MkdKhIuhc"
      },
      "outputs": [],
      "source": [
        "#For other models feature scaling is necessary\n",
        "from sklearn.preprocessing import StandardScaler\n",
        "sc_X = StandardScaler()\n",
        "X_trainf = sc_X.fit_transform(X_train_final)\n",
        "X_testf= sc_X.transform(X_val_final)\n",
        "y_trainf= y_train\n",
        "\n",
        "lr= LogisticRegression(penalty = 'l2', random_state =1234, solver ='newton-cg', multi_class= 'multinomial' )\n",
        "lr.fit(X_trainf, y_trainf)\n",
        "y_predlr= lr.predict(X_testf)"
      ]
    },
    {
      "cell_type": "code",
      "execution_count": null,
      "metadata": {
        "id": "A_9WDqu6Iuhc"
      },
      "outputs": [],
      "source": [
        "predictions = [round(value) for value in y_predlr]\n",
        "accuracy = accuracy_score(y_val, predictions)\n",
        "print(\"Thresh=%.3f, n=%d, Accuracy: %.2f%%\" % (0.0048, X_train_final.shape[1], accuracy*100.0))"
      ]
    },
    {
      "cell_type": "markdown",
      "metadata": {
        "id": "RdkSJ_ODIuhc"
      },
      "source": [
        "MODEL4- RANDOM FOREST"
      ]
    },
    {
      "cell_type": "code",
      "execution_count": null,
      "metadata": {
        "id": "6APuJzvCIuhc"
      },
      "outputs": [],
      "source": [
        "rf =  RandomForestClassifier(n_estimators= 1000 , criterion = 'entropy' , random_state = 0, bootstrap = True)\n",
        "rf.fit(X_train_final, y_train)\n",
        "y_predrf = rf.predict(X_val_final)\n",
        "predictions = [round(value) for value in y_predrf]\n",
        "accuracy = accuracy_score(y_val, predictions)\n",
        "f_score = f1_score(y_predrf, y_val.iloc[:] , average = 'micro')\n",
        "print(\"Thresh=%.3f, n=%d, Accuracy: %.2f%%\" % (0.0048, X_train_final.shape[1], accuracy*100.0))\n",
        "print(\"f1 -score : \",f_score )"
      ]
    },
    {
      "cell_type": "markdown",
      "metadata": {
        "id": "63dSuAI8Iuhc"
      },
      "source": [
        "# Predictions :"
      ]
    },
    {
      "cell_type": "markdown",
      "metadata": {
        "id": "75bbwXg8Iuhc"
      },
      "source": [
        "** Preparation of test set for predictions **"
      ]
    },
    {
      "cell_type": "code",
      "execution_count": null,
      "metadata": {
        "collapsed": true,
        "id": "-spxUlB3Iuhc"
      },
      "outputs": [],
      "source": [
        "test = pd.read_csv('test.csv')"
      ]
    },
    {
      "cell_type": "code",
      "execution_count": null,
      "metadata": {
        "id": "QyJkuY6NIuhc"
      },
      "outputs": [],
      "source": [
        "test.shape"
      ]
    },
    {
      "cell_type": "code",
      "execution_count": null,
      "metadata": {
        "collapsed": true,
        "id": "brYNG3TIIuhd"
      },
      "outputs": [],
      "source": [
        "test = test.drop(['outcome_datetime'], axis  = 1)\n",
        "test = DataFrameImputer().fit_transform(pd.DataFrame(test))\n",
        "test = test.drop(['count', 'outcome_number'], axis = 1)\n",
        "test = test.drop(['animal_id_outcome'], axis = 1)\n",
        "test = test.drop(['age_upon_intake', 'age_upon_intake_(years)', 'age_upon_intake_age_group', 'age_upon_outcome', 'age_upon_outcome_(years)', 'age_upon_outcome_age_group', 'date_of_birth','dob_month', 'time_in_shelter'], axis = 1)\n",
        "test['intake_day'] = pd.DatetimeIndex(test['intake_datetime']).day\n",
        "test = test.drop(['intake_datetime'], axis = 1)\n",
        "test['intake_monthyear'] = test['intake_year'] * 100 + X['intake_month']\n",
        "test['outcome_monthyear'] = test['outcome_year']* 100 + X['outcome_month']\n",
        "test = test.drop(['outcome_year'], axis  = 1)\n",
        "test['breed_bucket'] = test.breed.apply(breed_check)\n",
        "test['adoptability'] = test.breed.apply(lookup_adotable_breeds)\n",
        "test['disposability'] = test.breed.apply(lookup_disposable_breeds)\n",
        "test['rto_adoptability'] = test.breed.apply(lookup_rto_adoptabale_breeds)\n",
        "#We are excluding dogs because only 2 dogs are disposed.\n",
        "test.loc[test['animal_type']=='Dog', 'disposability'] = 'low_disposability'\n",
        "test['intake_monthyear'] = test.intake_monthyear.astype(int)\n",
        "test['outcome_monthyear'] = test.outcome_monthyear.astype(int)"
      ]
    },
    {
      "cell_type": "code",
      "execution_count": null,
      "metadata": {
        "id": "R1xAL-T9Iuhd"
      },
      "outputs": [],
      "source": [
        "test_final = test.copy()\n",
        "test_final.shape"
      ]
    },
    {
      "cell_type": "code",
      "execution_count": null,
      "metadata": {
        "collapsed": true,
        "id": "oHSBbJZWIuhd"
      },
      "outputs": [],
      "source": [
        "test_final = onehotdataframe_final(dfs = test_final)"
      ]
    },
    {
      "cell_type": "code",
      "execution_count": null,
      "metadata": {
        "id": "DL7ZNrRhIuhd"
      },
      "outputs": [],
      "source": [
        "test_final.shape"
      ]
    },
    {
      "cell_type": "code",
      "execution_count": null,
      "metadata": {
        "collapsed": true,
        "id": "aB_XaeXXIuhd"
      },
      "outputs": [],
      "source": [
        "test_final['adoptability'] = test_final['adoptability'].map({'adoptible_unlikely' : 0, 'adoptible_likely' : 1 })\n",
        "test_final['disposability'] = test_final['disposability'].map({'low_disposability' : 0, 'high_disposability' : 1 })\n",
        "test_final['rto_adoptability'] = test_final['rto_adoptability'].map({'rto_adoptible_unlikely' : 0, 'rto_adoptible_likely' : 1 })"
      ]
    },
    {
      "cell_type": "code",
      "execution_count": null,
      "metadata": {
        "collapsed": true,
        "id": "AdZgI5vpIuhd"
      },
      "outputs": [],
      "source": [
        "test_final = test_final.drop(['breed'], axis = 1)"
      ]
    },
    {
      "cell_type": "code",
      "execution_count": null,
      "metadata": {
        "collapsed": true,
        "id": "0s-ieHHDIuhd"
      },
      "outputs": [],
      "source": [
        "test_final = test_final.drop(['color'], axis = 1)"
      ]
    },
    {
      "cell_type": "code",
      "execution_count": null,
      "metadata": {
        "collapsed": true,
        "id": "9SEV1M7qIuhe"
      },
      "outputs": [],
      "source": [
        "#testing\n",
        "test_final = test_final.drop(['Unknown_intake', 'intake_year', 'Thursday_intake'], axis = 1)"
      ]
    },
    {
      "cell_type": "code",
      "execution_count": null,
      "metadata": {
        "collapsed": true,
        "id": "rrGW9TB1Iuhe"
      },
      "outputs": [],
      "source": [
        "#test_final = test_final.drop(['intake_monthyear'], axis = 1)"
      ]
    },
    {
      "cell_type": "code",
      "execution_count": null,
      "metadata": {
        "id": "sMLiS_OWIuhe"
      },
      "outputs": [],
      "source": [
        "test_final.shape"
      ]
    },
    {
      "cell_type": "markdown",
      "metadata": {
        "id": "KRiD0sTQIuhe"
      },
      "source": [
        "** Below are iterative models that I used to check the performance of my different models on out of time validation set(i.e. test set) and select models accordingly **"
      ]
    },
    {
      "cell_type": "code",
      "execution_count": null,
      "metadata": {
        "collapsed": true,
        "id": "xsvB2AzYIuhe"
      },
      "outputs": [],
      "source": [
        "#Testing subject to changes\n",
        "X_train_final_check = X_train_final.drop(['intake_monthyear'], axis = 1)\n",
        "X_val_final_check = X_val_final.drop(['intake_monthyear'], axis = 1)\n"
      ]
    },
    {
      "cell_type": "code",
      "execution_count": null,
      "metadata": {
        "id": "zgJss7SPIuhe"
      },
      "outputs": [],
      "source": [
        "#Including intake_monthyear\n",
        "model5 = lgb(task = 'train',boosting_type =  'gbdt',  objective = 'multiclass',num_class = 9,metric = 'multi_logloss',learning_rate =  0.0026, max_depth=  -1, num_leaves =  64, feature_fraction =  0.4, bagging_fraction =  0.6, bagging_freq =  17, n_estimators = 2500, random_state =1234,min_split_gain = 0, reg_alpha = 0, reg_lambda = 0 ) \n",
        "model5.fit(X_train_final, y_train)\n",
        "y_pred4 = model5.predict(X_val_final)\n",
        "predictions = [round(value) for value in y_pred4]\n",
        "accuracy = accuracy_score(y_val, predictions)\n",
        "f_score = f1_score(y_pred4, y_val.iloc[:] , average = 'micro')\n",
        "print(\"Thresh=%.3f, n=%d, Accuracy: %.2f%%\" % (0.0048, X_train_final.shape[1], accuracy*100.0))\n",
        "print(\"f1 -score : \",f_score )"
      ]
    },
    {
      "cell_type": "code",
      "execution_count": null,
      "metadata": {
        "id": "MdQP6TKIIuhe"
      },
      "outputs": [],
      "source": [
        "model5 = lgb(task = 'train',boosting_type =  'gbdt',  objective = 'multiclass',num_class = 9,metric = 'multi_logloss',learning_rate =  0.0026, max_depth=  -1, num_leaves =  64, feature_fraction =  0.4, bagging_fraction =  0.6, bagging_freq =  17, n_estimators = 2500, random_state =1234,min_split_gain = 0, reg_alpha = 0, reg_lambda = 0 ) \n",
        "model5.fit(X_train_final_check, y_train)\n",
        "y_pred4 = model5.predict(X_val_final_check)\n",
        "predictions = [round(value) for value in y_pred4]\n",
        "accuracy = accuracy_score(y_val, predictions)\n",
        "f_score = f1_score(y_pred4, y_val.iloc[:] , average = 'micro')\n",
        "print(\"Thresh=%.3f, n=%d, Accuracy: %.2f%%\" % (0.0048, X_train_final_check.shape[1], accuracy*100.0))\n",
        "print(\"f1 -score : \",f_score )"
      ]
    },
    {
      "cell_type": "code",
      "execution_count": null,
      "metadata": {
        "id": "02N9Mn-iIuhf"
      },
      "outputs": [],
      "source": [
        "print('Missing value in training set:', X_train_final_check.isnull().sum().max())"
      ]
    },
    {
      "cell_type": "code",
      "execution_count": null,
      "metadata": {
        "id": "N9sUNwdlIuhf"
      },
      "outputs": [],
      "source": [
        "#Excluding intake_monthyear\n",
        "rf =  RandomForestClassifier(n_estimators= 1000 , criterion = 'entropy' , random_state = 0, bootstrap = True)\n",
        "rf.fit(X_train_final_check, y_train)\n",
        "y_pred4 = rf.predict(X_val_final_check)\n",
        "predictions = [round(value) for value in y_pred4]\n",
        "accuracy = accuracy_score(y_val, predictions)\n",
        "f_score = f1_score(y_pred4, y_val.iloc[:] , average = 'micro')\n",
        "print(\"Thresh=%.3f, n=%d, Accuracy: %.2f%%\" % (0.0048, X_train_final.shape[1], accuracy*100.0))\n",
        "print(\"f1 -score : \",f_score )"
      ]
    },
    {
      "cell_type": "code",
      "execution_count": null,
      "metadata": {
        "id": "a6xbldn2Iuhf"
      },
      "outputs": [],
      "source": [
        "#Including intake_monthyear\n",
        "xgb = XGBClassifier(learning_rate =0.1, n_estimators= 500,max_depth= 7 ,min_child_weight=1, gamma=3, subsample=0.8, colsample_bytree=0.8,objective= 'multi:softmax',nthread=4, scale_pos_weight=99, seed=1234)\n",
        "xgb.fit(X_train_final, y_train, eval_metric = 'mlogloss')\n",
        "y_pred4 = xgb.predict(X_val_final)\n",
        "predictions = [round(value) for value in y_pred4]\n",
        "accuracy = accuracy_score(y_val, predictions)\n",
        "f_score = f1_score(y_pred4, y_val.iloc[:] , average = 'micro')\n",
        "print(\"Thresh=%.3f, n=%d, Accuracy: %.2f%%\" % (0.0048, X_train_final.shape[1], accuracy*100.0))\n",
        "print(\"f1 -score : \",f_score )"
      ]
    },
    {
      "cell_type": "code",
      "execution_count": null,
      "metadata": {
        "id": "rxjWu8WZIuhf"
      },
      "outputs": [],
      "source": [
        "xgb = XGBClassifier(learning_rate =0.1, n_estimators= 500,max_depth= 7 ,min_child_weight=1, gamma=3, subsample=0.8, colsample_bytree=0.8,objective= 'multi:softmax',nthread=4, scale_pos_weight=99, seed=1234)\n",
        "xgb.fit(X_train_final_check, y_train, eval_metric = 'mlogloss')\n",
        "y_pred4 = xgb.predict(X_val_final_check)\n",
        "predictions = [round(value) for value in y_pred4]\n",
        "accuracy = accuracy_score(y_val, predictions)\n",
        "f_score = f1_score(y_pred4, y_val.iloc[:] , average = 'micro')\n",
        "print(\"Thresh=%.3f, n=%d, Accuracy: %.2f%%\" % (0.0048, X_train_final.shape[1], accuracy*100.0))\n",
        "print(\"f1 -score : \",f_score )"
      ]
    },
    {
      "cell_type": "markdown",
      "metadata": {
        "id": "z4Vv9TUEIuhf"
      },
      "source": [
        "Hence we will keep the intake_monthyear variable"
      ]
    },
    {
      "cell_type": "code",
      "execution_count": null,
      "metadata": {
        "id": "vz3d-4WeIuhg"
      },
      "outputs": [],
      "source": [
        "estimators =[]\n",
        "model1= model5\n",
        "estimators.append(('lightgbm', model1))\n",
        "model2=rf\n",
        "estimators.append(('random_forest', model2))\n",
        "model3=xgb\n",
        "estimators.append(('xgboost', model3))\n",
        "'''Ensembling now'''\n",
        "ensemble = VotingClassifier(estimators, voting = 'soft', weights = [2,1,2])   #[2,1,2] best till now\n",
        "ensemble.fit(X_train_final, y_train)"
      ]
    },
    {
      "cell_type": "code",
      "execution_count": null,
      "metadata": {
        "id": "MOCK3zNYIuhg"
      },
      "outputs": [],
      "source": [
        "y_pred_ensemble = ensemble.predict(X_val_final)\n",
        "predictions = [round(value) for value in y_pred_ensemble]\n",
        "accuracy = accuracy_score(y_val, predictions)\n",
        "f_score = f1_score(y_pred_ensemble, y_val.iloc[:] , average = 'micro')\n",
        "print(\"Thresh=%.3f, n=%d, Accuracy: %.2f%%\" % (0.0048, X_train_final.shape[1], accuracy*100.0))\n",
        "print(\"f1 -score : \",f_score )"
      ]
    },
    {
      "cell_type": "code",
      "execution_count": null,
      "metadata": {
        "id": "_88EFcfJIuhg"
      },
      "outputs": [],
      "source": [
        "from sklearn.metrics import confusion_matrix\n",
        "cm = confusion_matrix(y_pred_ensemble, y_val)"
      ]
    },
    {
      "cell_type": "code",
      "execution_count": null,
      "metadata": {
        "id": "ff6r1jwVIuhg"
      },
      "outputs": [],
      "source": [
        "from sklearn.metrics import roc_auc_score\n",
        "sns.heatmap(cm,annot=True,fmt=\"d\", cbar = False)\n",
        "print(classification_report(y_pred_ensemble, y_val))"
      ]
    },
    {
      "cell_type": "code",
      "execution_count": null,
      "metadata": {
        "collapsed": true,
        "id": "jk6C93mYIuhg"
      },
      "outputs": [],
      "source": [
        "final_predict1 = ensemble.predict(test_final)"
      ]
    },
    {
      "cell_type": "code",
      "execution_count": null,
      "metadata": {
        "collapsed": true,
        "id": "P8tpA2toIuhh"
      },
      "outputs": [],
      "source": [
        "predictions = pd.DataFrame(ml_test['animal_id_outcome'])\n",
        "y_pred_df = pd.DataFrame(final_predict1, columns=['outcome_type'])\n",
        "results = pd.concat([predictions, y_pred_df], axis=1)\n",
        "results['outcome_type']= results['outcome_type'].map({ 8 :'Adoption', 7: 'Transfer', 6: 'Return to Owner', 5 : 'Euthanasia' , 4 : 'Died' , 3 : 'Missing' , 2 : 'Relocate' ,  1 : 'Rto-Adopt' , 0 : 'Disposal' }).astype(str)"
      ]
    },
    {
      "cell_type": "code",
      "execution_count": null,
      "metadata": {
        "collapsed": true,
        "id": "pDsDASkhIuhh"
      },
      "outputs": [],
      "source": [
        "results.to_csv('pred5_lgbm_64leavesestimator2_feb9_3.csv', index = False)"
      ]
    },
    {
      "cell_type": "markdown",
      "metadata": {
        "id": "lsV1cBaeIuhh"
      },
      "source": [
        "# Fitting entire dataset for best predictions for external test set"
      ]
    },
    {
      "cell_type": "markdown",
      "metadata": {
        "id": "31twpxINIuhh"
      },
      "source": [
        "** Fitting on complete dataset i.e. X_final_copy**"
      ]
    },
    {
      "cell_type": "code",
      "execution_count": null,
      "metadata": {
        "id": "WpdgHkcmIuhh"
      },
      "outputs": [],
      "source": [
        "X_final_copy = X_final_copy.drop(['Unknown_intake', 'intake_year', 'Thursday_intake'], axis = 1)\n",
        "X_final_copy.shape"
      ]
    },
    {
      "cell_type": "code",
      "execution_count": null,
      "metadata": {
        "id": "Q08lNe1HIuhh"
      },
      "outputs": [],
      "source": [
        "ensemble.fit(X_final_copy, y_final)"
      ]
    },
    {
      "cell_type": "code",
      "execution_count": null,
      "metadata": {
        "id": "ATQsAw7RIuhh"
      },
      "outputs": [],
      "source": [
        "y_predfull = ensemble.predict(test_final)"
      ]
    },
    {
      "cell_type": "code",
      "execution_count": null,
      "metadata": {
        "collapsed": true,
        "id": "uREHljrNIuhh"
      },
      "outputs": [],
      "source": [
        "predictions = pd.DataFrame(ml_test['animal_id_outcome'])\n",
        "y_pred_df = pd.DataFrame(y_predfull, columns=['outcome_type'])\n",
        "results = pd.concat([predictions, y_pred_df], axis=1)\n",
        "results['outcome_type']= results['outcome_type'].map({ 8 :'Adoption', 7: 'Transfer', 6: 'Return to Owner', 5 : 'Euthanasia' , 4 : 'Died' , 3 : 'Missing' , 2 : 'Relocate' ,  1 : 'Rto-Adopt' , 0 : 'Disposal' }).astype(str)"
      ]
    },
    {
      "cell_type": "code",
      "execution_count": null,
      "metadata": {
        "collapsed": true,
        "id": "W2QspdqjIuhi"
      },
      "outputs": [],
      "source": [
        "results.to_csv('voting_feb9_full_withmnthyear.csv', index = False)\n"
      ]
    },
    {
      "cell_type": "markdown",
      "metadata": {
        "id": "WRfXLgIkIuhi"
      },
      "source": [
        "**Miscellaneous Models**"
      ]
    },
    {
      "cell_type": "code",
      "execution_count": null,
      "metadata": {
        "collapsed": true,
        "id": "drPIw65VIuhi"
      },
      "outputs": [],
      "source": [
        "train_h2o = X_train_final.copy()\n",
        "test_h2o = X_val_final.copy()\n",
        "train_h2o_df = pd.concat([train_h2o, y_train], axis = 1)\n",
        "test_h2o_df  = pd.concat([test_h2o, y_val], axis = 1)"
      ]
    },
    {
      "cell_type": "code",
      "execution_count": null,
      "metadata": {
        "id": "43YFJf0lIuhi",
        "scrolled": false
      },
      "outputs": [],
      "source": [
        "#FITTING AUTO ML\n",
        "#NOTE IT TAKES LOT OF TIME \n",
        "import h2o\n",
        "from h2o.automl import H2OAutoML\n",
        "\n",
        "h2o.init()\n",
        "\n",
        "train_h2o_final = h2o.H2OFrame(train_h2o_df)\n",
        "test_h2o_final = h2o.H2OFrame(test_h2o_df)\n",
        "\n",
        "# Identify predictors and response\n",
        "x = train_h2o_final.columns\n",
        "y_h2o = \"outcome_type\"\n",
        "x.remove(y_h2o)\n",
        "\n",
        "# For binary classification, response should be a factor\n",
        "train_h2o_final[y_h2o] = train_h2o_final[y_h2o].asfactor()\n",
        "test_h2o_final[y_h2o] = test_h2o_final[y_h2o].asfactor()\n",
        "\n",
        "# Run AutoML for 20 base models (limited to 1 hour max runtime by default)\n",
        "aml = H2OAutoML(max_models=20, seed=1)\n",
        "aml.train(x=x, y=y_h2o, training_frame = train_h2o_final)\n",
        "\n",
        "# View the AutoML Leaderboard\n",
        "lb = aml.leaderboard\n",
        "lb.head(rows=lb.nrows)  # Print all rows instead of default (10 rows)\n",
        "\n",
        "# The leader model is stored here\n",
        "aml.leader"
      ]
    },
    {
      "cell_type": "code",
      "execution_count": null,
      "metadata": {
        "id": "-YG0VnoeIuhi"
      },
      "outputs": [],
      "source": [
        "test_h2o_dataset = h2o.H2OFrame(test_final)"
      ]
    },
    {
      "cell_type": "code",
      "execution_count": null,
      "metadata": {
        "id": "wp-1H1UUIuhi"
      },
      "outputs": [],
      "source": [
        "preds_h2o = aml.predict(test_h2o_dataset)\n",
        "preds_df = preds_h2o.as_data_frame()\n",
        "preds_matrix = preds_df.iloc[:,0]"
      ]
    },
    {
      "cell_type": "code",
      "execution_count": null,
      "metadata": {
        "collapsed": true,
        "id": "O_wyJio1Iuhi"
      },
      "outputs": [],
      "source": [
        "predictions = pd.DataFrame(ml_test['animal_id_outcome'])\n",
        "y_pred_df = pd.DataFrame(preds_matrix.values, columns=['outcome_type'])"
      ]
    },
    {
      "cell_type": "code",
      "execution_count": null,
      "metadata": {
        "collapsed": true,
        "id": "rVcyKyf8Iuhj"
      },
      "outputs": [],
      "source": [
        "results = pd.concat([predictions, y_pred_df], axis=1)\n",
        "results['outcome_type']= results['outcome_type'].map({ 8 :'Adoption', 7: 'Transfer', 6: 'Return to Owner', 5 : 'Euthanasia' , 4 : 'Died' , 3 : 'Missing' , 2 : 'Relocate' ,  1 : 'Rto-Adopt' , 0 : 'Disposal' }).astype(str)"
      ]
    },
    {
      "cell_type": "code",
      "execution_count": null,
      "metadata": {
        "collapsed": true,
        "id": "aE3CPqqPIuhj"
      },
      "outputs": [],
      "source": [
        "y_pred_df = pd.DataFrame(preds_matrix.values, columns=['outcome_type'])"
      ]
    },
    {
      "cell_type": "code",
      "execution_count": null,
      "metadata": {
        "collapsed": true,
        "id": "ERZd24fzIuhj"
      },
      "outputs": [],
      "source": [
        "results.to_csv('pred6_gbm_automl.csv', index = False)"
      ]
    },
    {
      "cell_type": "markdown",
      "metadata": {
        "id": "hHRY2G0JIuhj"
      },
      "source": [
        "**Final results:**\n",
        "\n",
        "Best Model: Voting Classifier(Ensemble of lightgbm, random forest and xgboost)\n",
        "\n",
        "Best F1_score on validation set :  "
      ]
    },
    {
      "cell_type": "code",
      "execution_count": null,
      "metadata": {
        "collapsed": true,
        "id": "O1R_IWLdIuhj"
      },
      "outputs": [],
      "source": [
        ""
      ]
    }
  ],
  "metadata": {
    "colab": {
      "name": "new.ipynb",
      "provenance": [],
      "collapsed_sections": []
    },
    "kernelspec": {
      "display_name": "Python 3",
      "language": "python",
      "name": "python3"
    },
    "language_info": {
      "codemirror_mode": {
        "name": "ipython",
        "version": 3
      },
      "file_extension": ".py",
      "mimetype": "text/x-python",
      "name": "python",
      "nbconvert_exporter": "python",
      "pygments_lexer": "ipython3",
      "version": "3.7.1"
    }
  },
  "nbformat": 4,
  "nbformat_minor": 0
}